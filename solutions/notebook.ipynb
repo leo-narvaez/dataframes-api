{
 "cells": [
  {
   "cell_type": "code",
   "execution_count": 0,
   "metadata": {
    "application/vnd.databricks.v1+cell": {
     "cellMetadata": {
      "byteLimit": 2048000,
      "rowLimit": 10000
     },
     "inputWidgets": {},
     "nuid": "c6c667d4-0bb8-4570-9fc3-c94c3efcd6e5",
     "showTitle": false,
     "tableResultSettingsMap": {},
     "title": ""
    }
   },
   "outputs": [
    {
     "name": "stdout",
     "output_type": "stream",
     "text": [
      "root\n",
      " |-- ProductID: integer (nullable = true)\n",
      " |-- Date: date (nullable = true)\n",
      " |-- Zip: string (nullable = true)\n",
      " |-- Units: integer (nullable = true)\n",
      " |-- Revenue: double (nullable = true)\n",
      " |-- Country: string (nullable = true)\n",
      "\n"
     ]
    }
   ],
   "source": [
    "from pyspark.sql import SparkSession\n",
    "\n",
    "spark = SparkSession.builder.appName(\"s8a-dataframes-api\").getOrCreate()\n",
    "# Lectura de CSV con el ; como separador de columnas y con encabezado\n",
    "df = spark.read.option(\"sep\",\";\").option(\"header\", \"true\").option(\"inferSchema\", \"true\").csv(\"/FileStore/dataframes-api/dataset/pdi_sales_small.csv\")\n",
    "df.printSchema()"
   ]
  },
  {
   "cell_type": "markdown",
   "metadata": {
    "application/vnd.databricks.v1+cell": {
     "cellMetadata": {
      "byteLimit": 2048000,
      "rowLimit": 10000
     },
     "inputWidgets": {},
     "nuid": "0b7299f8-8832-49be-8da9-d11faf731be9",
     "showTitle": false,
     "tableResultSettingsMap": {},
     "title": ""
    }
   },
   "source": [
    "# Agregaciones"
   ]
  },
  {
   "cell_type": "markdown",
   "metadata": {
    "application/vnd.databricks.v1+cell": {
     "cellMetadata": {
      "byteLimit": 2048000,
      "rowLimit": 10000
     },
     "inputWidgets": {},
     "nuid": "92d037bf-259b-4874-86c3-5169170650ea",
     "showTitle": false,
     "tableResultSettingsMap": {},
     "title": ""
    }
   },
   "source": [
    "Una vez tenemos un DataFrame, podemos realizar analítica de datos sobre el dataset entero, o sobre una o más columnas y aplicar una función de agregación que permita sumar, contar o calcular la media de cualquier grupo, entre otras opciones. Para ello, PySpark ofrece un amplio [conjunto de funciones](https://spark.apache.org/docs/latest/api/python/reference/pyspark.sql.html#functions). En nuestro caso, vamos a realizar algunos ejemplos para practicar con las funciones más empleadas."
   ]
  },
  {
   "cell_type": "markdown",
   "metadata": {
    "application/vnd.databricks.v1+cell": {
     "cellMetadata": {
      "byteLimit": 2048000,
      "rowLimit": 10000
     },
     "inputWidgets": {},
     "nuid": "c9abc2b4-d03b-4842-8549-0363f681233e",
     "showTitle": false,
     "tableResultSettingsMap": {},
     "title": ""
    }
   },
   "source": [
    "## Contando"
   ]
  },
  {
   "cell_type": "markdown",
   "metadata": {
    "application/vnd.databricks.v1+cell": {
     "cellMetadata": {
      "byteLimit": 2048000,
      "rowLimit": 10000
     },
     "inputWidgets": {},
     "nuid": "856f4bb2-e560-4b9c-a919-f37b34126292",
     "showTitle": false,
     "tableResultSettingsMap": {},
     "title": ""
    }
   },
   "source": [
    "**[count](https://spark.apache.org/docs/latest/api/python/reference/pyspark.sql/api/pyspark.sql.functions.count.html)** : Devuelve la cantidad de elementos no nulos."
   ]
  },
  {
   "cell_type": "code",
   "execution_count": 0,
   "metadata": {
    "application/vnd.databricks.v1+cell": {
     "cellMetadata": {
      "byteLimit": 2048000,
      "rowLimit": 10000
     },
     "inputWidgets": {},
     "nuid": "b3cd21a6-29a7-4e90-affb-51981932c21d",
     "showTitle": false,
     "tableResultSettingsMap": {},
     "title": ""
    }
   },
   "outputs": [
    {
     "name": "stdout",
     "output_type": "stream",
     "text": [
      "+--------------+\n",
      "|count(Country)|\n",
      "+--------------+\n",
      "|120239        |\n",
      "+--------------+\n",
      "\n"
     ]
    }
   ],
   "source": [
    "from pyspark.sql.functions import count\n",
    "df.select(count(\"Country\")).show(5, truncate=False)"
   ]
  },
  {
   "cell_type": "markdown",
   "metadata": {
    "application/vnd.databricks.v1+cell": {
     "cellMetadata": {
      "byteLimit": 2048000,
      "rowLimit": 10000
     },
     "inputWidgets": {},
     "nuid": "f4fab414-7f7c-46e2-8944-c9df6dba2851",
     "showTitle": false,
     "tableResultSettingsMap": {},
     "title": ""
    }
   },
   "source": [
    "**[count_distinct/countDistinct](https://spark.apache.org/docs/latest/api/python/reference/pyspark.sql/api/pyspark.sql.functions.count_distinct.html):** Devuelve la cantidad de elementos no nulos diferentes:  "
   ]
  },
  {
   "cell_type": "code",
   "execution_count": 0,
   "metadata": {
    "application/vnd.databricks.v1+cell": {
     "cellMetadata": {
      "byteLimit": 2048000,
      "rowLimit": 10000
     },
     "inputWidgets": {},
     "nuid": "bc77c874-38e4-4db2-a524-94c9789acdbd",
     "showTitle": false,
     "tableResultSettingsMap": {},
     "title": ""
    }
   },
   "outputs": [
    {
     "name": "stdout",
     "output_type": "stream",
     "text": [
      "+-----------------------+-------------------+\n",
      "|count(DISTINCT Country)|count(DISTINCT Zip)|\n",
      "+-----------------------+-------------------+\n",
      "|5                      |2585               |\n",
      "+-----------------------+-------------------+\n",
      "\n"
     ]
    }
   ],
   "source": [
    "from pyspark.sql.functions import count_distinct\n",
    "df.select(count_distinct(\"Country\"), count_distinct(\"Zip\")).show(5, truncate=False)"
   ]
  },
  {
   "cell_type": "markdown",
   "metadata": {
    "application/vnd.databricks.v1+cell": {
     "cellMetadata": {
      "byteLimit": 2048000,
      "rowLimit": 10000
     },
     "inputWidgets": {},
     "nuid": "092067d6-c0ac-4d9f-9709-9328cd49e456",
     "showTitle": false,
     "tableResultSettingsMap": {},
     "title": ""
    }
   },
   "source": [
    "**[approx_count_distinct / approxCountDistinct:](https://spark.apache.org/docs/latest/api/python/reference/pyspark.sql/api/pyspark.sql.functions.approx_count_distinct.html)** Devuelve aproximadamente la cantidad de elementos no nulos diferentes (puede recibir un segundo parámetro la máximo desviación estándar admitida). Este método es mucho más rápido que contar exactamente el número de resultado, y para datasets muy grandes, en ocasiones puede ser útil:"
   ]
  },
  {
   "cell_type": "code",
   "execution_count": 0,
   "metadata": {
    "application/vnd.databricks.v1+cell": {
     "cellMetadata": {
      "byteLimit": 2048000,
      "rowLimit": 10000
     },
     "inputWidgets": {},
     "nuid": "f883572b-802d-4688-a92b-11ae088eaafa",
     "showTitle": false,
     "tableResultSettingsMap": {},
     "title": ""
    }
   },
   "outputs": [
    {
     "name": "stdout",
     "output_type": "stream",
     "text": [
      "+------------------------------+--------------------------+\n",
      "|approx_count_distinct(Country)|approx_count_distinct(Zip)|\n",
      "+------------------------------+--------------------------+\n",
      "|5                             |2737                      |\n",
      "+------------------------------+--------------------------+\n",
      "\n"
     ]
    }
   ],
   "source": [
    "from pyspark.sql.functions import approx_count_distinct\n",
    "df.select(approx_count_distinct(\"Country\"), approx_count_distinct(\"Zip\")).show(5, truncate=False)"
   ]
  },
  {
   "cell_type": "markdown",
   "metadata": {
    "application/vnd.databricks.v1+cell": {
     "cellMetadata": {
      "byteLimit": 2048000,
      "rowLimit": 10000
     },
     "inputWidgets": {},
     "nuid": "f40283de-50a9-4521-8637-c0f54bad6bcf",
     "showTitle": false,
     "tableResultSettingsMap": {},
     "title": ""
    }
   },
   "source": [
    "## Calculando"
   ]
  },
  {
   "cell_type": "markdown",
   "metadata": {
    "application/vnd.databricks.v1+cell": {
     "cellMetadata": {
      "byteLimit": 2048000,
      "rowLimit": 10000
     },
     "inputWidgets": {},
     "nuid": "d09b2b8a-57e8-42c4-9ec0-b5e2e22db093",
     "showTitle": false,
     "tableResultSettingsMap": {},
     "title": ""
    }
   },
   "source": [
    "**[min](https://spark.apache.org/docs/latest/api/python/reference/pyspark.sql/api/pyspark.sql.functions.min.html) y [max](https://spark.apache.org/docs/latest/api/python/reference/pyspark.sql/api/pyspark.sql.functions.max.html)**: permiten obtener el menor y el mayor valor respectivamente:"
   ]
  },
  {
   "cell_type": "code",
   "execution_count": 0,
   "metadata": {
    "application/vnd.databricks.v1+cell": {
     "cellMetadata": {
      "byteLimit": 2048000,
      "rowLimit": 10000
     },
     "inputWidgets": {},
     "nuid": "7bd9f5e7-55cf-4300-83d2-73ab2960f450",
     "showTitle": false,
     "tableResultSettingsMap": {},
     "title": ""
    }
   },
   "outputs": [
    {
     "name": "stdout",
     "output_type": "stream",
     "text": [
      "+----------+----------+\n",
      "|min(Units)|max(Units)|\n",
      "+----------+----------+\n",
      "|1         |77        |\n",
      "+----------+----------+\n",
      "\n"
     ]
    }
   ],
   "source": [
    "from pyspark.sql.functions import min, max\n",
    "df.select(min(\"Units\"), max(\"Units\")).show(5, truncate=False)"
   ]
  },
  {
   "cell_type": "markdown",
   "metadata": {
    "application/vnd.databricks.v1+cell": {
     "cellMetadata": {
      "byteLimit": 2048000,
      "rowLimit": 10000
     },
     "inputWidgets": {},
     "nuid": "354779ee-7ab4-4257-9044-1b111a20db9f",
     "showTitle": false,
     "tableResultSettingsMap": {},
     "title": ""
    }
   },
   "source": [
    "[sum](https://spark.apache.org/docs/latest/api/python/reference/pyspark.sql/api/pyspark.sql.functions.sum.html) permite sumar todos los valores de una columna:"
   ]
  },
  {
   "cell_type": "code",
   "execution_count": 0,
   "metadata": {
    "application/vnd.databricks.v1+cell": {
     "cellMetadata": {
      "byteLimit": 2048000,
      "rowLimit": 10000
     },
     "inputWidgets": {},
     "nuid": "135293ca-4f80-4e18-b4c4-faa7bd3ccb0c",
     "showTitle": false,
     "tableResultSettingsMap": {},
     "title": ""
    }
   },
   "outputs": [
    {
     "name": "stdout",
     "output_type": "stream",
     "text": [
      "+----------+-------------------+\n",
      "|sum(Units)|sum(Revenue)       |\n",
      "+----------+-------------------+\n",
      "|125728    |5.010727499998837E7|\n",
      "+----------+-------------------+\n",
      "\n"
     ]
    }
   ],
   "source": [
    "from pyspark.sql.functions import sum\n",
    "df.select(sum(\"Units\"), sum(\"Revenue\")).show(5, truncate=False)"
   ]
  },
  {
   "cell_type": "markdown",
   "metadata": {
    "application/vnd.databricks.v1+cell": {
     "cellMetadata": {
      "byteLimit": 2048000,
      "rowLimit": 10000
     },
     "inputWidgets": {},
     "nuid": "c9dc0a8d-b62d-4f10-9104-67cc313f8b86",
     "showTitle": false,
     "tableResultSettingsMap": {},
     "title": ""
    }
   },
   "source": [
    "**[sum_distinct / sumDistinct](https://spark.apache.org/docs/latest/api/python/reference/pyspark.sql/api/pyspark.sql.functions.sum_distinct.html)**: suma los valores diferentes de una columna:"
   ]
  },
  {
   "cell_type": "code",
   "execution_count": 0,
   "metadata": {
    "application/vnd.databricks.v1+cell": {
     "cellMetadata": {
      "byteLimit": 2048000,
      "rowLimit": 10000
     },
     "inputWidgets": {},
     "nuid": "ab6f8547-78b9-442d-9ce5-2a225dbf8f09",
     "showTitle": false,
     "tableResultSettingsMap": {},
     "title": ""
    }
   },
   "outputs": [
    {
     "name": "stdout",
     "output_type": "stream",
     "text": [
      "+-------------------+---------------------+\n",
      "|sum(DISTINCT Units)|sum(DISTINCT Revenue)|\n",
      "+-------------------+---------------------+\n",
      "|308                |1189127.099999999    |\n",
      "+-------------------+---------------------+\n",
      "\n"
     ]
    }
   ],
   "source": [
    "from pyspark.sql.functions import sum_distinct\n",
    "df.select(sum_distinct(\"Units\"), sum_distinct(\"Revenue\")).show(5, truncate=False)"
   ]
  },
  {
   "cell_type": "markdown",
   "metadata": {
    "application/vnd.databricks.v1+cell": {
     "cellMetadata": {
      "byteLimit": 2048000,
      "rowLimit": 10000
     },
     "inputWidgets": {},
     "nuid": "23c81129-19f4-4d4b-936a-40467f789297",
     "showTitle": false,
     "tableResultSettingsMap": {},
     "title": ""
    }
   },
   "source": [
    "**Asimetría, varianza y desviación estándar**: Si nos interesa obtener información estadística sobre los datos, también disponemos de las funciones `skewness`, `kurtosis`, `variance`, `var_pop`, `stddev` y `stddev_pop`."
   ]
  },
  {
   "cell_type": "markdown",
   "metadata": {
    "application/vnd.databricks.v1+cell": {
     "cellMetadata": {
      "byteLimit": 2048000,
      "rowLimit": 10000
     },
     "inputWidgets": {},
     "nuid": "ecacf2e2-b1df-446b-8d81-0df105959a45",
     "showTitle": false,
     "tableResultSettingsMap": {},
     "title": ""
    }
   },
   "source": [
    "> Actividad: Desarrolla ejemplos simples de como calcular con Pyspark las funciones `skewness`, `kurtosis`, `variance`, `var_pop`, `stddev` y `stddev_pop`. Explicar como se interpretan cada una de ellas."
   ]
  },
  {
   "cell_type": "markdown",
   "metadata": {
    "application/vnd.databricks.v1+cell": {
     "cellMetadata": {
      "byteLimit": 2048000,
      "rowLimit": 10000
     },
     "inputWidgets": {},
     "nuid": "76c83cad-b0b0-43b6-96bf-3097268c8b5a",
     "showTitle": false,
     "tableResultSettingsMap": {},
     "title": ""
    }
   },
   "source": [
    "`Skewness` (Sesgo)\n",
    "El skewness nos indica la asimetría de los datos. Usaremos la columna Units como ejemplo:"
   ]
  },
  {
   "cell_type": "code",
   "execution_count": 0,
   "metadata": {
    "application/vnd.databricks.v1+cell": {
     "cellMetadata": {
      "byteLimit": 2048000,
      "rowLimit": 10000
     },
     "inputWidgets": {},
     "nuid": "db3d0749-19ad-45f2-b26e-1f74af72b74b",
     "showTitle": false,
     "tableResultSettingsMap": {},
     "title": ""
    }
   },
   "outputs": [
    {
     "name": "stdout",
     "output_type": "stream",
     "text": [
      "+-----------------+\n",
      "|Skewness         |\n",
      "+-----------------+\n",
      "|82.93416153957504|\n",
      "+-----------------+\n",
      "\n"
     ]
    }
   ],
   "source": [
    "from pyspark.sql.functions import skewness\n",
    "\n",
    "# Calcular skewness de la columna 'Units'\n",
    "df.select(skewness(\"Units\").alias(\"Skewness\")).show(5, truncate=False)\n",
    "\n"
   ]
  },
  {
   "cell_type": "markdown",
   "metadata": {
    "application/vnd.databricks.v1+cell": {
     "cellMetadata": {
      "byteLimit": 2048000,
      "rowLimit": 10000
     },
     "inputWidgets": {},
     "nuid": "b8132ac4-5252-43b6-bc87-49f57e4b3ec9",
     "showTitle": false,
     "tableResultSettingsMap": {},
     "title": ""
    }
   },
   "source": [
    "`Kurtosis`\n",
    "La kurtosis mide qué tan altos y estrechos son los picos en los datos. Vamos a calcularlo para Revenue:"
   ]
  },
  {
   "cell_type": "code",
   "execution_count": 0,
   "metadata": {
    "application/vnd.databricks.v1+cell": {
     "cellMetadata": {
      "byteLimit": 2048000,
      "rowLimit": 10000
     },
     "inputWidgets": {},
     "nuid": "6d9a79dd-2f2e-4cf9-9c67-bd9edb411b9b",
     "showTitle": false,
     "tableResultSettingsMap": {},
     "title": ""
    }
   },
   "outputs": [
    {
     "name": "stdout",
     "output_type": "stream",
     "text": [
      "+-----------------+\n",
      "|Kurtosis         |\n",
      "+-----------------+\n",
      "|1863.073715098713|\n",
      "+-----------------+\n",
      "\n"
     ]
    }
   ],
   "source": [
    "from pyspark.sql.functions import kurtosis\n",
    "\n",
    "# Calcular kurtosis de la columna 'Revenue'\n",
    "df.select(kurtosis(\"Revenue\").alias(\"Kurtosis\")).show(5, truncate=False)"
   ]
  },
  {
   "cell_type": "markdown",
   "metadata": {
    "application/vnd.databricks.v1+cell": {
     "cellMetadata": {
      "byteLimit": 2048000,
      "rowLimit": 10000
     },
     "inputWidgets": {},
     "nuid": "3745776d-f28f-4423-8d72-f78a26a15b05",
     "showTitle": false,
     "tableResultSettingsMap": {},
     "title": ""
    }
   },
   "source": [
    "`Variance` (Varianza)\n",
    "La varianza nos dice cuánto se dispersan los datos respecto a su media. Vamos a calcular la varianza de Units:\n"
   ]
  },
  {
   "cell_type": "code",
   "execution_count": 0,
   "metadata": {
    "application/vnd.databricks.v1+cell": {
     "cellMetadata": {
      "byteLimit": 2048000,
      "rowLimit": 10000
     },
     "inputWidgets": {},
     "nuid": "4a44f870-e288-47c6-b52a-17bcbb96a198",
     "showTitle": false,
     "tableResultSettingsMap": {},
     "title": ""
    }
   },
   "outputs": [
    {
     "name": "stdout",
     "output_type": "stream",
     "text": [
      "+-------------------+\n",
      "|Variance           |\n",
      "+-------------------+\n",
      "|0.15890503050126042|\n",
      "+-------------------+\n",
      "\n"
     ]
    }
   ],
   "source": [
    "from pyspark.sql.functions import variance\n",
    "\n",
    "# Calcular la varianza de la columna 'Units'\n",
    "df.select(variance(\"Units\").alias(\"Variance\")).show(5, truncate=False)\n"
   ]
  },
  {
   "cell_type": "markdown",
   "metadata": {
    "application/vnd.databricks.v1+cell": {
     "cellMetadata": {
      "byteLimit": 2048000,
      "rowLimit": 10000
     },
     "inputWidgets": {},
     "nuid": "fea0b043-2369-4f1a-9d98-966e7d644d6a",
     "showTitle": false,
     "tableResultSettingsMap": {},
     "title": ""
    }
   },
   "source": [
    "Varianza Poblacional (`var_pop`)\n",
    "La varianza poblacional se calcula considerando todo el conjunto de datos como población. Vamos a calcularlo para Revenue:"
   ]
  },
  {
   "cell_type": "code",
   "execution_count": 0,
   "metadata": {
    "application/vnd.databricks.v1+cell": {
     "cellMetadata": {
      "byteLimit": 2048000,
      "rowLimit": 10000
     },
     "inputWidgets": {},
     "nuid": "ced47fd9-68aa-4147-9c47-fe0d070f8d01",
     "showTitle": false,
     "tableResultSettingsMap": {},
     "title": ""
    }
   },
   "outputs": [
    {
     "name": "stdout",
     "output_type": "stream",
     "text": [
      "+------------------+\n",
      "|Var_Pop           |\n",
      "+------------------+\n",
      "|123345.05745186073|\n",
      "+------------------+\n",
      "\n"
     ]
    }
   ],
   "source": [
    "from pyspark.sql.functions import var_pop\n",
    "\n",
    "# Calcular varianza poblacional de la columna 'Revenue'\n",
    "df.select(var_pop(\"Revenue\").alias(\"Var_Pop\")).show(5, truncate=False)"
   ]
  },
  {
   "cell_type": "markdown",
   "metadata": {
    "application/vnd.databricks.v1+cell": {
     "cellMetadata": {
      "byteLimit": 2048000,
      "rowLimit": 10000
     },
     "inputWidgets": {},
     "nuid": "077cc66a-7000-4b9d-a868-580b39e54fc4",
     "showTitle": false,
     "tableResultSettingsMap": {},
     "title": ""
    }
   },
   "source": [
    "Desviación Estándar (`stddev`)\n",
    "La desviación estándar nos muestra cuánto se dispersan los datos. Usaremos Units:"
   ]
  },
  {
   "cell_type": "code",
   "execution_count": 0,
   "metadata": {
    "application/vnd.databricks.v1+cell": {
     "cellMetadata": {
      "byteLimit": 2048000,
      "rowLimit": 10000
     },
     "inputWidgets": {},
     "nuid": "2dde1898-c44f-47b5-a38b-e83b7d581e14",
     "showTitle": false,
     "tableResultSettingsMap": {},
     "title": ""
    }
   },
   "outputs": [
    {
     "name": "stdout",
     "output_type": "stream",
     "text": [
      "+------------------+\n",
      "|Stddev            |\n",
      "+------------------+\n",
      "|0.3986289383640636|\n",
      "+------------------+\n",
      "\n"
     ]
    }
   ],
   "source": [
    "from pyspark.sql.functions import stddev\n",
    "\n",
    "# Calcular la desviación estándar de la columna 'Units'\n",
    "df.select(stddev(\"Units\").alias(\"Stddev\")).show(5, truncate=False)\n"
   ]
  },
  {
   "cell_type": "markdown",
   "metadata": {
    "application/vnd.databricks.v1+cell": {
     "cellMetadata": {
      "byteLimit": 2048000,
      "rowLimit": 10000
     },
     "inputWidgets": {},
     "nuid": "352c2d4f-c116-404a-a078-00ba3236760a",
     "showTitle": false,
     "tableResultSettingsMap": {},
     "title": ""
    }
   },
   "source": [
    "Desviación Estándar Poblacional (`stddev_pop`)\n",
    "La desviación estándar poblacional se utiliza cuando tienes la población completa de datos. Vamos a calcularla para Revenue:"
   ]
  },
  {
   "cell_type": "code",
   "execution_count": 0,
   "metadata": {
    "application/vnd.databricks.v1+cell": {
     "cellMetadata": {
      "byteLimit": 2048000,
      "rowLimit": 10000
     },
     "inputWidgets": {},
     "nuid": "4a0d729d-443e-4ae9-a220-770b97b8d8a6",
     "showTitle": false,
     "tableResultSettingsMap": {},
     "title": ""
    }
   },
   "outputs": [
    {
     "name": "stdout",
     "output_type": "stream",
     "text": [
      "+------------------+\n",
      "|Stddev_Pop        |\n",
      "+------------------+\n",
      "|351.20515009302005|\n",
      "+------------------+\n",
      "\n"
     ]
    }
   ],
   "source": [
    "from pyspark.sql.functions import stddev_pop\n",
    "\n",
    "# Calcular desviación estándar poblacional de la columna 'Revenue'\n",
    "df.select(stddev_pop(\"Revenue\").alias(\"Stddev_Pop\")).show(5, truncate=False)\n"
   ]
  },
  {
   "cell_type": "markdown",
   "metadata": {
    "application/vnd.databricks.v1+cell": {
     "cellMetadata": {
      "byteLimit": 2048000,
      "rowLimit": 10000
     },
     "inputWidgets": {},
     "nuid": "c5ea98c4-1501-44a2-9a04-a7a22827a539",
     "showTitle": false,
     "tableResultSettingsMap": {},
     "title": ""
    }
   },
   "source": [
    "## Agrupando  \n",
    "\n",
    "Si agrupamos varias columnas de tipo categóricas (con una cardinalidad baja), podemos realizar cálculos sobre el resto de columnas.  \n",
    "\n",
    "Sobre un DataFrame, podemos agrupar los datos por la columna que queramos utilizando el método[ groupBy](https://spark.apache.org/docs/latest/api/python/reference/pyspark.sql/api/pyspark.sql.DataFrame.groupBy.html), el cual nos devuelve un [GroupedData](https://spark.apache.org/docs/latest/api/python/reference/pyspark.sql/api/pyspark.sql.GroupedData.html#pyspark.sql.GroupedData), sobre el que posteriormente realizar operaciones como `avg(cols)`, `count()`, `mean(cols)`, `min(cols)`, `max(cols)` o `sum(cols)`:"
   ]
  },
  {
   "cell_type": "markdown",
   "metadata": {
    "application/vnd.databricks.v1+cell": {
     "cellMetadata": {
      "byteLimit": 2048000,
      "rowLimit": 10000
     },
     "inputWidgets": {},
     "nuid": "dd074476-fd84-4a95-9132-1449f8b15d55",
     "showTitle": false,
     "tableResultSettingsMap": {},
     "title": ""
    }
   },
   "source": [
    "**count**: "
   ]
  },
  {
   "cell_type": "code",
   "execution_count": 0,
   "metadata": {
    "application/vnd.databricks.v1+cell": {
     "cellMetadata": {
      "byteLimit": 2048000,
      "rowLimit": 10000
     },
     "inputWidgets": {},
     "nuid": "217e67a5-f857-489b-88aa-59a02fefddc2",
     "showTitle": false,
     "tableResultSettingsMap": {},
     "title": ""
    }
   },
   "outputs": [
    {
     "name": "stdout",
     "output_type": "stream",
     "text": [
      "+-------+-----+\n",
      "|Country|count|\n",
      "+-------+-----+\n",
      "|Germany|30059|\n",
      "|France |30059|\n",
      "|Canada |30060|\n",
      "|Mexico |30060|\n",
      "|France |1    |\n",
      "+-------+-----+\n",
      "\n"
     ]
    }
   ],
   "source": [
    "from pyspark.sql.functions import sum\n",
    "df.groupBy(\"Country\").count().show(5, truncate=False)"
   ]
  },
  {
   "cell_type": "markdown",
   "metadata": {
    "application/vnd.databricks.v1+cell": {
     "cellMetadata": {
      "byteLimit": 2048000,
      "rowLimit": 10000
     },
     "inputWidgets": {},
     "nuid": "f81da1b1-f5f2-4238-a741-4463ad6ef947",
     "showTitle": false,
     "tableResultSettingsMap": {},
     "title": ""
    }
   },
   "source": [
    "**sum**"
   ]
  },
  {
   "cell_type": "code",
   "execution_count": 0,
   "metadata": {
    "application/vnd.databricks.v1+cell": {
     "cellMetadata": {
      "byteLimit": 2048000,
      "rowLimit": 10000
     },
     "inputWidgets": {},
     "nuid": "2cfea4ca-4c39-4fb3-b230-5b3c87e4a4b8",
     "showTitle": false,
     "tableResultSettingsMap": {},
     "title": ""
    }
   },
   "outputs": [
    {
     "name": "stdout",
     "output_type": "stream",
     "text": [
      "+-------+--------------------+\n",
      "|Country|sum(Revenue)        |\n",
      "+-------+--------------------+\n",
      "|Germany|1.49821199999994E7  |\n",
      "|France |1.2086961900000686E7|\n",
      "|Canada |1.1642614200001836E7|\n",
      "|Mexico |1.1394598700001087E7|\n",
      "|France |980.2               |\n",
      "+-------+--------------------+\n",
      "\n"
     ]
    }
   ],
   "source": [
    "df.groupBy(\"Country\").sum(\"Revenue\").show(5, truncate=False)"
   ]
  },
  {
   "cell_type": "markdown",
   "metadata": {
    "application/vnd.databricks.v1+cell": {
     "cellMetadata": {
      "byteLimit": 2048000,
      "rowLimit": 10000
     },
     "inputWidgets": {},
     "nuid": "a96b2c33-ebdb-488b-bc95-b57563c3a336",
     "showTitle": false,
     "tableResultSettingsMap": {},
     "title": ""
    }
   },
   "source": [
    "Si necesitamos realizar más de un agregación sobre el mismo grupo, mediante [agg](https://spark.apache.org/docs/latest/api/python/reference/pyspark.sql/api/pyspark.sql.GroupedData.agg.html) podemos indicar una o más expresiones de columnas:"
   ]
  },
  {
   "cell_type": "code",
   "execution_count": 0,
   "metadata": {
    "application/vnd.databricks.v1+cell": {
     "cellMetadata": {
      "byteLimit": 2048000,
      "rowLimit": 10000
     },
     "inputWidgets": {},
     "nuid": "cd6ba3e9-f0f2-402a-bb4c-b2c328e1c9f3",
     "showTitle": false,
     "tableResultSettingsMap": {},
     "title": ""
    }
   },
   "outputs": [
    {
     "name": "stdout",
     "output_type": "stream",
     "text": [
      "+-------+--------------------+--------------+\n",
      "|Country|sum(Revenue)        |count(Revenue)|\n",
      "+-------+--------------------+--------------+\n",
      "|Germany|1.49821199999994E7  |30059         |\n",
      "|France |1.2086961900000686E7|30059         |\n",
      "|Canada |1.1642614200001836E7|30060         |\n",
      "|Mexico |1.1394598700001087E7|30060         |\n",
      "|France |980.2               |1             |\n",
      "+-------+--------------------+--------------+\n",
      "\n"
     ]
    }
   ],
   "source": [
    "from pyspark.sql.functions import sum, count\n",
    "df.groupBy(\"Country\").agg(sum(\"Revenue\"), count(\"Revenue\")).show(5, truncate=False)"
   ]
  },
  {
   "cell_type": "markdown",
   "metadata": {
    "application/vnd.databricks.v1+cell": {
     "cellMetadata": {
      "byteLimit": 2048000,
      "rowLimit": 10000
     },
     "inputWidgets": {},
     "nuid": "e9d2a844-b170-4eb7-a855-dcb063cedd5e",
     "showTitle": false,
     "tableResultSettingsMap": {},
     "title": ""
    }
   },
   "source": [
    "También podemos indicar los elementos a calcular mediante un diccionario donde las claves son los campos y los valores la función a calcular:"
   ]
  },
  {
   "cell_type": "code",
   "execution_count": 0,
   "metadata": {
    "application/vnd.databricks.v1+cell": {
     "cellMetadata": {
      "byteLimit": 2048000,
      "rowLimit": 10000
     },
     "inputWidgets": {},
     "nuid": "227c38d9-a10e-4c3c-9030-ad2a5b79cdcd",
     "showTitle": false,
     "tableResultSettingsMap": {},
     "title": ""
    }
   },
   "outputs": [
    {
     "name": "stdout",
     "output_type": "stream",
     "text": [
      "+-------+----------+------------------+\n",
      "|Country|count(Zip)|avg(Revenue)      |\n",
      "+-------+----------+------------------+\n",
      "|Germany|30059     |498.4237665923484 |\n",
      "|France |30059     |402.1079177617581 |\n",
      "|Canada |30060     |387.31251497012096|\n",
      "|Mexico |30060     |379.0618330007015 |\n",
      "|France |1         |980.2             |\n",
      "+-------+----------+------------------+\n",
      "\n"
     ]
    }
   ],
   "source": [
    "df.groupBy(\"Country\").agg({\"Zip\":\"count\", \"Revenue\":\"avg\"}).show(5, truncate=False)"
   ]
  },
  {
   "cell_type": "markdown",
   "metadata": {
    "application/vnd.databricks.v1+cell": {
     "cellMetadata": {
      "byteLimit": 2048000,
      "rowLimit": 10000
     },
     "inputWidgets": {},
     "nuid": "4574afbf-6a5a-48a7-920a-f02d82e51d40",
     "showTitle": false,
     "tableResultSettingsMap": {},
     "title": ""
    }
   },
   "source": [
    "## Agrupando colecciones"
   ]
  },
  {
   "cell_type": "markdown",
   "metadata": {
    "application/vnd.databricks.v1+cell": {
     "cellMetadata": {
      "byteLimit": 2048000,
      "rowLimit": 10000
     },
     "inputWidgets": {},
     "nuid": "38d42086-103a-4186-8f0e-5c90c2016266",
     "showTitle": false,
     "tableResultSettingsMap": {},
     "title": ""
    }
   },
   "source": [
    "En ocasiones necesitamos agrupar en una colección todos los valores para un grupo en particular. Para ello, podemos usar [collect_list](https://spark.apache.org/docs/latest/api/python/reference/pyspark.sql/api/pyspark.sql.functions.collect_list.html) (con repetidos) o [collect_set](https://spark.apache.org/docs/latest/api/python/reference/pyspark.sql/api/pyspark.sql.functions.collect_set.html) (sin repeticiones):  \n",
    "\n",
    "Por ejemplo, para cada país, vamos a recuperar un listado con los códigos postales de aquellos pedidos que hayan superado las 5 unidades:"
   ]
  },
  {
   "cell_type": "code",
   "execution_count": 0,
   "metadata": {
    "application/vnd.databricks.v1+cell": {
     "cellMetadata": {
      "byteLimit": 2048000,
      "rowLimit": 10000
     },
     "inputWidgets": {},
     "nuid": "683459dd-5c7c-46dc-bb76-25fa24f0210b",
     "showTitle": false,
     "tableResultSettingsMap": {},
     "title": ""
    }
   },
   "outputs": [
    {
     "name": "stdout",
     "output_type": "stream",
     "text": [
      "+-------+--------------------+--------------------+\n",
      "|Country|   collect_list(Zip)|    collect_set(Zip)|\n",
      "+-------+--------------------+--------------------+\n",
      "|Germany|[22397          ,...|[22111          ,...|\n",
      "|France |[75213 CEDEX 16 ,...|[75391 CEDEX 08 ,...|\n",
      "|Mexico |[7100           ,...|[10300          ,...|\n",
      "|Canada |[T2X            ,...|[T6V            ,...|\n",
      "+-------+--------------------+--------------------+\n",
      "\n"
     ]
    }
   ],
   "source": [
    "from pyspark.sql.functions import collect_list, collect_set\n",
    "df.where(\"Units > 5\").groupBy(\"Country\").agg(collect_list(\"Zip\"), collect_set(\"Zip\")).show(5)"
   ]
  },
  {
   "cell_type": "markdown",
   "metadata": {
    "application/vnd.databricks.v1+cell": {
     "cellMetadata": {
      "byteLimit": 2048000,
      "rowLimit": 10000
     },
     "inputWidgets": {},
     "nuid": "2c184ad2-84c1-4546-9342-7acf0a9b4ef3",
     "showTitle": false,
     "tableResultSettingsMap": {},
     "title": ""
    }
   },
   "source": [
    "## Tablas pivote  \n",
    "Las tablas pivote permiten obtener un resumen de los datos a partir de columnas categóricas sobre la que realizar cálculos, tal como se hace en las hojas de cálculo con las tablas dinámicas.  \n",
    "\n",
    "Por ejemplo, vamos a obtener la cantidad recaudada por las ventas de cada año por cada país:"
   ]
  },
  {
   "cell_type": "code",
   "execution_count": 0,
   "metadata": {
    "application/vnd.databricks.v1+cell": {
     "cellMetadata": {
      "byteLimit": 2048000,
      "rowLimit": 10000
     },
     "inputWidgets": {},
     "nuid": "7d553ed1-d207-46b0-8b3d-8e3e7405c1e9",
     "showTitle": false,
     "tableResultSettingsMap": {},
     "title": ""
    }
   },
   "outputs": [
    {
     "name": "stdout",
     "output_type": "stream",
     "text": [
      "+----+------------------+------+------------------+-----------------+------------------+\n",
      "|Year|           Canada |France|           France |          Germany|           Mexico |\n",
      "+----+------------------+------+------------------+-----------------+------------------+\n",
      "|2003| 2360085.999999949|  null|1105230.9000000039|1407119.999999999|1049457.4999999995|\n",
      "|2004| 1539140.499999946|  null|              null|             null|              null|\n",
      "|2001| 2193437.799999908|  null|              null|             null|233419.20000000004|\n",
      "|2000|1806678.3999999042|  null|1108846.8999999764|4510606.799999929| 4240448.399999948|\n",
      "|1999|1382756.6999999755|  null| 7594921.200000447|5928459.100000297|3419368.2000001906|\n",
      "+----+------------------+------+------------------+-----------------+------------------+\n",
      "only showing top 5 rows\n",
      "\n"
     ]
    }
   ],
   "source": [
    "from pyspark.sql.functions import year\n",
    "\n",
    "df.groupBy(year(\"Date\").alias(\"Year\")).pivot(\"Country\").sum(\"Revenue\").show(5)\n"
   ]
  },
  {
   "cell_type": "markdown",
   "metadata": {
    "application/vnd.databricks.v1+cell": {
     "cellMetadata": {
      "byteLimit": 2048000,
      "rowLimit": 10000
     },
     "inputWidgets": {},
     "nuid": "db2139ca-0a92-4139-a41d-de7eddc3293a",
     "showTitle": false,
     "tableResultSettingsMap": {},
     "title": ""
    }
   },
   "source": [
    "También podemos hacer más de un cálculo sobre la tabla pivote:  \n"
   ]
  },
  {
   "cell_type": "code",
   "execution_count": 0,
   "metadata": {
    "application/vnd.databricks.v1+cell": {
     "cellMetadata": {
      "byteLimit": 2048000,
      "rowLimit": 10000
     },
     "inputWidgets": {},
     "nuid": "5f52a612-4f22-4e23-bc38-c310397a0569",
     "showTitle": false,
     "tableResultSettingsMap": {},
     "title": ""
    }
   },
   "outputs": [
    {
     "data": {
      "text/html": [
       "<style scoped>\n",
       "  .table-result-container {\n",
       "    max-height: 300px;\n",
       "    overflow: auto;\n",
       "  }\n",
       "  table, th, td {\n",
       "    border: 1px solid black;\n",
       "    border-collapse: collapse;\n",
       "  }\n",
       "  th, td {\n",
       "    padding: 5px;\n",
       "  }\n",
       "  th {\n",
       "    text-align: left;\n",
       "  }\n",
       "</style><div class='table-result-container'><table class='table-result'><thead style='background-color: white'><tr><th>year(Date)</th><th>Canada _total</th><th>Canada _cantidad</th><th>France_total</th><th>France_cantidad</th><th>France _total</th><th>France _cantidad</th><th>Germany_total</th><th>Germany_cantidad</th><th>Mexico _total</th><th>Mexico _cantidad</th></tr></thead><tbody><tr><td>2003</td><td>2360085.999999949</td><td>6375</td><td>null</td><td>null</td><td>1105230.9000000039</td><td>2794</td><td>1407119.999999999</td><td>3099</td><td>1049457.4999999995</td><td>2510</td></tr><tr><td>2004</td><td>1539140.499999946</td><td>3636</td><td>null</td><td>null</td><td>null</td><td>null</td><td>null</td><td>null</td><td>null</td><td>null</td></tr><tr><td>2001</td><td>2193437.799999908</td><td>5976</td><td>null</td><td>null</td><td>null</td><td>null</td><td>null</td><td>null</td><td>233419.20000000004</td><td>583</td></tr><tr><td>2000</td><td>1806678.3999999042</td><td>5049</td><td>null</td><td>null</td><td>1108846.8999999764</td><td>2456</td><td>4510606.799999929</td><td>9738</td><td>4240448.399999948</td><td>11935</td></tr><tr><td>1999</td><td>1382756.6999999755</td><td>3964</td><td>null</td><td>null</td><td>7594921.200000447</td><td>20432</td><td>5928459.100000297</td><td>12266</td><td>3419368.2000001906</td><td>9895</td></tr><tr><td>2002</td><td>2360514.7999998718</td><td>6148</td><td>980.2</td><td>1</td><td>2277962.899999955</td><td>6056</td><td>3135934.099999969</td><td>6643</td><td>2451905.399999923</td><td>6172</td></tr></tbody></table></div>"
      ]
     },
     "metadata": {
      "application/vnd.databricks.v1+output": {
       "addedWidgets": {},
       "aggData": [],
       "aggError": "",
       "aggOverflow": false,
       "aggSchema": [],
       "aggSeriesLimitReached": false,
       "aggType": "",
       "arguments": {},
       "columnCustomDisplayInfos": {},
       "data": [
        [
         2003,
         2360085.999999949,
         6375,
         null,
         null,
         1105230.9000000039,
         2794,
         1407119.999999999,
         3099,
         1049457.4999999995,
         2510
        ],
        [
         2004,
         1539140.499999946,
         3636,
         null,
         null,
         null,
         null,
         null,
         null,
         null,
         null
        ],
        [
         2001,
         2193437.799999908,
         5976,
         null,
         null,
         null,
         null,
         null,
         null,
         233419.20000000004,
         583
        ],
        [
         2000,
         1806678.3999999042,
         5049,
         null,
         null,
         1108846.8999999764,
         2456,
         4510606.799999929,
         9738,
         4240448.399999948,
         11935
        ],
        [
         1999,
         1382756.6999999755,
         3964,
         null,
         null,
         7594921.200000447,
         20432,
         5928459.100000297,
         12266,
         3419368.2000001906,
         9895
        ],
        [
         2002,
         2360514.7999998718,
         6148,
         980.2,
         1,
         2277962.899999955,
         6056,
         3135934.099999969,
         6643,
         2451905.399999923,
         6172
        ]
       ],
       "datasetInfos": [],
       "dbfsResultPath": null,
       "isJsonSchema": true,
       "metadata": {},
       "overflow": false,
       "plotOptions": {
        "customPlotOptions": {},
        "displayType": "table",
        "pivotAggregation": null,
        "pivotColumns": null,
        "xColumns": null,
        "yColumns": null
       },
       "removedWidgets": [],
       "schema": [
        {
         "metadata": "{}",
         "name": "year(Date)",
         "type": "\"integer\""
        },
        {
         "metadata": "{}",
         "name": "Canada _total",
         "type": "\"double\""
        },
        {
         "metadata": "{}",
         "name": "Canada _cantidad",
         "type": "\"long\""
        },
        {
         "metadata": "{}",
         "name": "France_total",
         "type": "\"double\""
        },
        {
         "metadata": "{}",
         "name": "France_cantidad",
         "type": "\"long\""
        },
        {
         "metadata": "{}",
         "name": "France _total",
         "type": "\"double\""
        },
        {
         "metadata": "{}",
         "name": "France _cantidad",
         "type": "\"long\""
        },
        {
         "metadata": "{}",
         "name": "Germany_total",
         "type": "\"double\""
        },
        {
         "metadata": "{}",
         "name": "Germany_cantidad",
         "type": "\"long\""
        },
        {
         "metadata": "{}",
         "name": "Mexico _total",
         "type": "\"double\""
        },
        {
         "metadata": "{}",
         "name": "Mexico _cantidad",
         "type": "\"long\""
        }
       ],
       "type": "table"
      }
     },
     "output_type": "display_data"
    }
   ],
   "source": [
    "df.groupBy(year(\"Date\")).pivot(\"Country\").agg(sum(\"Revenue\").alias(\"total\"), sum(\"Units\").alias(\"cantidad\")).display()"
   ]
  },
  {
   "cell_type": "markdown",
   "metadata": {
    "application/vnd.databricks.v1+cell": {
     "cellMetadata": {
      "byteLimit": 2048000,
      "rowLimit": 10000
     },
     "inputWidgets": {},
     "nuid": "b4e7ff58-0282-43ba-9d93-532ad18138f9",
     "showTitle": false,
     "tableResultSettingsMap": {},
     "title": ""
    }
   },
   "source": [
    "## Joins"
   ]
  },
  {
   "cell_type": "markdown",
   "metadata": {
    "application/vnd.databricks.v1+cell": {
     "cellMetadata": {
      "byteLimit": 2048000,
      "rowLimit": 10000
     },
     "inputWidgets": {},
     "nuid": "fa881906-a5ba-4b98-addf-167ba7dc029a",
     "showTitle": false,
     "tableResultSettingsMap": {},
     "title": ""
    }
   },
   "source": [
    "Hasta ahora todo la analítica la hemos realizado sobre un único DataFrame. Aunque si seguimos un proceso ELT es probable que tengamos todos los datos en un único lugar, en ocasiones necesitamos cruzar la información de dos datasets.\n",
    "\n",
    "Si nos basamos en el planteamiento de una base de datos relacional, para unir dos DataFrames necesitamos unir la clave ajena de uno con la clave primaria del otro.\n",
    "\n",
    "Para estos ejemplos, vamos a cambiar de datasets y utilizar datos de vuelos de avión que han tenido algún tipo de retraso ([departure_delays.csv](https://tajamar365.sharepoint.com/:x:/s/3405-MasterIA2024-2025/EVXFsnm7tWdIv7hohU6UsRgBIdV_ghMxvtUxSyduUcxYow?e=n85sNv)) y otro con los códigos de los aeropuertos ([airport-codes-na.tsv](https://tajamar365.sharepoint.com/:u:/s/3405-MasterIA2024-2025/EePe905sgTZOnSMvFE9DpV4BLHICLNcb9VTIYEU7svCOcw?e=AxFwQE))."
   ]
  },
  {
   "cell_type": "markdown",
   "metadata": {
    "application/vnd.databricks.v1+cell": {
     "cellMetadata": {
      "byteLimit": 2048000,
      "rowLimit": 10000
     },
     "inputWidgets": {},
     "nuid": "722c95c3-335e-431c-abfb-b6c8d3b5821b",
     "showTitle": false,
     "tableResultSettingsMap": {},
     "title": ""
    }
   },
   "source": [
    "**Vuelos con retraso**  \n",
    "Fichero CSV con la coma como separador de campos.   \n",
    "```<csv> \n",
    "date,delay,distance,origin,destination\n",
    "01011245,6,602,ABE,ATL\n",
    "01020600,-8,369,ABE,DTW\n",
    "01021245,-2,602,ABE,ATL\n",
    "01020605,-4,602,ABE,ATL\n",
    "```"
   ]
  },
  {
   "cell_type": "markdown",
   "metadata": {
    "application/vnd.databricks.v1+cell": {
     "cellMetadata": {
      "byteLimit": 2048000,
      "rowLimit": 10000
     },
     "inputWidgets": {},
     "nuid": "0b1f8d10-c9cc-4f4e-8a85-c7e83663012d",
     "showTitle": false,
     "tableResultSettingsMap": {},
     "title": ""
    }
   },
   "source": [
    "**Códigos de aeropuertos**  \n",
    "\n",
    "Fichero TSV con el tabulador como separador campos, donde el campo `IATA` es la clave de cada aeropuerto.  \n",
    "```<tsv>\n",
    "City State Country IATA\n",
    "Abbotsford BC Canada YXX\n",
    "Aberdeen SD USA ABR\n",
    "Abilene TX USA ABI\n",
    "Akron OH USA CAK\n",
    "Alamosa CO USA ALS\n",
    "Albany GA USA ABY\n",
    "```"
   ]
  },
  {
   "cell_type": "markdown",
   "metadata": {
    "application/vnd.databricks.v1+cell": {
     "cellMetadata": {
      "byteLimit": 2048000,
      "rowLimit": 10000
     },
     "inputWidgets": {},
     "nuid": "cf2acbae-2358-4a91-bb48-bbd397ec9185",
     "showTitle": false,
     "tableResultSettingsMap": {},
     "title": ""
    }
   },
   "source": [
    "Así pues, lo primero que vamos a hacer es cargar ambos DataFrames:"
   ]
  },
  {
   "cell_type": "code",
   "execution_count": 0,
   "metadata": {
    "application/vnd.databricks.v1+cell": {
     "cellMetadata": {
      "byteLimit": 2048000,
      "rowLimit": 10000
     },
     "inputWidgets": {},
     "nuid": "40da77b3-6cfa-473b-93ca-cd91e38b2edf",
     "showTitle": false,
     "tableResultSettingsMap": {},
     "title": ""
    }
   },
   "outputs": [
    {
     "name": "stdout",
     "output_type": "stream",
     "text": [
      "root\n",
      " |-- City: string (nullable = true)\n",
      " |-- State: string (nullable = true)\n",
      " |-- Country: string (nullable = true)\n",
      " |-- IATA: string (nullable = true)\n",
      "\n"
     ]
    }
   ],
   "source": [
    "from pyspark.sql import SparkSession\n",
    "\n",
    "spark = SparkSession.builder.appName(\"s8a-dataframes-joins\").getOrCreate()\n",
    "\n",
    "df_vuelos = spark.read.option(\"sep\",\",\").option(\"header\", \"true\").option(\"inferSchema\", \"true\").csv(\"/FileStore/dataframes-api/dataset/departure_delays.csv\")\n",
    "# df_vuelos.printSchema()\n",
    "# df_vuelos.count()   # 1391578\n",
    "df_aeropuertos = spark.read.option(\"sep\",\"\\t\").option(\"header\", \"true\").option(\"inferSchema\", \"true\").csv(\"/FileStore/dataframes-api/dataset/airport_codes_na.tsv\")\n",
    "df_aeropuertos.printSchema()"
   ]
  },
  {
   "cell_type": "markdown",
   "metadata": {
    "application/vnd.databricks.v1+cell": {
     "cellMetadata": {
      "byteLimit": 2048000,
      "rowLimit": 10000
     },
     "inputWidgets": {},
     "nuid": "85b2003e-3f93-40ff-99bd-959c522989be",
     "showTitle": false,
     "tableResultSettingsMap": {},
     "title": ""
    }
   },
   "source": [
    "### Mediante SQL  \n",
    "Si queremos hacer un join mediante SQL, sólo tenemos que emplear la misma sintaxis que con cualquier sistema relacional, de manera que primero crearemos las vistas temporales:"
   ]
  },
  {
   "cell_type": "code",
   "execution_count": 0,
   "metadata": {
    "application/vnd.databricks.v1+cell": {
     "cellMetadata": {
      "byteLimit": 2048000,
      "rowLimit": 10000
     },
     "inputWidgets": {},
     "nuid": "630fd065-9772-4cd9-94cb-2aa732dc42c1",
     "showTitle": false,
     "tableResultSettingsMap": {},
     "title": ""
    }
   },
   "outputs": [],
   "source": [
    "df_vuelos.createOrReplaceTempView(\"vuelos\")\n",
    "df_aeropuertos.createOrReplaceTempView(\"aeropuertos\")\n"
   ]
  },
  {
   "cell_type": "markdown",
   "metadata": {
    "application/vnd.databricks.v1+cell": {
     "cellMetadata": {
      "byteLimit": 2048000,
      "rowLimit": 10000
     },
     "inputWidgets": {},
     "nuid": "9597f85a-3d7f-49e6-881e-89f3a59232a1",
     "showTitle": false,
     "tableResultSettingsMap": {},
     "title": ""
    }
   },
   "source": [
    "Y a continuación realizamos la consulta:"
   ]
  },
  {
   "cell_type": "code",
   "execution_count": 0,
   "metadata": {
    "application/vnd.databricks.v1+cell": {
     "cellMetadata": {
      "byteLimit": 2048000,
      "rowLimit": 10000
     },
     "inputWidgets": {},
     "nuid": "0564911e-2da6-4bd9-9ff6-ba2bcc6e0752",
     "showTitle": false,
     "tableResultSettingsMap": {},
     "title": ""
    }
   },
   "outputs": [
    {
     "name": "stdout",
     "output_type": "stream",
     "text": [
      "+------+---------+\n",
      "|origin|     city|\n",
      "+------+---------+\n",
      "|   ABE|Allentown|\n",
      "|   ABE|Allentown|\n",
      "|   ABE|Allentown|\n",
      "|   ABE|Allentown|\n",
      "|   ABE|Allentown|\n",
      "|   ABE|Allentown|\n",
      "|   ABE|Allentown|\n",
      "|   ABE|Allentown|\n",
      "|   ABE|Allentown|\n",
      "|   ABE|Allentown|\n",
      "+------+---------+\n",
      "only showing top 10 rows\n",
      "\n"
     ]
    }
   ],
   "source": [
    "df_join = spark.sql(\"select v.origin, a.city from vuelos v join aeropuertos a on v.origin == a.IATA\")\n",
    "df_join.show(10)"
   ]
  },
  {
   "cell_type": "markdown",
   "metadata": {
    "application/vnd.databricks.v1+cell": {
     "cellMetadata": {
      "byteLimit": 2048000,
      "rowLimit": 10000
     },
     "inputWidgets": {},
     "nuid": "f8411f54-c0de-42ef-a84e-1e8a44af435d",
     "showTitle": false,
     "tableResultSettingsMap": {},
     "title": ""
    }
   },
   "source": [
    "Si quisiéramos obtener el nombre de los dos aeropuertos, necesitamos realizar dos veces el join:"
   ]
  },
  {
   "cell_type": "code",
   "execution_count": 0,
   "metadata": {
    "application/vnd.databricks.v1+cell": {
     "cellMetadata": {
      "byteLimit": 2048000,
      "rowLimit": 10000
     },
     "inputWidgets": {},
     "nuid": "7fdc502a-2301-473d-a6d8-280310f95936",
     "showTitle": false,
     "tableResultSettingsMap": {},
     "title": ""
    }
   },
   "outputs": [
    {
     "name": "stdout",
     "output_type": "stream",
     "text": [
      "+-------+-----+--------+------+-----------+----------+---------------+\n",
      "|   date|delay|distance|origin|destination|originCity|destinationCity|\n",
      "+-------+-----+--------+------+-----------+----------+---------------+\n",
      "|1011245|    6|     602|   ABE|        ATL| Allentown|        Atlanta|\n",
      "|1020600|   -8|     369|   ABE|        DTW| Allentown|        Detroit|\n",
      "|1021245|   -2|     602|   ABE|        ATL| Allentown|        Atlanta|\n",
      "|1020605|   -4|     602|   ABE|        ATL| Allentown|        Atlanta|\n",
      "|1031245|   -4|     602|   ABE|        ATL| Allentown|        Atlanta|\n",
      "|1030605|    0|     602|   ABE|        ATL| Allentown|        Atlanta|\n",
      "|1041243|   10|     602|   ABE|        ATL| Allentown|        Atlanta|\n",
      "|1040605|   28|     602|   ABE|        ATL| Allentown|        Atlanta|\n",
      "|1051245|   88|     602|   ABE|        ATL| Allentown|        Atlanta|\n",
      "|1050605|    9|     602|   ABE|        ATL| Allentown|        Atlanta|\n",
      "+-------+-----+--------+------+-----------+----------+---------------+\n",
      "only showing top 10 rows\n",
      "\n"
     ]
    }
   ],
   "source": [
    "df_join = spark.sql(\"select v.*, a.City as originCity, b.City as destinationCity from vuelos v JOIN aeropuertos a on v.origin == a.IATA join aeropuertos b on v.destination = b.IATA\")\n",
    "df_join.show(10)\n",
    "\n",
    "# +-------+-----+--------+------+-----------+----------+---------------+\n",
    "# |   date|delay|distance|origin|destination|originCity|destinationCity|\n",
    "# +-------+-----+--------+------+-----------+----------+---------------+\n",
    "# |1011245|    6|     602|   ABE|        ATL| Allentown|        Atlanta|\n",
    "# |1020600|   -8|     369|   ABE|        DTW| Allentown|        Detroit|\n",
    "# |1021245|   -2|     602|   ABE|        ATL| Allentown|        Atlanta|\n",
    "# +-------+-----+--------+------+-----------+----------+---------------+\n",
    "# only showing top 3 rows"
   ]
  },
  {
   "cell_type": "markdown",
   "metadata": {
    "application/vnd.databricks.v1+cell": {
     "cellMetadata": {
      "byteLimit": 2048000,
      "rowLimit": 10000
     },
     "inputWidgets": {},
     "nuid": "8c47df65-8a29-4f7d-9972-0d972aed6e31",
     "showTitle": false,
     "tableResultSettingsMap": {},
     "title": ""
    }
   },
   "source": [
    "Si existiera algún vuelo cuyos códigos de aeropuerto no tuviéramos disponible en el dataset de los códigos de aeropuertos, no nos aparecería. Por tanto, sería más conveniente realizar un left join:"
   ]
  },
  {
   "cell_type": "code",
   "execution_count": 0,
   "metadata": {
    "application/vnd.databricks.v1+cell": {
     "cellMetadata": {
      "byteLimit": 2048000,
      "rowLimit": 10000
     },
     "inputWidgets": {},
     "nuid": "fdbe6e4c-6ebe-442a-89c1-afed37d1cc5f",
     "showTitle": false,
     "tableResultSettingsMap": {},
     "title": ""
    }
   },
   "outputs": [
    {
     "name": "stdout",
     "output_type": "stream",
     "text": [
      "+-------+-----+--------+------+-----------+----------+---------------+\n",
      "|   date|delay|distance|origin|destination|originCity|destinationCity|\n",
      "+-------+-----+--------+------+-----------+----------+---------------+\n",
      "|1011245|    6|     602|   ABE|        ATL| Allentown|        Atlanta|\n",
      "|1020600|   -8|     369|   ABE|        DTW| Allentown|        Detroit|\n",
      "|1021245|   -2|     602|   ABE|        ATL| Allentown|        Atlanta|\n",
      "|1020605|   -4|     602|   ABE|        ATL| Allentown|        Atlanta|\n",
      "|1031245|   -4|     602|   ABE|        ATL| Allentown|        Atlanta|\n",
      "|1030605|    0|     602|   ABE|        ATL| Allentown|        Atlanta|\n",
      "|1041243|   10|     602|   ABE|        ATL| Allentown|        Atlanta|\n",
      "|1040605|   28|     602|   ABE|        ATL| Allentown|        Atlanta|\n",
      "|1051245|   88|     602|   ABE|        ATL| Allentown|        Atlanta|\n",
      "|1050605|    9|     602|   ABE|        ATL| Allentown|        Atlanta|\n",
      "+-------+-----+--------+------+-----------+----------+---------------+\n",
      "only showing top 10 rows\n",
      "\n"
     ]
    }
   ],
   "source": [
    "df_left_join = spark.sql(\"select v.*, a.City as originCity, b.City as destinationCity from vuelos v LEFT JOIN aeropuertos a on v.origin == a.IATA LEFT JOIN aeropuertos b on v.destination = b.IATA\")\n",
    "df_left_join.show(10)\n"
   ]
  },
  {
   "cell_type": "code",
   "execution_count": 0,
   "metadata": {
    "application/vnd.databricks.v1+cell": {
     "cellMetadata": {
      "byteLimit": 2048000,
      "rowLimit": 10000
     },
     "inputWidgets": {},
     "nuid": "9c155ca9-aeca-499d-b5dd-7cc6d8529d1d",
     "showTitle": false,
     "tableResultSettingsMap": {},
     "title": ""
    }
   },
   "outputs": [
    {
     "name": "stdout",
     "output_type": "stream",
     "text": [
      "Out[180]: 1391578"
     ]
    }
   ],
   "source": [
    "df_left_join.count()    # 1391578"
   ]
  },
  {
   "cell_type": "markdown",
   "metadata": {
    "application/vnd.databricks.v1+cell": {
     "cellMetadata": {
      "byteLimit": 2048000,
      "rowLimit": 10000
     },
     "inputWidgets": {},
     "nuid": "1c3e04d0-936c-4e37-8db1-4fce17d723c5",
     "showTitle": false,
     "tableResultSettingsMap": {},
     "title": ""
    }
   },
   "source": [
    "> **Todo tipo de joins**  \n",
    " Además de los casos vistos, podemos realizar otros tipos de joins como `cross`, `semi`, `full`, `outer`, etc... Más información en la [documentación oficial](https://spark.apache.org/docs/latest/sql-ref-syntax-qry-select-join.html)"
   ]
  },
  {
   "cell_type": "markdown",
   "metadata": {
    "application/vnd.databricks.v1+cell": {
     "cellMetadata": {
      "byteLimit": 2048000,
      "rowLimit": 10000
     },
     "inputWidgets": {},
     "nuid": "ea7920aa-67e1-44f6-8437-747a5aca722f",
     "showTitle": false,
     "tableResultSettingsMap": {},
     "title": ""
    }
   },
   "source": [
    "Un caso particular que conviene conocer es el left anti join. Este tipo de join permite obtener aquellos registros de la izquierda que no aparecen en la parte derecha, de manera que si seguimos con el ejemplo, podemos recuperar aquellos vuelos cuyos aeropuertos no tenemos en el dataset con los códigos:"
   ]
  },
  {
   "cell_type": "code",
   "execution_count": 0,
   "metadata": {
    "application/vnd.databricks.v1+cell": {
     "cellMetadata": {
      "byteLimit": 2048000,
      "rowLimit": 10000
     },
     "inputWidgets": {},
     "nuid": "92b5eaa3-5971-445a-84cd-4065ea331859",
     "showTitle": false,
     "tableResultSettingsMap": {},
     "title": ""
    }
   },
   "outputs": [
    {
     "name": "stdout",
     "output_type": "stream",
     "text": [
      "Out[181]: 14416"
     ]
    }
   ],
   "source": [
    "df_left_anti_join = spark.sql(\"select * from vuelos v LEFT ANTI JOIN aeropuertos a ON v.origin == a.IATA \")\n",
    "df_left_anti_join.count()   # 14416"
   ]
  },
  {
   "cell_type": "markdown",
   "metadata": {
    "application/vnd.databricks.v1+cell": {
     "cellMetadata": {
      "byteLimit": 2048000,
      "rowLimit": 10000
     },
     "inputWidgets": {},
     "nuid": "b04fe7e3-24f2-40ce-82ba-ab99816b66f4",
     "showTitle": false,
     "tableResultSettingsMap": {},
     "title": ""
    }
   },
   "source": [
    "### Mediante Python  \n",
    "\n",
    "Si no queremos utilizar SQL o ya tenemos fragmentos de código que interactúan con el DataFrame API, podemos utilizar el método `join`. Este método une dos DataFrames, indicando la expresión de unión y opcionalmente el tipo:"
   ]
  },
  {
   "cell_type": "code",
   "execution_count": 0,
   "metadata": {
    "application/vnd.databricks.v1+cell": {
     "cellMetadata": {
      "byteLimit": 2048000,
      "rowLimit": 10000
     },
     "inputWidgets": {},
     "nuid": "a2ffde4f-6555-4e54-a9e4-f611c7c1d776",
     "showTitle": false,
     "tableResultSettingsMap": {},
     "title": ""
    }
   },
   "outputs": [],
   "source": [
    "exprJoin1 = df_vuelos.origin == df_aeropuertos.IATA\n",
    "df_joinp1 = df_vuelos.join(df_aeropuertos, exprJoin1, \"inner\")\n"
   ]
  },
  {
   "cell_type": "code",
   "execution_count": 0,
   "metadata": {
    "application/vnd.databricks.v1+cell": {
     "cellMetadata": {
      "byteLimit": 2048000,
      "rowLimit": 10000
     },
     "inputWidgets": {},
     "nuid": "2f03600d-bffd-4358-96f2-4ca42f852127",
     "showTitle": false,
     "tableResultSettingsMap": {},
     "title": ""
    }
   },
   "outputs": [
    {
     "name": "stdout",
     "output_type": "stream",
     "text": [
      "Out[183]: 1377162"
     ]
    }
   ],
   "source": [
    "df_joinp1.count()    # 1377162"
   ]
  },
  {
   "cell_type": "markdown",
   "metadata": {
    "application/vnd.databricks.v1+cell": {
     "cellMetadata": {
      "byteLimit": 2048000,
      "rowLimit": 10000
     },
     "inputWidgets": {},
     "nuid": "4f49b075-3e00-4cd6-ac53-d0f95392ba21",
     "showTitle": false,
     "tableResultSettingsMap": {},
     "title": ""
    }
   },
   "source": [
    "> **Forma corta**. Si las columnas que unen los DataFrames tienen el mismo nombre, podemos simplificar el código indicando únicamente su nombre:  \n",
    "`df1.join(df2, \"user_id\")`  \n",
    "Además, si queremos hacer un inner join, podemos no indicarlo ya que es el tipo por defecto."
   ]
  },
  {
   "cell_type": "markdown",
   "metadata": {
    "application/vnd.databricks.v1+cell": {
     "cellMetadata": {
      "byteLimit": 2048000,
      "rowLimit": 10000
     },
     "inputWidgets": {},
     "nuid": "f24dbcf2-e14d-4100-9f78-876983b2db61",
     "showTitle": false,
     "tableResultSettingsMap": {},
     "title": ""
    }
   },
   "source": [
    "En vez de pasarle `inner`, le podemos indicar el tipo de join: `left`, `right`, `cross`, `left_anti`, etc..."
   ]
  },
  {
   "cell_type": "code",
   "execution_count": 0,
   "metadata": {
    "application/vnd.databricks.v1+cell": {
     "cellMetadata": {
      "byteLimit": 2048000,
      "rowLimit": 10000
     },
     "inputWidgets": {},
     "nuid": "1d1a45b1-8c51-4e09-bc9d-2f232bc7f3e9",
     "showTitle": false,
     "tableResultSettingsMap": {},
     "title": ""
    }
   },
   "outputs": [
    {
     "name": "stdout",
     "output_type": "stream",
     "text": [
      "Out[184]: 14416"
     ]
    }
   ],
   "source": [
    "expr_join1 = df_vuelos.origin == df_aeropuertos.IATA\n",
    "df_left_anti_join = df_vuelos.join(df_aeropuertos, expr_join1, \"left_anti\")\n",
    "df_left_anti_join.count()   # 14416"
   ]
  },
  {
   "cell_type": "markdown",
   "metadata": {
    "application/vnd.databricks.v1+cell": {
     "cellMetadata": {
      "byteLimit": 2048000,
      "rowLimit": 10000
     },
     "inputWidgets": {},
     "nuid": "d2d02e1f-4829-4df2-8c89-8cac5a13939e",
     "showTitle": false,
     "tableResultSettingsMap": {},
     "title": ""
    }
   },
   "source": [
    "Finalmente, como en nuestro caso teníamos dos joins, tanto para los vuelos de origen como los de destino, necesitamos volver a unir:"
   ]
  },
  {
   "cell_type": "code",
   "execution_count": 0,
   "metadata": {
    "application/vnd.databricks.v1+cell": {
     "cellMetadata": {
      "byteLimit": 2048000,
      "rowLimit": 10000
     },
     "inputWidgets": {},
     "nuid": "b3d698db-38ca-4847-9f9e-6fe55b0b5ebc",
     "showTitle": false,
     "tableResultSettingsMap": {},
     "title": ""
    }
   },
   "outputs": [
    {
     "name": "stdout",
     "output_type": "stream",
     "text": [
      "Out[185]: 1361141"
     ]
    }
   ],
   "source": [
    "from pyspark.sql.functions import col\n",
    "# le indicamos alias a los campos para eliminar ambigüedades\n",
    "expr_join2 = col(\"a.destination\") == col(\"b.IATA\")\n",
    "df_joinp2 = (df_joinp1.alias(\"a\")).join((df_aeropuertos.alias(\"b\")), expr_join2, \"inner\")\n",
    "df_joinp2.count()    # 1361141"
   ]
  },
  {
   "cell_type": "markdown",
   "metadata": {
    "application/vnd.databricks.v1+cell": {
     "cellMetadata": {
      "byteLimit": 2048000,
      "rowLimit": 10000
     },
     "inputWidgets": {},
     "nuid": "48346e6f-4ec8-472f-8ded-477082dd2df4",
     "showTitle": false,
     "tableResultSettingsMap": {},
     "title": ""
    }
   },
   "source": [
    "## Funciones  \n",
    "Para dominar realmente Spark, hay que tener destreza en todas las funciones existentes para el tratamiento de fechas, cadenas, operaciones matemáticas, para trabajar con colecciones, etc...\n",
    "\n",
    "Además, siempre podemos crear nuestras propias funciones de usuario para ampliar el lenguaje.\n",
    "\n",
    "Aunque ya hemos utilizado algunas a lo largo de los apuntes, a continuación vamos a repasar las funciones más empleadas."
   ]
  },
  {
   "cell_type": "markdown",
   "metadata": {
    "application/vnd.databricks.v1+cell": {
     "cellMetadata": {
      "byteLimit": 2048000,
      "rowLimit": 10000
     },
     "inputWidgets": {},
     "nuid": "8f85a1dd-028b-4581-bdb5-eaa68357f622",
     "showTitle": false,
     "tableResultSettingsMap": {},
     "title": ""
    }
   },
   "source": [
    "### Fechas  \n",
    "- Si necesitamos convertir de texto a fecha: [to_date](https://spark.apache.org/docs/latest/api/python/reference/pyspark.sql/api/pyspark.sql.functions.to_date.html), [to_timestamp](https://spark.apache.org/docs/latest/api/python/reference/pyspark.sql/api/pyspark.sql.functions.to_timestamp.html), [unix_timestamp](https://spark.apache.org/docs/latest/api/python/reference/pyspark.sql/api/pyspark.sql.functions.unix_timestamp.html)  \n",
    "- Para formatear las fechas: [date_format](https://spark.apache.org/docs/latest/api/python/reference/pyspark.sql/api/pyspark.sql.functions.date_format.html), [from_unixtime](https://spark.apache.org/docs/latest/api/python/reference/pyspark.sql/api/pyspark.sql.functions.from_unixtime.html) ([patrones de fechas](https://spark.apache.org/docs/latest/sql-ref-datetime-pattern.html))  \n",
    "- Para realizar cálculos sobre fechas: `datediff`, `months_between`, `last_day`, `date_add`, `date_sub`, `next_day`.  \n",
    "- Extraer un valor de una fecha:[ year](https://spark.apache.org/docs/latest/api/python/reference/pyspark.sql/api/pyspark.sql.functions.year.html), [month](https://spark.apache.org/docs/latest/api/python/reference/pyspark.sql/api/pyspark.sql.functions.month.html), [weekofyear](https://spark.apache.org/docs/latest/api/python/reference/pyspark.sql/api/pyspark.sql.functions.weekofyear.html), [dayofmonth](https://spark.apache.org/docs/latest/api/python/reference/pyspark.sql/api/pyspark.sql.functions.dayofmonth.html), [dayofyear](https://spark.apache.org/docs/latest/api/python/reference/pyspark.sql/api/pyspark.sql.functions.dayofyear.html), [hour](https://spark.apache.org/docs/latest/api/python/reference/pyspark.sql/api/pyspark.sql.functions.hour.html),[ minute](https://spark.apache.org/docs/latest/api/python/reference/pyspark.sql/api/pyspark.sql.functions.minute.html), [second](https://spark.apache.org/docs/latest/api/python/reference/pyspark.sql/api/pyspark.sql.functions.second.html).    \n",
    "\n",
    "Más información en la [documentación oficial](https://spark.apache.org/docs/latest/sql-ref-functions-builtin.html#date-and-timestamp-functions)\n"
   ]
  },
  {
   "cell_type": "code",
   "execution_count": 0,
   "metadata": {
    "application/vnd.databricks.v1+cell": {
     "cellMetadata": {
      "byteLimit": 2048000,
      "rowLimit": 10000
     },
     "inputWidgets": {},
     "nuid": "106a31fe-3006-4959-af79-d421cc2f4f56",
     "showTitle": false,
     "tableResultSettingsMap": {},
     "title": ""
    }
   },
   "outputs": [],
   "source": [
    "from pyspark.sql import SparkSession\n",
    "from pyspark.sql.functions import to_date\n",
    "\n",
    "spark = SparkSession.builder.appName(\"s8a-dataframes-sql\").getOrCreate()\n",
    "\n",
    "df = spark.read.option(\"sep\",\";\").option(\"header\", \"true\").option(\"inferSchema\", \"true\").csv(\"/FileStore/dataframes-api/dataset/pdi_sales_small.csv\")\n",
    "# Cambiamos el tipo de dato a fecha\n",
    "df = df.withColumn(\"Date\", to_date(df.Date, \"M/d/yyy\"))"
   ]
  },
  {
   "cell_type": "code",
   "execution_count": 0,
   "metadata": {
    "application/vnd.databricks.v1+cell": {
     "cellMetadata": {
      "byteLimit": 2048000,
      "rowLimit": 10000
     },
     "inputWidgets": {},
     "nuid": "e71a4d32-4517-43a2-a6fe-07e018865e88",
     "showTitle": false,
     "tableResultSettingsMap": {},
     "title": ""
    }
   },
   "outputs": [
    {
     "name": "stdout",
     "output_type": "stream",
     "text": [
      "+----------+--------------+-----------+-----------------+------------+-----------+-----+----+\n",
      "|      Date|Formatted_Date|Next_Sunday|Last_Day_of_Month|Day_of_Month|Day_of_Year|Month|Year|\n",
      "+----------+--------------+-----------+-----------------+------------+-----------+-----+----+\n",
      "|1999-01-15|    15-01-1999| 1999-01-17|       1999-01-31|          15|         15|    1|1999|\n",
      "|2002-06-06|    06-06-2002| 2002-06-09|       2002-06-30|           6|        157|    6|2002|\n",
      "|2002-06-06|    06-06-2002| 2002-06-09|       2002-06-30|           6|        157|    6|2002|\n",
      "|1999-01-15|    15-01-1999| 1999-01-17|       1999-01-31|          15|         15|    1|1999|\n",
      "|1999-01-15|    15-01-1999| 1999-01-17|       1999-01-31|          15|         15|    1|1999|\n",
      "|2003-04-10|    10-04-2003| 2003-04-13|       2003-04-30|          10|        100|    4|2003|\n",
      "|1999-02-15|    15-02-1999| 1999-02-21|       1999-02-28|          15|         46|    2|1999|\n",
      "|1999-01-15|    15-01-1999| 1999-01-17|       1999-01-31|          15|         15|    1|1999|\n",
      "|1999-01-15|    15-01-1999| 1999-01-17|       1999-01-31|          15|         15|    1|1999|\n",
      "|2002-05-31|    31-05-2002| 2002-06-02|       2002-05-31|          31|        151|    5|2002|\n",
      "+----------+--------------+-----------+-----------------+------------+-----------+-----+----+\n",
      "only showing top 10 rows\n",
      "\n"
     ]
    }
   ],
   "source": [
    "from pyspark.sql.functions import date_format, next_day, last_day, dayofmonth, dayofyear, month, year\n",
    "\n",
    "df.select(\n",
    "    \"Date\",\n",
    "    date_format(\"Date\", \"dd-MM-yyyy\").alias(\"Formatted_Date\"),\n",
    "    next_day(\"Date\", \"Sun\").alias(\"Next_Sunday\"),\n",
    "    last_day(\"Date\").alias(\"Last_Day_of_Month\"),\n",
    "    dayofmonth(\"Date\").alias(\"Day_of_Month\"),\n",
    "    dayofyear(\"Date\").alias(\"Day_of_Year\"),\n",
    "    month(\"Date\").alias(\"Month\"),\n",
    "    year(\"Date\").alias(\"Year\")\n",
    ").show(10)\n"
   ]
  },
  {
   "cell_type": "markdown",
   "metadata": {
    "application/vnd.databricks.v1+cell": {
     "cellMetadata": {
      "byteLimit": 2048000,
      "rowLimit": 10000
     },
     "inputWidgets": {},
     "nuid": "4221c74a-6337-43fd-a973-4dcab87ea779",
     "showTitle": false,
     "tableResultSettingsMap": {},
     "title": ""
    }
   },
   "source": [
    "### Cadenas  \n",
    "Por ejemplo, tenemos las funciones para quitar espacios ([`ltrim`](https://spark.apache.org/docs/latest/api/python/reference/pyspark.sql/api/pyspark.sql.functions.ltrim.html), [`rtrim`](https://spark.apache.org/docs/latest/api/python/reference/pyspark.sql/api/pyspark.sql.functions.rtrim.html), [`trim`](https://spark.apache.org/docs/latest/api/python/reference/pyspark.sql/api/pyspark.sql.functions.trim.html)) y pasar a mayúsculas/minúsculas ([`lower`](https://spark.apache.org/docs/latest/api/python/reference/pyspark.sql/api/pyspark.sql.functions.lower.html), [`upper`](https://spark.apache.org/docs/latest/api/python/reference/pyspark.sql/api/pyspark.sql.functions.upper.html)):"
   ]
  },
  {
   "cell_type": "code",
   "execution_count": 0,
   "metadata": {
    "application/vnd.databricks.v1+cell": {
     "cellMetadata": {
      "byteLimit": 2048000,
      "rowLimit": 10000
     },
     "inputWidgets": {},
     "nuid": "52432f44-ce61-45a2-90e4-aeb88ff6ff42",
     "showTitle": false,
     "tableResultSettingsMap": {},
     "title": ""
    }
   },
   "outputs": [
    {
     "name": "stdout",
     "output_type": "stream",
     "text": [
      "+---------------+---------------+---+---------------+---------------+\n",
      "|            Zip|              l|  r|     lower(Zip)|     upper(Zip)|\n",
      "+---------------+---------------+---+---------------+---------------+\n",
      "|H1B            |H1B            |H1B|h1b            |H1B            |\n",
      "|H1B            |H1B            |H1B|h1b            |H1B            |\n",
      "|H1B            |H1B            |H1B|h1b            |H1B            |\n",
      "|H1B            |H1B            |H1B|h1b            |H1B            |\n",
      "|H1B            |H1B            |H1B|h1b            |H1B            |\n",
      "|H1B            |H1B            |H1B|h1b            |H1B            |\n",
      "|H1B            |H1B            |H1B|h1b            |H1B            |\n",
      "|H1B            |H1B            |H1B|h1b            |H1B            |\n",
      "|H1B            |H1B            |H1B|h1b            |H1B            |\n",
      "|H1B            |H1B            |H1B|h1b            |H1B            |\n",
      "+---------------+---------------+---+---------------+---------------+\n",
      "only showing top 10 rows\n",
      "\n"
     ]
    }
   ],
   "source": [
    "from pyspark.sql.functions import ltrim, rtrim, trim, lower, upper\n",
    "\n",
    "df.select(\n",
    "    \"Zip\",\n",
    "    ltrim(\"Zip\").alias(\"l\"),  # Elimina espacios en blanco a la izquierda\n",
    "    rtrim(\"Zip\").alias(\"r\"),  # Elimina espacios en blanco a la derecha\n",
    "    lower(\"Zip\").alias(\"lower(Zip)\"),  # Convierte a minúsculas\n",
    "    upper(\"Zip\").alias(\"upper(Zip)\")   # Convierte a mayúsculas\n",
    ").where(\n",
    "    trim(df.Country) == \"Canada\"  # Elimina espacios en blanco de ambos lados antes de comparar\n",
    ").show(10)\n"
   ]
  },
  {
   "cell_type": "markdown",
   "metadata": {
    "application/vnd.databricks.v1+cell": {
     "cellMetadata": {
      "byteLimit": 2048000,
      "rowLimit": 10000
     },
     "inputWidgets": {},
     "nuid": "a7bd8fca-195f-4cf1-9057-35874ca83e8c",
     "showTitle": false,
     "tableResultSettingsMap": {},
     "title": ""
    }
   },
   "source": [
    "O funciones para poner la inicial en mayúsculas ([initcap](https://spark.apache.org/docs/latest/api/python/reference/pyspark.sql/api/pyspark.sql.functions.initcap.html)), darle la vuelta ([reverse](https://spark.apache.org/docs/latest/api/python/reference/pyspark.sql/api/pyspark.sql.functions.reverse.html)), obtener su tamaño ([length](https://spark.apache.org/docs/latest/api/python/reference/pyspark.sql/api/pyspark.sql.functions.length.html)) o reemplazar caracteres ([translate](https://spark.apache.org/docs/latest/api/python/reference/pyspark.sql/api/pyspark.sql.functions.translate.html)):"
   ]
  },
  {
   "cell_type": "code",
   "execution_count": 0,
   "metadata": {
    "application/vnd.databricks.v1+cell": {
     "cellMetadata": {
      "byteLimit": 2048000,
      "rowLimit": 10000
     },
     "inputWidgets": {},
     "nuid": "4c5ca543-308b-4a46-8a04-870313ef1986",
     "showTitle": false,
     "tableResultSettingsMap": {},
     "title": ""
    }
   },
   "outputs": [
    {
     "name": "stdout",
     "output_type": "stream",
     "text": [
      "+-------+----------------+----------------+---------------+------------------+\n",
      "|Country|Initcap(Country)|Reverse(Country)|Length(Country)|Translate(Country)|\n",
      "+-------+----------------+----------------+---------------+------------------+\n",
      "|Canada |         Canada |          adanaC|              7|           Cepede |\n",
      "|Canada |         Canada |          adanaC|              7|           Cepede |\n",
      "|Canada |         Canada |          adanaC|              7|           Cepede |\n",
      "|Canada |         Canada |          adanaC|              7|           Cepede |\n",
      "|Canada |         Canada |          adanaC|              7|           Cepede |\n",
      "|Canada |         Canada |          adanaC|              7|           Cepede |\n",
      "|Canada |         Canada |          adanaC|              7|           Cepede |\n",
      "|Canada |         Canada |          adanaC|              7|           Cepede |\n",
      "|Canada |         Canada |          adanaC|              7|           Cepede |\n",
      "|Canada |         Canada |          adanaC|              7|           Cepede |\n",
      "+-------+----------------+----------------+---------------+------------------+\n",
      "only showing top 10 rows\n",
      "\n"
     ]
    }
   ],
   "source": [
    "from pyspark.sql.functions import initcap, reverse, length, translate, trim\n",
    "\n",
    "df.select(\n",
    "    \"Country\",\n",
    "    initcap(\"Country\").alias(\"Initcap(Country)\"),  # Convierte a formato título (primera letra en mayúscula)\n",
    "    reverse(\"Country\").alias(\"Reverse(Country)\"),  # Invierte la cadena\n",
    "    length(\"Country\").alias(\"Length(Country)\"),    # Longitud de la cadena\n",
    "    translate(\"Country\", \"na\", \"pe\").alias(\"Translate(Country)\")  # Reemplaza 'n' con 'p' y 'a' con 'e'\n",
    ").where(\n",
    "    trim(df.Country) == \"Canada\"  # Elimina espacios en blanco antes de comparar\n",
    ").show(10)\n"
   ]
  },
  {
   "cell_type": "markdown",
   "metadata": {
    "application/vnd.databricks.v1+cell": {
     "cellMetadata": {
      "byteLimit": 2048000,
      "rowLimit": 10000
     },
     "inputWidgets": {},
     "nuid": "aecd1462-5c28-4f6f-bc88-b6c8f7b9d190",
     "showTitle": false,
     "tableResultSettingsMap": {},
     "title": ""
    }
   },
   "source": [
    "También podemos trabajar con subcadenas ([substring](https://spark.apache.org/docs/latest/api/python/reference/pyspark.sql/api/pyspark.sql.functions.substring.html)), encontrar ocurrencias ([locate](https://spark.apache.org/docs/latest/api/python/reference/pyspark.sql/api/pyspark.sql.functions.locate.html)) o partir una cadena en trozos ([split](https://spark.apache.org/docs/latest/api/python/reference/pyspark.sql/api/pyspark.sql.functions.split.html)):"
   ]
  },
  {
   "cell_type": "code",
   "execution_count": 0,
   "metadata": {
    "application/vnd.databricks.v1+cell": {
     "cellMetadata": {
      "byteLimit": 2048000,
      "rowLimit": 10000
     },
     "inputWidgets": {},
     "nuid": "cafb62ad-0740-4c9f-86b9-76ef578c0c33",
     "showTitle": false,
     "tableResultSettingsMap": {},
     "title": ""
    }
   },
   "outputs": [
    {
     "name": "stdout",
     "output_type": "stream",
     "text": [
      "+-------+-------------------+--------------------+------------------------+\n",
      "|Country|Split(Country, 'a')|Locate('a', Country)|Substring(Country, 3, 2)|\n",
      "+-------+-------------------+--------------------+------------------------+\n",
      "|Canada |       [C, n, d,  ]|                   2|                      na|\n",
      "|Canada |       [C, n, d,  ]|                   2|                      na|\n",
      "|Canada |       [C, n, d,  ]|                   2|                      na|\n",
      "|Canada |       [C, n, d,  ]|                   2|                      na|\n",
      "|Canada |       [C, n, d,  ]|                   2|                      na|\n",
      "|Canada |       [C, n, d,  ]|                   2|                      na|\n",
      "|Canada |       [C, n, d,  ]|                   2|                      na|\n",
      "|Canada |       [C, n, d,  ]|                   2|                      na|\n",
      "|Canada |       [C, n, d,  ]|                   2|                      na|\n",
      "|Canada |       [C, n, d,  ]|                   2|                      na|\n",
      "+-------+-------------------+--------------------+------------------------+\n",
      "only showing top 10 rows\n",
      "\n"
     ]
    }
   ],
   "source": [
    "from pyspark.sql.functions import split, locate, substring, trim\n",
    "\n",
    "df.select(\n",
    "    \"Country\",\n",
    "    split(\"Country\", \"a\").alias(\"Split(Country, 'a')\"),  # Divide la cadena por el carácter 'a'\n",
    "    locate(\"a\", \"Country\").alias(\"Locate('a', Country)\"),  # Encuentra la posición de la primera aparición de 'a'\n",
    "    substring(\"Country\", 3, 2).alias(\"Substring(Country, 3, 2)\")  # Extrae dos caracteres a partir de la posición 3\n",
    ").where(\n",
    "    trim(df.Country) == \"Canada\"  # Elimina espacios en blanco antes de comparar\n",
    ").show(10)"
   ]
  },
  {
   "cell_type": "markdown",
   "metadata": {
    "application/vnd.databricks.v1+cell": {
     "cellMetadata": {
      "byteLimit": 2048000,
      "rowLimit": 10000
     },
     "inputWidgets": {},
     "nuid": "f24d5a2f-058e-414a-8802-594796501544",
     "showTitle": false,
     "tableResultSettingsMap": {},
     "title": ""
    }
   },
   "source": [
    "Otras funciones que se suelen utilizar son [concat](https://spark.apache.org/docs/latest/api/python/reference/pyspark.sql/api/pyspark.sql.functions.concat.html) y [concat_ws](https://spark.apache.org/docs/latest/api/python/reference/pyspark.sql/api/pyspark.sql.functions.concat.html) para unir cadenas, [levenshtein](https://spark.apache.org/docs/latest/api/python/reference/pyspark.sql/api/pyspark.sql.functions.levenshtein.html) para calcular la distancia entre dos cadenas, [lpad](https://spark.apache.org/docs/latest/api/python/reference/pyspark.sql/api/pyspark.sql.functions.lpad.html) y [rpad](https://spark.apache.org/docs/latest/api/python/reference/pyspark.sql/api/pyspark.sql.functions.rpad.html) para completar con espacios, etc... Si necesitas trabajar con expresiones regulares puedes utilizar [regexp_extract](https://spark.apache.org/docs/latest/api/python/reference/pyspark.sql/api/pyspark.sql.functions.regexp_extract.html) para extraer parte de una cadena como [regexp_replace](https://spark.apache.org/docs/latest/api/python/reference/pyspark.sql/api/pyspark.sql.functions.regexp_replace.html) para sustituir."
   ]
  },
  {
   "cell_type": "markdown",
   "metadata": {
    "application/vnd.databricks.v1+cell": {
     "cellMetadata": {
      "byteLimit": 2048000,
      "rowLimit": 10000
     },
     "inputWidgets": {},
     "nuid": "042eb13c-35f8-4718-8b8e-cb9992ae2e35",
     "showTitle": false,
     "tableResultSettingsMap": {},
     "title": ""
    }
   },
   "source": [
    "### Colecciones  \n",
    "Para probar las funciones que trabajan con colecciones, vamos a cambiar de dataset y trabajar con uno compartido por [Kaggle](https://www.kaggle.com/datasets/yelp-dataset/yelp-dataset) con datos de negocios de Yelp que tenemos almacenados en una versión reducida en [yelp_academic_dataset_business.json](https://tajamar365.sharepoint.com/:u:/s/3405-MasterIA2024-2025/ERoGHfFcPLhNn_YpkErPJ1oB0k9319KZG7ds-_yuklBJAg?e=ToWz1U). Los negocios tienen una propiedad denominada `categories` que contiene un array con las categorías de los mismos:"
   ]
  },
  {
   "cell_type": "markdown",
   "metadata": {
    "application/vnd.databricks.v1+cell": {
     "cellMetadata": {
      "byteLimit": 2048000,
      "rowLimit": 10000
     },
     "inputWidgets": {},
     "nuid": "a566146e-e1da-4e2e-9b53-1b483e311cbf",
     "showTitle": false,
     "tableResultSettingsMap": {},
     "title": ""
    }
   },
   "source": [
    "```<JSON>\n",
    "{\n",
    "   \"business_id\":\"O_X3PGhk3Y5JWVi866qlJg\",\n",
    "   \"full_address\":\"1501 W Bell Rd\\nPhoenix, AZ 85023\",\n",
    "   \"hours\":{\n",
    "      \"Monday\":{\n",
    "         \"close\":\"18:00\",\n",
    "         \"open\":\"11:00\"\n",
    "      },\n",
    "      \"Tuesday\":{\n",
    "         \"close\":\"18:00\",\n",
    "         \"open\":\"11:00\"\n",
    "      },\n",
    "        ...\n",
    "   },\n",
    "   \"open\":true,\n",
    "   \"categories\":[\n",
    "      \"Active Life\",\n",
    "      \"Arts & Entertainment\",\n",
    "      \"Stadiums & Arenas\",\n",
    "      \"Horse Racing\"\n",
    "   ],\n",
    "   \"city\":\"Phoenix\",\n",
    "   ...\n",
    "}\n",
    "```"
   ]
  },
  {
   "cell_type": "markdown",
   "metadata": {
    "application/vnd.databricks.v1+cell": {
     "cellMetadata": {
      "byteLimit": 2048000,
      "rowLimit": 10000
     },
     "inputWidgets": {},
     "nuid": "6221d79b-7031-4f21-b534-7adfd42ae997",
     "showTitle": false,
     "tableResultSettingsMap": {},
     "title": ""
    }
   },
   "source": [
    "El primer paso es cargar el documento y ver el esquema inferido por Spark:"
   ]
  },
  {
   "cell_type": "code",
   "execution_count": 0,
   "metadata": {
    "application/vnd.databricks.v1+cell": {
     "cellMetadata": {
      "byteLimit": 2048000,
      "rowLimit": 10000
     },
     "inputWidgets": {},
     "nuid": "6eb5890b-69c7-4b5f-b55b-af2f04fe600f",
     "showTitle": false,
     "tableResultSettingsMap": {},
     "title": ""
    }
   },
   "outputs": [
    {
     "name": "stdout",
     "output_type": "stream",
     "text": [
      "root\n",
      " |-- attributes: struct (nullable = true)\n",
      " |    |-- Accepts Credit Cards: boolean (nullable = true)\n",
      " |    |-- Alcohol: string (nullable = true)\n",
      " |    |-- Ambience: struct (nullable = true)\n",
      " |    |    |-- casual: boolean (nullable = true)\n",
      " |    |    |-- classy: boolean (nullable = true)\n",
      " |    |    |-- divey: boolean (nullable = true)\n",
      " |    |    |-- hipster: boolean (nullable = true)\n",
      " |    |    |-- intimate: boolean (nullable = true)\n",
      " |    |    |-- romantic: boolean (nullable = true)\n",
      " |    |    |-- touristy: boolean (nullable = true)\n",
      " |    |    |-- trendy: boolean (nullable = true)\n",
      " |    |    |-- upscale: boolean (nullable = true)\n",
      " |    |-- Attire: string (nullable = true)\n",
      " |    |-- Delivery: boolean (nullable = true)\n",
      " |    |-- Good For: struct (nullable = true)\n",
      " |    |    |-- breakfast: boolean (nullable = true)\n",
      " |    |    |-- brunch: boolean (nullable = true)\n",
      " |    |    |-- dessert: boolean (nullable = true)\n",
      " |    |    |-- dinner: boolean (nullable = true)\n",
      " |    |    |-- latenight: boolean (nullable = true)\n",
      " |    |    |-- lunch: boolean (nullable = true)\n",
      " |    |-- Good For Groups: boolean (nullable = true)\n",
      " |    |-- Good for Kids: boolean (nullable = true)\n",
      " |    |-- Has TV: boolean (nullable = true)\n",
      " |    |-- Noise Level: string (nullable = true)\n",
      " |    |-- Outdoor Seating: boolean (nullable = true)\n",
      " |    |-- Parking: struct (nullable = true)\n",
      " |    |    |-- garage: boolean (nullable = true)\n",
      " |    |    |-- lot: boolean (nullable = true)\n",
      " |    |    |-- street: boolean (nullable = true)\n",
      " |    |    |-- valet: boolean (nullable = true)\n",
      " |    |    |-- validated: boolean (nullable = true)\n",
      " |    |-- Price Range: long (nullable = true)\n",
      " |    |-- Take-out: boolean (nullable = true)\n",
      " |    |-- Takes Reservations: boolean (nullable = true)\n",
      " |    |-- Waiter Service: boolean (nullable = true)\n",
      " |    |-- Wheelchair Accessible: boolean (nullable = true)\n",
      " |    |-- Wi-Fi: string (nullable = true)\n",
      " |-- business_id: string (nullable = true)\n",
      " |-- categories: array (nullable = true)\n",
      " |    |-- element: string (containsNull = true)\n",
      " |-- city: string (nullable = true)\n",
      " |-- full_address: string (nullable = true)\n",
      " |-- hours: struct (nullable = true)\n",
      " |    |-- Friday: struct (nullable = true)\n",
      " |    |    |-- close: string (nullable = true)\n",
      " |    |    |-- open: string (nullable = true)\n",
      " |    |-- Monday: struct (nullable = true)\n",
      " |    |    |-- close: string (nullable = true)\n",
      " |    |    |-- open: string (nullable = true)\n",
      " |    |-- Saturday: struct (nullable = true)\n",
      " |    |    |-- close: string (nullable = true)\n",
      " |    |    |-- open: string (nullable = true)\n",
      " |    |-- Sunday: struct (nullable = true)\n",
      " |    |    |-- close: string (nullable = true)\n",
      " |    |    |-- open: string (nullable = true)\n",
      " |    |-- Thursday: struct (nullable = true)\n",
      " |    |    |-- close: string (nullable = true)\n",
      " |    |    |-- open: string (nullable = true)\n",
      " |    |-- Tuesday: struct (nullable = true)\n",
      " |    |    |-- close: string (nullable = true)\n",
      " |    |    |-- open: string (nullable = true)\n",
      " |    |-- Wednesday: struct (nullable = true)\n",
      " |    |    |-- close: string (nullable = true)\n",
      " |    |    |-- open: string (nullable = true)\n",
      " |-- latitude: double (nullable = true)\n",
      " |-- longitude: double (nullable = true)\n",
      " |-- name: string (nullable = true)\n",
      " |-- neighborhoods: array (nullable = true)\n",
      " |    |-- element: string (containsNull = true)\n",
      " |-- open: boolean (nullable = true)\n",
      " |-- review_count: long (nullable = true)\n",
      " |-- stars: double (nullable = true)\n",
      " |-- state: string (nullable = true)\n",
      " |-- type: string (nullable = true)\n",
      "\n"
     ]
    }
   ],
   "source": [
    "from pyspark.sql import SparkSession\n",
    "\n",
    "spark = SparkSession.builder.appName(\"s8a-dataframes-arrays\").getOrCreate()\n",
    "\n",
    "df = spark.read.option(\"inferSchema\", \"true\").option(\"multiline\",True).json(\"/FileStore/dataframes-api/dataset/yelp_academic_dataset_business.json\")\n",
    "\n",
    "df.printSchema()"
   ]
  },
  {
   "cell_type": "markdown",
   "metadata": {
    "application/vnd.databricks.v1+cell": {
     "cellMetadata": {
      "byteLimit": 2048000,
      "rowLimit": 10000
     },
     "inputWidgets": {},
     "nuid": "e24d3c42-c2e8-4e7f-b15a-46cd131639f0",
     "showTitle": false,
     "tableResultSettingsMap": {},
     "title": ""
    }
   },
   "source": [
    "Como se puede observar, sigue una estructura de elementos anidados."
   ]
  },
  {
   "cell_type": "markdown",
   "metadata": {
    "application/vnd.databricks.v1+cell": {
     "cellMetadata": {
      "byteLimit": 2048000,
      "rowLimit": 10000
     },
     "inputWidgets": {},
     "nuid": "a2187ed3-47c8-4fc0-8c1a-ed181104293b",
     "showTitle": false,
     "tableResultSettingsMap": {},
     "title": ""
    }
   },
   "source": [
    "Por ejemplo, vamos a ver mediante un ejemplo las siguientes funciones:  \n",
    "- `size`: devuelve el tamaño de la colección  \n",
    "- `sort_array`: ordena la colección  \n",
    "- `array_contains`: comprueba si hay un elemento en la colección"
   ]
  },
  {
   "cell_type": "code",
   "execution_count": 0,
   "metadata": {
    "application/vnd.databricks.v1+cell": {
     "cellMetadata": {
      "byteLimit": 2048000,
      "rowLimit": 10000
     },
     "inputWidgets": {},
     "nuid": "efd02dad-5495-4214-957e-9dab90cffe9b",
     "showTitle": false,
     "tableResultSettingsMap": {},
     "title": ""
    }
   },
   "outputs": [
    {
     "name": "stdout",
     "output_type": "stream",
     "text": [
      "+--------------------+\n",
      "|               hours|\n",
      "+--------------------+\n",
      "|{{18:00, 11:00}, ...|\n",
      "+--------------------+\n",
      "\n"
     ]
    }
   ],
   "source": [
    "df.select(\"hours\").show(10)\n"
   ]
  },
  {
   "cell_type": "code",
   "execution_count": 0,
   "metadata": {
    "application/vnd.databricks.v1+cell": {
     "cellMetadata": {
      "byteLimit": 2048000,
      "rowLimit": 10000
     },
     "inputWidgets": {},
     "nuid": "f0c76c32-b8d7-4d02-8a3f-53883039ab7e",
     "showTitle": false,
     "tableResultSettingsMap": {},
     "title": ""
    }
   },
   "outputs": [],
   "source": [
    "df = df.filter(df[\"hours\"].isNotNull())\n"
   ]
  },
  {
   "cell_type": "code",
   "execution_count": 0,
   "metadata": {
    "application/vnd.databricks.v1+cell": {
     "cellMetadata": {
      "byteLimit": 2048000,
      "rowLimit": 10000
     },
     "inputWidgets": {},
     "nuid": "14d8a55c-1226-46ea-b64d-d3ea131c809c",
     "showTitle": false,
     "tableResultSettingsMap": {},
     "title": ""
    }
   },
   "outputs": [
    {
     "name": "stdout",
     "output_type": "stream",
     "text": [
      "+--------------------+--------------+---------------+--------------------+------------+\n",
      "|                name|        Sunday|totalCategories|    sortedCategories|isRestaurant|\n",
      "+--------------------+--------------+---------------+--------------------+------------+\n",
      "|Turf Paradise Rac...|{18:00, 11:00}|              4|[Active Life, Art...|       false|\n",
      "+--------------------+--------------+---------------+--------------------+------------+\n",
      "\n"
     ]
    }
   ],
   "source": [
    "from pyspark.sql.functions import size, sort_array, array_contains\n",
    "\n",
    "df.select(\n",
    "    \"name\",\n",
    "    \"hours.Sunday\",\n",
    "    size(\"categories\").alias(\"totalCategories\"),  # Cuenta el número de elementos en la lista 'categories'\n",
    "    sort_array(\"categories\").alias(\"sortedCategories\"),  # Ordena los elementos de 'categories'\n",
    "    array_contains(\"categories\", \"Restaurants\").alias(\"isRestaurant\")  # Verifica si 'categories' contiene \"Restaurants\"\n",
    ").show()\n"
   ]
  },
  {
   "cell_type": "markdown",
   "metadata": {
    "application/vnd.databricks.v1+cell": {
     "cellMetadata": {
      "byteLimit": 2048000,
      "rowLimit": 10000
     },
     "inputWidgets": {},
     "nuid": "eae13f9f-a95f-4ad6-b374-a08fdbb1a469",
     "showTitle": false,
     "tableResultSettingsMap": {},
     "title": ""
    }
   },
   "source": [
    "Así pues, además del nombre, hemos obtenido el horario de los domingos utilizando la notación `.` para acceder a los campos anidados, la cantidad de categorías de cada comercio, un listado ordenado con sus categorías y finalmente si es un restaurante."
   ]
  },
  {
   "cell_type": "markdown",
   "metadata": {
    "application/vnd.databricks.v1+cell": {
     "cellMetadata": {
      "byteLimit": 2048000,
      "rowLimit": 10000
     },
     "inputWidgets": {},
     "nuid": "0de59636-5ebf-41b2-a691-332e1592124f",
     "showTitle": false,
     "tableResultSettingsMap": {},
     "title": ""
    }
   },
   "source": [
    "> **Tip**  \n",
    "> Recuerda que en el apartado `Agrupando colecciones` vimos como podemos crear colecciones al realizar una agrupación."
   ]
  },
  {
   "cell_type": "markdown",
   "metadata": {
    "application/vnd.databricks.v1+cell": {
     "cellMetadata": {
      "byteLimit": 2048000,
      "rowLimit": 10000
     },
     "inputWidgets": {},
     "nuid": "ee612170-0d7f-437f-bdc4-8309a5fee7a5",
     "showTitle": false,
     "tableResultSettingsMap": {},
     "title": ""
    }
   },
   "source": [
    "Otro tipo de operación que podemos realizar es desenrollar una colección mediante la función `explode` y generar una fila nueva por cada elemento de la colección:"
   ]
  },
  {
   "cell_type": "code",
   "execution_count": 0,
   "metadata": {
    "application/vnd.databricks.v1+cell": {
     "cellMetadata": {
      "byteLimit": 2048000,
      "rowLimit": 10000
     },
     "inputWidgets": {},
     "nuid": "8e31fc80-ae8e-4fd7-8436-f8a5914b5dc2",
     "showTitle": false,
     "tableResultSettingsMap": {},
     "title": ""
    }
   },
   "outputs": [
    {
     "name": "stdout",
     "output_type": "stream",
     "text": [
      "+--------------------+--------------------+\n",
      "|                name|                 col|\n",
      "+--------------------+--------------------+\n",
      "|Turf Paradise Rac...|         Active Life|\n",
      "|Turf Paradise Rac...|Arts & Entertainment|\n",
      "|Turf Paradise Rac...|   Stadiums & Arenas|\n",
      "|Turf Paradise Rac...|        Horse Racing|\n",
      "+--------------------+--------------------+\n",
      "\n"
     ]
    }
   ],
   "source": [
    "from pyspark.sql.functions import explode\n",
    "\n",
    "df.select(\"name\", explode(\"categories\")).show()\n",
    "# +-------------------------+--------------------+\n",
    "# |name                     |col                 |\n",
    "# +-------------------------+--------------------+\n",
    "# |Turf Paradise Race Course|Active Life         |\n",
    "# |Turf Paradise Race Course|Arts & Entertainment|\n",
    "# |Turf Paradise Race Course|Stadiums & Arenas   |\n",
    "# |Turf Paradise Race Course|Horse Racing        |\n",
    "# |Sam's Club Members Only  |Tires               |\n",
    "# |Sam's Club Members Only  |Automotive          |\n",
    "# |Sam's Club Members Only  |Fashion             |\n",
    "# |Sam's Club Members Only  |Shopping            |\n",
    "# |Sam's Club Members Only  |Department Stores   |\n",
    "# |Forever 21               |Women's Clothing    |\n",
    "# +-------------------------+--------------------+\n",
    "# only showing top 10 rows"
   ]
  },
  {
   "cell_type": "markdown",
   "metadata": {
    "application/vnd.databricks.v1+cell": {
     "cellMetadata": {
      "byteLimit": 2048000,
      "rowLimit": 10000
     },
     "inputWidgets": {},
     "nuid": "1e6bc028-97ca-46a4-b6ff-343f4b36c482",
     "showTitle": false,
     "tableResultSettingsMap": {},
     "title": ""
    }
   },
   "source": [
    "### JSON  \n",
    "\n",
    "Es común que se de el caso de que los datos que leemos desde un sistema externo estén en formato JSON pero que el proceso de ingesta lo haya realizado como si fuera una cadena de texto.\n",
    "\n",
    "Supongamos que tenemos la siguiente cadena y generados un DataFrame a partir de un RDD:"
   ]
  },
  {
   "cell_type": "code",
   "execution_count": 0,
   "metadata": {
    "application/vnd.databricks.v1+cell": {
     "cellMetadata": {
      "byteLimit": 2048000,
      "rowLimit": 10000
     },
     "inputWidgets": {},
     "nuid": "e1f4da7a-acbc-4154-b1a1-7098945366ac",
     "showTitle": false,
     "tableResultSettingsMap": {},
     "title": ""
    }
   },
   "outputs": [],
   "source": [
    "tareas = [\"\"\"{\"dia\": \"Lunes\", \"tareas\": [\"Corregir ejercicios\", \"Ir a nadar\", \"Comprar pan\"]}\"\"\"]\n",
    "# ['{\"dia\": \"Lunes\", \"tareas\": [\"Corregir ejercicios\", \"Ir a nadar\", \"Comprar pan\"]}']\n",
    "tareasRDD = spark.sparkContext.parallelize(tareas)\n",
    "tareasStrDF = tareasRDD.toDF(\"string\")\n",
    "# tareasStrDF es un DF con una columna con nombre value de tipo string\n",
    "\n"
   ]
  },
  {
   "cell_type": "code",
   "execution_count": 0,
   "metadata": {
    "application/vnd.databricks.v1+cell": {
     "cellMetadata": {
      "byteLimit": 2048000,
      "rowLimit": 10000
     },
     "inputWidgets": {},
     "nuid": "f3ece677-2f5b-46c7-a403-8bd2871ee9aa",
     "showTitle": false,
     "tableResultSettingsMap": {},
     "title": ""
    }
   },
   "outputs": [
    {
     "name": "stdout",
     "output_type": "stream",
     "text": [
      "root\n",
      " |-- value: string (nullable = true)\n",
      "\n"
     ]
    }
   ],
   "source": [
    "tareasStrDF.printSchema()\n",
    "# root\n",
    "#  |-- value: string (nullable = true)"
   ]
  },
  {
   "cell_type": "code",
   "execution_count": 0,
   "metadata": {
    "application/vnd.databricks.v1+cell": {
     "cellMetadata": {
      "byteLimit": 2048000,
      "rowLimit": 10000
     },
     "inputWidgets": {},
     "nuid": "c3d9d45c-37e4-4d76-aeb5-2f455ac071f8",
     "showTitle": false,
     "tableResultSettingsMap": {},
     "title": ""
    }
   },
   "outputs": [
    {
     "name": "stdout",
     "output_type": "stream",
     "text": [
      "+--------------------+\n",
      "|               value|\n",
      "+--------------------+\n",
      "|{\"dia\": \"Lunes\", ...|\n",
      "+--------------------+\n",
      "\n"
     ]
    }
   ],
   "source": [
    "tareasStrDF.show()\n",
    "# +--------------------+\n",
    "# |               value|\n",
    "# +--------------------+\n",
    "# |{\"dia\": \"Lunes\", ...|\n",
    "# +--------------------+"
   ]
  },
  {
   "cell_type": "markdown",
   "metadata": {
    "application/vnd.databricks.v1+cell": {
     "cellMetadata": {
      "byteLimit": 2048000,
      "rowLimit": 10000
     },
     "inputWidgets": {},
     "nuid": "4a6296fd-5d5f-43b0-ac24-dabf17527128",
     "showTitle": false,
     "tableResultSettingsMap": {},
     "title": ""
    }
   },
   "source": [
    "Para pasarlo a JSON, necesitamos definir un esquema con la estructura del documento JSON:  "
   ]
  },
  {
   "cell_type": "code",
   "execution_count": 0,
   "metadata": {
    "application/vnd.databricks.v1+cell": {
     "cellMetadata": {
      "byteLimit": 2048000,
      "rowLimit": 10000
     },
     "inputWidgets": {},
     "nuid": "671d4a10-5cde-470b-9629-670029dc7aa9",
     "showTitle": false,
     "tableResultSettingsMap": {},
     "title": ""
    }
   },
   "outputs": [],
   "source": [
    "from pyspark.sql.types import StructType, StructField, StringType, ArrayType\n",
    "\n",
    "esquemaTareas = StructType([\n",
    "    StructField(\"dia\", StringType(), False),\n",
    "    StructField(\"tareas\", ArrayType(StringType(), False), False)\n",
    "])"
   ]
  },
  {
   "cell_type": "markdown",
   "metadata": {
    "application/vnd.databricks.v1+cell": {
     "cellMetadata": {
      "byteLimit": 2048000,
      "rowLimit": 10000
     },
     "inputWidgets": {},
     "nuid": "c8504840-859d-45f4-96b2-fb7dec7c0050",
     "showTitle": false,
     "tableResultSettingsMap": {},
     "title": ""
    }
   },
   "source": [
    "Y a continuación ya podemos transformar el formato mediante la función [`from_json`](https://spark.apache.org/docs/latest/api/python/reference/pyspark.sql/api/pyspark.sql.functions.from_json.html):"
   ]
  },
  {
   "cell_type": "code",
   "execution_count": 0,
   "metadata": {
    "application/vnd.databricks.v1+cell": {
     "cellMetadata": {
      "byteLimit": 2048000,
      "rowLimit": 10000
     },
     "inputWidgets": {},
     "nuid": "2805dc21-cd07-4307-941c-366fd9a1ddd6",
     "showTitle": false,
     "tableResultSettingsMap": {},
     "title": ""
    }
   },
   "outputs": [
    {
     "name": "stdout",
     "output_type": "stream",
     "text": [
      "root\n",
      " |-- datos: struct (nullable = true)\n",
      " |    |-- dia: string (nullable = true)\n",
      " |    |-- tareas: array (nullable = true)\n",
      " |    |    |-- element: string (containsNull = true)\n",
      "\n"
     ]
    }
   ],
   "source": [
    "from pyspark.sql.functions import from_json\n",
    "\n",
    "todosDF = tareasStrDF.select(from_json(\"value\", esquemaTareas).alias(\"datos\"))\n",
    "todosDF.printSchema()\n",
    "# root\n",
    "#  |-- datos: struct (nullable = true)\n",
    "#  |    |-- dia: string (nullable = true)\n",
    "#  |    |-- tareas: array (nullable = true)\n",
    "#  |    |    |-- element: string (containsNull = true)"
   ]
  },
  {
   "cell_type": "markdown",
   "metadata": {
    "application/vnd.databricks.v1+cell": {
     "cellMetadata": {
      "byteLimit": 2048000,
      "rowLimit": 10000
     },
     "inputWidgets": {},
     "nuid": "9b4934b1-5259-42a7-8168-391b73207489",
     "showTitle": false,
     "tableResultSettingsMap": {},
     "title": ""
    }
   },
   "source": [
    "Y ahora ya podemos acceder a los datos (en el siguiente ejemplo empleamos la función `getItem` para acceder a un elemento de una columna, así como la notación punto mediante una expresión y los corchetes para recuperar un determinado elemento):"
   ]
  },
  {
   "cell_type": "code",
   "execution_count": 0,
   "metadata": {
    "application/vnd.databricks.v1+cell": {
     "cellMetadata": {
      "byteLimit": 2048000,
      "rowLimit": 10000
     },
     "inputWidgets": {},
     "nuid": "90d1b509-1645-426e-a629-ba8c725d6a91",
     "showTitle": false,
     "tableResultSettingsMap": {},
     "title": ""
    }
   },
   "outputs": [
    {
     "name": "stdout",
     "output_type": "stream",
     "text": [
      "+---------+--------------------+-------------------+\n",
      "|datos.dia|              tareas|             tarea1|\n",
      "+---------+--------------------+-------------------+\n",
      "|    Lunes|[Corregir ejercic...|Corregir ejercicios|\n",
      "+---------+--------------------+-------------------+\n",
      "\n"
     ]
    }
   ],
   "source": [
    "todosDF.select(\n",
    "    col(\"datos\").getItem(\"dia\").alias(\"datos.dia\"),  # Extrae el campo 'dia'\n",
    "    col(\"datos\").getItem(\"tareas\").alias(\"tareas\"),  # Extrae el campo 'tareas' completo\n",
    "    col(\"datos\").getItem(\"tareas\")[0].alias(\"tarea1\")  # Accede al primer elemento de 'tareas'\n",
    ").show()\n"
   ]
  },
  {
   "cell_type": "markdown",
   "metadata": {
    "application/vnd.databricks.v1+cell": {
     "cellMetadata": {
      "byteLimit": 2048000,
      "rowLimit": 10000
     },
     "inputWidgets": {},
     "nuid": "492b546a-b734-4944-937d-60e6f1b021b6",
     "showTitle": false,
     "tableResultSettingsMap": {},
     "title": ""
    }
   },
   "source": [
    "Para terminar, si necesitamos la operación inversa, y lo que queremos es crear una representación JSON de una columna, podemos utilizar la función [to_json](https://spark.apache.org/docs/latest/api/python/reference/pyspark.sql/api/pyspark.sql.functions.to_json.html):"
   ]
  },
  {
   "cell_type": "code",
   "execution_count": 0,
   "metadata": {
    "application/vnd.databricks.v1+cell": {
     "cellMetadata": {
      "byteLimit": 2048000,
      "rowLimit": 10000
     },
     "inputWidgets": {},
     "nuid": "b5f3be16-a70f-42a5-9791-b3fde799b3a8",
     "showTitle": false,
     "tableResultSettingsMap": {},
     "title": ""
    }
   },
   "outputs": [
    {
     "name": "stdout",
     "output_type": "stream",
     "text": [
      "+--------------------+\n",
      "|      to_json(datos)|\n",
      "+--------------------+\n",
      "|{\"dia\":\"Lunes\",\"t...|\n",
      "+--------------------+\n",
      "\n"
     ]
    }
   ],
   "source": [
    "from pyspark.sql.functions import to_json\n",
    "\n",
    "todosDF.select(to_json(\"datos\")).show()\n",
    "# +---------------------------------------------------------------------------+\n",
    "# |to_json(datos)                                                             |\n",
    "# +---------------------------------------------------------------------------+\n",
    "# |{\"dia\":\"Lunes\",\"tareas\":[\"Corregir ejercicios\",\"Ir a nadar\",\"Comprar pan\"]}|\n",
    "# +---------------------------------------------------------------------------+"
   ]
  },
  {
   "cell_type": "markdown",
   "metadata": {
    "application/vnd.databricks.v1+cell": {
     "cellMetadata": {
      "byteLimit": 2048000,
      "rowLimit": 10000
     },
     "inputWidgets": {},
     "nuid": "1d9833fd-bb5f-4bea-b436-f4c9e4df530d",
     "showTitle": false,
     "tableResultSettingsMap": {},
     "title": ""
    }
   },
   "source": [
    "### UDF  \n",
    "Además de las funciones que ofrece Spark, en cualquier momento podemos crear nuestras funciones de usuario (User-Defined Functions) para ampliar la expresividad de Spark. Antes de utilizarlas, las hemos de definir y registrar.\n",
    "\n",
    "Si volvemos al dataset de ventas, teníamos la siguiente información:"
   ]
  },
  {
   "cell_type": "code",
   "execution_count": 0,
   "metadata": {
    "application/vnd.databricks.v1+cell": {
     "cellMetadata": {
      "byteLimit": 2048000,
      "rowLimit": 10000
     },
     "inputWidgets": {},
     "nuid": "d21595e5-ea3c-4fee-8a95-2624335e6413",
     "showTitle": false,
     "tableResultSettingsMap": {},
     "title": ""
    }
   },
   "outputs": [
    {
     "name": "stdout",
     "output_type": "stream",
     "text": [
      "root\n",
      " |-- ProductID: integer (nullable = true)\n",
      " |-- Date: date (nullable = true)\n",
      " |-- Zip: string (nullable = true)\n",
      " |-- Units: integer (nullable = true)\n",
      " |-- Revenue: double (nullable = true)\n",
      " |-- Country: string (nullable = true)\n",
      "\n"
     ]
    }
   ],
   "source": [
    "from pyspark.sql import SparkSession\n",
    "\n",
    "spark = SparkSession.builder.appName(\"s8a-dataframes-api\").getOrCreate()\n",
    "# Lectura de CSV con el ; como separador de columnas y con encabezado\n",
    "df = spark.read.option(\"sep\",\";\").option(\"header\", \"true\").option(\"inferSchema\", \"true\").csv(\"/FileStore/dataframes-api/dataset/pdi_sales_small.csv\")\n",
    "df.printSchema()"
   ]
  },
  {
   "cell_type": "code",
   "execution_count": 0,
   "metadata": {
    "application/vnd.databricks.v1+cell": {
     "cellMetadata": {
      "byteLimit": 2048000,
      "rowLimit": 10000
     },
     "inputWidgets": {},
     "nuid": "679373a2-b2e4-4b1e-9041-3387758ada69",
     "showTitle": false,
     "tableResultSettingsMap": {},
     "title": ""
    }
   },
   "outputs": [
    {
     "name": "stdout",
     "output_type": "stream",
     "text": [
      "+---------+-------+-----+\n",
      "|ProductID|Revenue|Units|\n",
      "+---------+-------+-----+\n",
      "|      495|43194.1|   77|\n",
      "|     2091| 6240.1|   41|\n",
      "|     2091| 6347.7|   41|\n",
      "|     2091| 3652.7|   24|\n",
      "|     2091| 3560.9|   23|\n",
      "|      495|10395.0|   18|\n",
      "|      464| 9817.5|   17|\n",
      "|      464|10075.8|   16|\n",
      "|     1006| 1427.2|   16|\n",
      "|      495| 9240.0|   16|\n",
      "+---------+-------+-----+\n",
      "only showing top 10 rows\n",
      "\n"
     ]
    }
   ],
   "source": [
    "df.select(\"ProductID\", \"Revenue\", \"Units\").sort(\"Units\", ascending=False).show(10)\n",
    "# +---------+-------+-----+\n",
    "# |ProductID|Revenue|Units|\n",
    "# +---------+-------+-----+\n",
    "# |      495|43194.1|   77|\n",
    "# |     2091| 6347.7|   41|\n",
    "# |     2091| 6240.1|   41|\n",
    "# |     2091| 3652.7|   24|\n",
    "# |     2091| 3560.9|   23|\n",
    "# +---------+-------+-----+\n",
    "# only showing top 5 rows"
   ]
  },
  {
   "cell_type": "markdown",
   "metadata": {
    "application/vnd.databricks.v1+cell": {
     "cellMetadata": {
      "byteLimit": 2048000,
      "rowLimit": 10000
     },
     "inputWidgets": {},
     "nuid": "e472f724-028b-4e2b-b2bc-7550c55744bd",
     "showTitle": false,
     "tableResultSettingsMap": {},
     "title": ""
    }
   },
   "source": [
    "Vamos a crear una función para que, si vende más de una unidad, se le asigne a cada producto un bonus de un 1%. Para ello, primero definiremos la función mediante Python, y posteriormente, la registraremos mediante la función [udf](https://spark.apache.org/docs/latest/api/python/reference/pyspark.sql/api/pyspark.sql.functions.udf.html):"
   ]
  },
  {
   "cell_type": "code",
   "execution_count": 0,
   "metadata": {
    "application/vnd.databricks.v1+cell": {
     "cellMetadata": {
      "byteLimit": 2048000,
      "rowLimit": 10000
     },
     "inputWidgets": {},
     "nuid": "a3057eb4-b914-4b2c-95be-ed6451976853",
     "showTitle": false,
     "tableResultSettingsMap": {},
     "title": ""
    }
   },
   "outputs": [],
   "source": [
    "from pyspark.sql.functions import udf\n",
    "from pyspark.sql.types import DoubleType\n",
    "\n",
    "def bonus(unidades, ventas):\n",
    "    if unidades == 1 :\n",
    "        return 0.0\n",
    "    else:\n",
    "        return unidades * ventas / 100\n",
    "\n",
    "udfBonus = udf(bonus, DoubleType())"
   ]
  },
  {
   "cell_type": "markdown",
   "metadata": {
    "application/vnd.databricks.v1+cell": {
     "cellMetadata": {
      "byteLimit": 2048000,
      "rowLimit": 10000
     },
     "inputWidgets": {},
     "nuid": "4264c4df-328c-4a90-8f76-0bd6c35ca787",
     "showTitle": false,
     "tableResultSettingsMap": {},
     "title": ""
    }
   },
   "source": [
    "Así pues, si realizamos una consulta, ya podemos utilizar la función recién creada como si fuera una propia de Spark:"
   ]
  },
  {
   "cell_type": "code",
   "execution_count": 0,
   "metadata": {
    "application/vnd.databricks.v1+cell": {
     "cellMetadata": {
      "byteLimit": 2048000,
      "rowLimit": 10000
     },
     "inputWidgets": {},
     "nuid": "1081aa53-0b4b-4e1a-9e3d-cd19617cfa32",
     "showTitle": false,
     "tableResultSettingsMap": {},
     "title": ""
    }
   },
   "outputs": [
    {
     "name": "stdout",
     "output_type": "stream",
     "text": [
      "+---------+-------+-----+---------------------+\n",
      "|ProductID|Revenue|Units|bonus(Units, Revenue)|\n",
      "+---------+-------+-----+---------------------+\n",
      "|      495|43194.1|   77|   33259.456999999995|\n",
      "|     2091| 6240.1|   41|   2558.4410000000003|\n",
      "|     2091| 6347.7|   41|             2602.557|\n",
      "|     2091| 3652.7|   24|    876.6479999999999|\n",
      "|     2091| 3560.9|   23|              819.007|\n",
      "|      495|10395.0|   18|               1871.1|\n",
      "|      464| 9817.5|   17|             1668.975|\n",
      "|      464|10075.8|   16|             1612.128|\n",
      "|     1006| 1427.2|   16|              228.352|\n",
      "|      495| 9240.0|   16|               1478.4|\n",
      "+---------+-------+-----+---------------------+\n",
      "only showing top 10 rows\n",
      "\n"
     ]
    }
   ],
   "source": [
    "df.select(\"ProductID\", \"Revenue\", \"Units\", udfBonus(df.Units, df.Revenue)).sort(\"Units\", ascending=False).show(10)\n",
    "# +---------+-------+-----+---------------------+\n",
    "# |ProductID|Revenue|Units|bonus(Units, Revenue)|\n",
    "# +---------+-------+-----+---------------------+\n",
    "# |      495|43194.1|   77|   33259.456999999995|\n",
    "# |     2091| 6347.7|   41|             2602.557|\n",
    "# |     2091| 6240.1|   41|   2558.4410000000003|\n",
    "# |     2091| 3652.7|   24|    876.6479999999999|\n",
    "# |     2091| 3560.9|   23|              819.007|\n",
    "# +---------+-------+-----+---------------------+\n",
    "# only showing top 5 rows"
   ]
  },
  {
   "cell_type": "markdown",
   "metadata": {
    "application/vnd.databricks.v1+cell": {
     "cellMetadata": {
      "byteLimit": 2048000,
      "rowLimit": 10000
     },
     "inputWidgets": {},
     "nuid": "6cd45341-3854-4f73-be5b-051b95df6ccc",
     "showTitle": false,
     "tableResultSettingsMap": {},
     "title": ""
    }
   },
   "source": [
    "Si queremos definir la función para poder utilizarla dentro de Spark SQL y obtener el mismo resultado, hemos de registrar la función mediante *spark.udf.register*, la cual recibe el nombre que le asignaremos a la función, el nombre de la función Python a invocar, y el tipo de dato que devuelve:"
   ]
  },
  {
   "cell_type": "code",
   "execution_count": 0,
   "metadata": {
    "application/vnd.databricks.v1+cell": {
     "cellMetadata": {
      "byteLimit": 2048000,
      "rowLimit": 10000
     },
     "inputWidgets": {},
     "nuid": "13faa06e-50bc-486e-a9df-3e69e56bdd63",
     "showTitle": false,
     "tableResultSettingsMap": {},
     "title": ""
    }
   },
   "outputs": [
    {
     "name": "stdout",
     "output_type": "stream",
     "text": [
      "+---------+-------+-----+------------------+\n",
      "|ProductID|Revenue|Units|             Bonus|\n",
      "+---------+-------+-----+------------------+\n",
      "|      495|43194.1|   77|33259.456999999995|\n",
      "|     2091| 6240.1|   41|2558.4410000000003|\n",
      "|     2091| 6347.7|   41|          2602.557|\n",
      "|     2091| 3652.7|   24| 876.6479999999999|\n",
      "|     2091| 3560.9|   23|           819.007|\n",
      "|      495|10395.0|   18|            1871.1|\n",
      "|      464| 9817.5|   17|          1668.975|\n",
      "|      464|10075.8|   16|          1612.128|\n",
      "|     1006| 1427.2|   16|           228.352|\n",
      "|      495| 9240.0|   16|            1478.4|\n",
      "+---------+-------+-----+------------------+\n",
      "only showing top 10 rows\n",
      "\n"
     ]
    }
   ],
   "source": [
    "# Registra la función UDF\n",
    "spark.udf.register(\"udfBonus\", bonus, DoubleType())\n",
    "\n",
    "# Registra el DataFrame como una vista temporal\n",
    "df.createOrReplaceTempView(\"ventas\")\n",
    "\n",
    "# Ejecuta la consulta SQL\n",
    "spark.sql(\n",
    "    \"\"\"\n",
    "    SELECT ProductID, Revenue, Units, \n",
    "           udfBonus(Units, Revenue) AS Bonus\n",
    "    FROM ventas\n",
    "    ORDER BY Units DESC\n",
    "    \"\"\"\n",
    ").show(10)\n"
   ]
  },
  {
   "cell_type": "markdown",
   "metadata": {
    "application/vnd.databricks.v1+cell": {
     "cellMetadata": {
      "byteLimit": 2048000,
      "rowLimit": 10000
     },
     "inputWidgets": {},
     "nuid": "21528961-e64a-401f-a9e2-083fb960c09f",
     "showTitle": false,
     "tableResultSettingsMap": {},
     "title": ""
    }
   },
   "source": [
    "> **UDF y Python**  \n",
    "> En un principio, se desaconseja la creación de UDF mediante Python, ya que su uso penaliza de forma significativa el rendimiento. Los ejecutores son procesos en máquinas virtuales de Java que están escritos en Java, y por ello, ejecutan código Java o Scala de forma nativa. En cambio, para Python tiene que ejecutar un proceso separado para ejecutar la UDF, lo que implica un coste extra para serializar y volver a deserializar los datos para cada fila del dataset.  "
   ]
  },
  {
   "cell_type": "markdown",
   "metadata": {
    "application/vnd.databricks.v1+cell": {
     "cellMetadata": {
      "byteLimit": 2048000,
      "rowLimit": 10000
     },
     "inputWidgets": {},
     "nuid": "5de904c2-d10d-4eda-84a5-8cb7ad38a5a5",
     "showTitle": false,
     "tableResultSettingsMap": {},
     "title": ""
    }
   },
   "source": [
    "### Cacheando  \n",
    "\n",
    "Un DataFrame se puede persistir/cachear en memoria conforme necesitemos (también lo podemos hacer con los RDD). Su principal propósito es cuando vamos a acceder a un DataFrame una y otra vez y no necesitamos que se vuelvan a evaluar todas las operaciones (como pueden ser los algoritmos iterativos utilizados en Machine Learning)."
   ]
  },
  {
   "cell_type": "markdown",
   "metadata": {
    "application/vnd.databricks.v1+cell": {
     "cellMetadata": {
      "byteLimit": 2048000,
      "rowLimit": 10000
     },
     "inputWidgets": {},
     "nuid": "93dc4064-61b5-47dc-901f-0ebdc940da03",
     "showTitle": false,
     "tableResultSettingsMap": {},
     "title": ""
    }
   },
   "source": [
    "> Si estás interesado en optimizar el uso de memoria al trabajar con DataFrames, [Brayan Buitrago](https://brabuitrago.medium.com/) tiene una serie de artículos sobre [Spark Performace: Cache() & Persist()](https://medium.com/iwannabedatadriven/spark-performace-cache-persist-i-c39e0c142fe5) muy interesantes."
   ]
  },
  {
   "cell_type": "markdown",
   "metadata": {
    "application/vnd.databricks.v1+cell": {
     "cellMetadata": {
      "byteLimit": 2048000,
      "rowLimit": 10000
     },
     "inputWidgets": {},
     "nuid": "733909c4-0f3d-492c-bd39-f876dd76ae78",
     "showTitle": false,
     "tableResultSettingsMap": {},
     "title": ""
    }
   },
   "source": [
    "Cuando persistimos un dataset, cada nodo almacena sus datos particionados en memoria y/o disco y los reutiliza en otras operaciones sobre dicho dataset.  \n",
    "Para ello, se emplean los métodos [cache](https://spark.apache.org/docs/latest/api/python/reference/pyspark.sql/api/pyspark.sql.DataFrame.cache.html) / [persist](https://spark.apache.org/docs/latest/api/python/reference/pyspark.sql/api/pyspark.sql.DataFrame.persist.html) y [unpersist](https://spark.apache.org/docs/latest/api/python/reference/pyspark.sql/api/pyspark.sql.DataFrame.unpersist.html) para cachear y liberar los datos."
   ]
  },
  {
   "cell_type": "code",
   "execution_count": 0,
   "metadata": {
    "application/vnd.databricks.v1+cell": {
     "cellMetadata": {
      "byteLimit": 2048000,
      "rowLimit": 10000
     },
     "inputWidgets": {},
     "nuid": "b9291fc8-4839-4be8-a5b0-16430ca1beb2",
     "showTitle": false,
     "tableResultSettingsMap": {},
     "title": ""
    }
   },
   "outputs": [
    {
     "name": "stdout",
     "output_type": "stream",
     "text": [
      "Out[208]: 120239"
     ]
    }
   ],
   "source": [
    "df.persist()\n",
    "df.count()  # forzamos la evaluación perezosa"
   ]
  },
  {
   "cell_type": "code",
   "execution_count": 0,
   "metadata": {
    "application/vnd.databricks.v1+cell": {
     "cellMetadata": {
      "byteLimit": 2048000,
      "rowLimit": 10000
     },
     "inputWidgets": {},
     "nuid": "51ae40e1-7664-477a-9693-2d3f89e04ffb",
     "showTitle": false,
     "tableResultSettingsMap": {},
     "title": ""
    }
   },
   "outputs": [
    {
     "name": "stdout",
     "output_type": "stream",
     "text": [
      "+---------+----------+---------------+-----+-------+-------+\n",
      "|ProductID|      Date|            Zip|Units|Revenue|Country|\n",
      "+---------+----------+---------------+-----+-------+-------+\n",
      "|      725|1999-01-15|H1B            |    1|  115.4|Canada |\n",
      "|     2235|1999-01-15|H1B            |    2|  131.1|Canada |\n",
      "|      713|1999-01-15|H1B            |    1|  160.1|Canada |\n",
      "|      574|2002-06-05|H1B            |    1|  869.1|Canada |\n",
      "|       94|1999-02-15|H1B            |    1|  866.2|Canada |\n",
      "|      609|1999-02-15|H1B            |    1|  778.8|Canada |\n",
      "|     2064|1999-03-15|H1B            |    2|  976.4|Canada |\n",
      "|      714|1999-01-15|H1B            |    1|  160.1|Canada |\n",
      "|      826|2002-05-31|H1B            |    1|  944.9|Canada |\n",
      "|     2149|2002-06-06|H1B            |    2|  871.4|Canada |\n",
      "+---------+----------+---------------+-----+-------+-------+\n",
      "only showing top 10 rows\n",
      "\n"
     ]
    }
   ],
   "source": [
    "# Filtrar para ventas en Canadá\n",
    "# Limpiamos la búsqueda quitando los espacios\n",
    "ventasCanada = df.filter(trim(df[\"Country\"]) == \"Canada\")\n",
    "ventasCanada.show(10)\n"
   ]
  },
  {
   "cell_type": "code",
   "execution_count": 0,
   "metadata": {
    "application/vnd.databricks.v1+cell": {
     "cellMetadata": {
      "byteLimit": 2048000,
      "rowLimit": 10000
     },
     "inputWidgets": {},
     "nuid": "df826b8b-97ee-4370-a314-b730c8c25c8e",
     "showTitle": false,
     "tableResultSettingsMap": {},
     "title": ""
    }
   },
   "outputs": [],
   "source": [
    "ventasCanada.createOrReplaceTempView(\"ventasCanada\")\n",
    "\n",
    "spark.catalog.cacheTable(\"ventasCanada\")\n"
   ]
  },
  {
   "cell_type": "code",
   "execution_count": 0,
   "metadata": {
    "application/vnd.databricks.v1+cell": {
     "cellMetadata": {
      "byteLimit": 2048000,
      "rowLimit": 10000
     },
     "inputWidgets": {},
     "nuid": "d6938e93-cdf3-481e-aff2-62fdb7406f8c",
     "showTitle": false,
     "tableResultSettingsMap": {},
     "title": ""
    }
   },
   "outputs": [
    {
     "name": "stdout",
     "output_type": "stream",
     "text": [
      "+---------+----------+---------------+-----+-------+-------+\n",
      "|ProductID|      Date|            Zip|Units|Revenue|Country|\n",
      "+---------+----------+---------------+-----+-------+-------+\n",
      "|      725|1999-01-15|H1B            |    1|  115.4|Canada |\n",
      "|     2235|1999-01-15|H1B            |    2|  131.1|Canada |\n",
      "|      713|1999-01-15|H1B            |    1|  160.1|Canada |\n",
      "|      574|2002-06-05|H1B            |    1|  869.1|Canada |\n",
      "|       94|1999-02-15|H1B            |    1|  866.2|Canada |\n",
      "|      609|1999-02-15|H1B            |    1|  778.8|Canada |\n",
      "|     2064|1999-03-15|H1B            |    2|  976.4|Canada |\n",
      "|      714|1999-01-15|H1B            |    1|  160.1|Canada |\n",
      "|      826|2002-05-31|H1B            |    1|  944.9|Canada |\n",
      "|     2149|2002-06-06|H1B            |    2|  871.4|Canada |\n",
      "+---------+----------+---------------+-----+-------+-------+\n",
      "only showing top 10 rows\n",
      "\n"
     ]
    }
   ],
   "source": [
    "spark.sql(\"SELECT * FROM ventasCanada\").show(10)\n"
   ]
  },
  {
   "cell_type": "markdown",
   "metadata": {
    "application/vnd.databricks.v1+cell": {
     "cellMetadata": {
      "byteLimit": 2048000,
      "rowLimit": 10000
     },
     "inputWidgets": {},
     "nuid": "0ca419fe-4251-44b2-8f86-c3c30595a2f7",
     "showTitle": false,
     "tableResultSettingsMap": {},
     "title": ""
    }
   },
   "source": [
    "Una vez persistidos los datos, si accedemos a http://localhost:4040 (si se usa Docker + Jupyter Lab) veremos en la pestaña Storage que se ha creado la tabla, su tipo de almacenamiento y particiones cacheadas. **Si estás en Databricks** has click en `Compute`, luego en `Spark UI` y despues click en `Storage`, deberias ver esto:"
   ]
  },
  {
   "cell_type": "markdown",
   "metadata": {
    "application/vnd.databricks.v1+cell": {
     "cellMetadata": {
      "byteLimit": 2048000,
      "rowLimit": 10000
     },
     "inputWidgets": {},
     "nuid": "f90caeca-c99b-45b3-b78e-0a84d1ae1398",
     "showTitle": false,
     "tableResultSettingsMap": {},
     "title": ""
    }
   },
   "source": [
    "![](files/dataframes-api/images/1.png)"
   ]
  },
  {
   "cell_type": "markdown",
   "metadata": {
    "application/vnd.databricks.v1+cell": {
     "cellMetadata": {
      "byteLimit": 2048000,
      "rowLimit": 10000
     },
     "inputWidgets": {},
     "nuid": "dfe56e33-a738-48ea-8642-db16b2b32119",
     "showTitle": false,
     "tableResultSettingsMap": {},
     "title": ""
    }
   },
   "source": [
    "Una diferencia fundamental a la hora de persistir un DataFrame en comparación con un RDD, es que como Spark SQL conoce el esquema de los datos en el DataFrame, puede organizarlos de forma columnar y aplicar compresión sobre éstos para minimizar el espacio necesario."
   ]
  },
  {
   "cell_type": "markdown",
   "metadata": {
    "application/vnd.databricks.v1+cell": {
     "cellMetadata": {
      "byteLimit": 2048000,
      "rowLimit": 10000
     },
     "inputWidgets": {},
     "nuid": "ea349fef-a888-4019-8001-bdaeba4e5a1b",
     "showTitle": false,
     "tableResultSettingsMap": {},
     "title": ""
    }
   },
   "source": [
    "## DataFrames y Pandas"
   ]
  },
  {
   "cell_type": "markdown",
   "metadata": {
    "application/vnd.databricks.v1+cell": {
     "cellMetadata": {
      "byteLimit": 2048000,
      "rowLimit": 10000
     },
     "inputWidgets": {},
     "nuid": "d5dd4b4e-28c5-448b-801a-a7cfe99b4a6d",
     "showTitle": false,
     "tableResultSettingsMap": {},
     "title": ""
    }
   },
   "source": [
    "En cualquier momento podemos pasar los datos de un DataFrame de PySpark a uno de Pandas para poder aprovechar su API.\n",
    "\n",
    "Si seguimos con el dataset de Yelp, vamos a preparar una consulta de nos devuelva la cantidad de votos recibidos y puntuación media de cada ciudad:"
   ]
  },
  {
   "cell_type": "code",
   "execution_count": 0,
   "metadata": {
    "application/vnd.databricks.v1+cell": {
     "cellMetadata": {
      "byteLimit": 2048000,
      "rowLimit": 10000
     },
     "inputWidgets": {},
     "nuid": "7663e35b-16d9-44ee-9f26-4a660dd8d727",
     "showTitle": false,
     "tableResultSettingsMap": {},
     "title": ""
    }
   },
   "outputs": [
    {
     "name": "stdout",
     "output_type": "stream",
     "text": [
      "root\n",
      " |-- attributes: struct (nullable = true)\n",
      " |    |-- Accepts Credit Cards: boolean (nullable = true)\n",
      " |    |-- Alcohol: string (nullable = true)\n",
      " |    |-- Ambience: struct (nullable = true)\n",
      " |    |    |-- casual: boolean (nullable = true)\n",
      " |    |    |-- classy: boolean (nullable = true)\n",
      " |    |    |-- divey: boolean (nullable = true)\n",
      " |    |    |-- hipster: boolean (nullable = true)\n",
      " |    |    |-- intimate: boolean (nullable = true)\n",
      " |    |    |-- romantic: boolean (nullable = true)\n",
      " |    |    |-- touristy: boolean (nullable = true)\n",
      " |    |    |-- trendy: boolean (nullable = true)\n",
      " |    |    |-- upscale: boolean (nullable = true)\n",
      " |    |-- Attire: string (nullable = true)\n",
      " |    |-- Delivery: boolean (nullable = true)\n",
      " |    |-- Good For: struct (nullable = true)\n",
      " |    |    |-- breakfast: boolean (nullable = true)\n",
      " |    |    |-- brunch: boolean (nullable = true)\n",
      " |    |    |-- dessert: boolean (nullable = true)\n",
      " |    |    |-- dinner: boolean (nullable = true)\n",
      " |    |    |-- latenight: boolean (nullable = true)\n",
      " |    |    |-- lunch: boolean (nullable = true)\n",
      " |    |-- Good For Groups: boolean (nullable = true)\n",
      " |    |-- Good for Kids: boolean (nullable = true)\n",
      " |    |-- Has TV: boolean (nullable = true)\n",
      " |    |-- Noise Level: string (nullable = true)\n",
      " |    |-- Outdoor Seating: boolean (nullable = true)\n",
      " |    |-- Parking: struct (nullable = true)\n",
      " |    |    |-- garage: boolean (nullable = true)\n",
      " |    |    |-- lot: boolean (nullable = true)\n",
      " |    |    |-- street: boolean (nullable = true)\n",
      " |    |    |-- valet: boolean (nullable = true)\n",
      " |    |    |-- validated: boolean (nullable = true)\n",
      " |    |-- Price Range: long (nullable = true)\n",
      " |    |-- Take-out: boolean (nullable = true)\n",
      " |    |-- Takes Reservations: boolean (nullable = true)\n",
      " |    |-- Waiter Service: boolean (nullable = true)\n",
      " |    |-- Wheelchair Accessible: boolean (nullable = true)\n",
      " |    |-- Wi-Fi: string (nullable = true)\n",
      " |-- business_id: string (nullable = true)\n",
      " |-- categories: array (nullable = true)\n",
      " |    |-- element: string (containsNull = true)\n",
      " |-- city: string (nullable = true)\n",
      " |-- full_address: string (nullable = true)\n",
      " |-- hours: struct (nullable = true)\n",
      " |    |-- Friday: struct (nullable = true)\n",
      " |    |    |-- close: string (nullable = true)\n",
      " |    |    |-- open: string (nullable = true)\n",
      " |    |-- Monday: struct (nullable = true)\n",
      " |    |    |-- close: string (nullable = true)\n",
      " |    |    |-- open: string (nullable = true)\n",
      " |    |-- Saturday: struct (nullable = true)\n",
      " |    |    |-- close: string (nullable = true)\n",
      " |    |    |-- open: string (nullable = true)\n",
      " |    |-- Sunday: struct (nullable = true)\n",
      " |    |    |-- close: string (nullable = true)\n",
      " |    |    |-- open: string (nullable = true)\n",
      " |    |-- Thursday: struct (nullable = true)\n",
      " |    |    |-- close: string (nullable = true)\n",
      " |    |    |-- open: string (nullable = true)\n",
      " |    |-- Tuesday: struct (nullable = true)\n",
      " |    |    |-- close: string (nullable = true)\n",
      " |    |    |-- open: string (nullable = true)\n",
      " |    |-- Wednesday: struct (nullable = true)\n",
      " |    |    |-- close: string (nullable = true)\n",
      " |    |    |-- open: string (nullable = true)\n",
      " |-- latitude: double (nullable = true)\n",
      " |-- longitude: double (nullable = true)\n",
      " |-- name: string (nullable = true)\n",
      " |-- neighborhoods: array (nullable = true)\n",
      " |    |-- element: string (containsNull = true)\n",
      " |-- open: boolean (nullable = true)\n",
      " |-- review_count: long (nullable = true)\n",
      " |-- stars: double (nullable = true)\n",
      " |-- state: string (nullable = true)\n",
      " |-- type: string (nullable = true)\n",
      "\n"
     ]
    }
   ],
   "source": [
    "from pyspark.sql import SparkSession\n",
    "\n",
    "spark = SparkSession.builder.appName(\"s8a-dataframes-arrays\").getOrCreate()\n",
    "\n",
    "df = spark.read.option(\"inferSchema\", \"true\").option(\"multiline\",True).json(\"/FileStore/dataframes-api/dataset/yelp_academic_dataset_business.json\")\n",
    "\n",
    "df.printSchema()"
   ]
  },
  {
   "cell_type": "code",
   "execution_count": 0,
   "metadata": {
    "application/vnd.databricks.v1+cell": {
     "cellMetadata": {
      "byteLimit": 2048000,
      "rowLimit": 10000
     },
     "inputWidgets": {},
     "nuid": "d23471a7-bcda-4005-81ee-2991e29b61c5",
     "showTitle": false,
     "tableResultSettingsMap": {},
     "title": ""
    }
   },
   "outputs": [
    {
     "name": "stdout",
     "output_type": "stream",
     "text": [
      "+-------+\n",
      "|   city|\n",
      "+-------+\n",
      "|Phoenix|\n",
      "+-------+\n",
      "\n"
     ]
    }
   ],
   "source": [
    "df.select(\"city\").distinct().show()\n"
   ]
  },
  {
   "cell_type": "code",
   "execution_count": 0,
   "metadata": {
    "application/vnd.databricks.v1+cell": {
     "cellMetadata": {
      "byteLimit": 2048000,
      "rowLimit": 10000
     },
     "inputWidgets": {},
     "nuid": "21ac00d8-ccf4-48cf-9330-613003294185",
     "showTitle": false,
     "tableResultSettingsMap": {},
     "title": ""
    }
   },
   "outputs": [
    {
     "name": "stdout",
     "output_type": "stream",
     "text": [
      "+-------+-----+-----+\n",
      "|   city|votos|media|\n",
      "+-------+-----+-----+\n",
      "|Phoenix|    1|  4.0|\n",
      "+-------+-----+-----+\n",
      "\n"
     ]
    }
   ],
   "source": [
    "from pyspark.sql.functions import count, avg, round\n",
    "dfVotosCiudades = df.groupBy(\"city\").agg(count(\"city\").alias(\"votos\"), round(avg(\"stars\"), 3).alias(\"media\")).orderBy(\"votos\", ascending=False).limit(10)\n",
    "dfVotosCiudades.show(10)\n",
    "# +----------+-----+-----+\n",
    "# |      city|votos|media|\n",
    "# +----------+-----+-----+\n",
    "# |   Phoenix| 5492|3.658|\n",
    "# |Scottsdale| 2617|3.809|\n",
    "# |     Tempe| 1444| 3.64|\n",
    "# |      Mesa| 1348|3.644|\n",
    "# |  Chandler| 1178|3.677|\n",
    "# |  Glendale|  821|3.588|\n",
    "# |   Gilbert|  630|3.755|\n",
    "# |    Peoria|  385|3.614|\n",
    "# |  Surprise|  241|3.598|\n",
    "# |  Goodyear|  214|3.498|\n",
    "# +----------+-----+-----+\n",
    "# Esta salida se corresponde a la dataset completa de Kaggle en vez de nuestra muestra"
   ]
  },
  {
   "cell_type": "markdown",
   "metadata": {
    "application/vnd.databricks.v1+cell": {
     "cellMetadata": {
      "byteLimit": 2048000,
      "rowLimit": 10000
     },
     "inputWidgets": {},
     "nuid": "d107cce3-8574-40f2-9077-d3d62c0b9c36",
     "showTitle": false,
     "tableResultSettingsMap": {},
     "title": ""
    }
   },
   "source": [
    "Nos traemos esos datos a Pandas mediante el método .`toPandas()`.:"
   ]
  },
  {
   "cell_type": "code",
   "execution_count": 0,
   "metadata": {
    "application/vnd.databricks.v1+cell": {
     "cellMetadata": {
      "byteLimit": 2048000,
      "rowLimit": 10000
     },
     "inputWidgets": {},
     "nuid": "6fd36b24-afa4-4d7e-a4ec-0608255e19c8",
     "showTitle": false,
     "tableResultSettingsMap": {},
     "title": ""
    }
   },
   "outputs": [],
   "source": [
    "pdVC = dfVotosCiudades.toPandas()"
   ]
  },
  {
   "cell_type": "markdown",
   "metadata": {
    "application/vnd.databricks.v1+cell": {
     "cellMetadata": {
      "byteLimit": 2048000,
      "rowLimit": 10000
     },
     "inputWidgets": {},
     "nuid": "da8d4250-9e17-4dd8-812e-a856a0e5f162",
     "showTitle": false,
     "tableResultSettingsMap": {},
     "title": ""
    }
   },
   "source": [
    "A partir de este momento pdVC es un DataFrame de Pandas:"
   ]
  },
  {
   "cell_type": "code",
   "execution_count": 0,
   "metadata": {
    "application/vnd.databricks.v1+cell": {
     "cellMetadata": {
      "byteLimit": 2048000,
      "rowLimit": 10000
     },
     "inputWidgets": {},
     "nuid": "22172bb0-73a6-4c92-be7f-27e306050ce2",
     "showTitle": false,
     "tableResultSettingsMap": {},
     "title": ""
    }
   },
   "outputs": [
    {
     "data": {
      "text/html": [
       "<div>\n",
       "<style scoped>\n",
       "    .dataframe tbody tr th:only-of-type {\n",
       "        vertical-align: middle;\n",
       "    }\n",
       "\n",
       "    .dataframe tbody tr th {\n",
       "        vertical-align: top;\n",
       "    }\n",
       "\n",
       "    .dataframe thead th {\n",
       "        text-align: right;\n",
       "    }\n",
       "</style>\n",
       "<table border=\"1\" class=\"dataframe\">\n",
       "  <thead>\n",
       "    <tr style=\"text-align: right;\">\n",
       "      <th></th>\n",
       "      <th>city</th>\n",
       "      <th>votos</th>\n",
       "      <th>media</th>\n",
       "    </tr>\n",
       "  </thead>\n",
       "  <tbody>\n",
       "    <tr>\n",
       "      <th>0</th>\n",
       "      <td>Phoenix</td>\n",
       "      <td>1</td>\n",
       "      <td>4.0</td>\n",
       "    </tr>\n",
       "  </tbody>\n",
       "</table>\n",
       "</div>"
      ]
     },
     "metadata": {
      "application/vnd.databricks.v1+output": {
       "addedWidgets": {},
       "arguments": {},
       "data": "<div>\n<style scoped>\n    .dataframe tbody tr th:only-of-type {\n        vertical-align: middle;\n    }\n\n    .dataframe tbody tr th {\n        vertical-align: top;\n    }\n\n    .dataframe thead th {\n        text-align: right;\n    }\n</style>\n<table border=\"1\" class=\"dataframe\">\n  <thead>\n    <tr style=\"text-align: right;\">\n      <th></th>\n      <th>city</th>\n      <th>votos</th>\n      <th>media</th>\n    </tr>\n  </thead>\n  <tbody>\n    <tr>\n      <th>0</th>\n      <td>Phoenix</td>\n      <td>1</td>\n      <td>4.0</td>\n    </tr>\n  </tbody>\n</table>\n</div>",
       "datasetInfos": [],
       "metadata": {},
       "removedWidgets": [],
       "textData": null,
       "type": "htmlSandbox"
      }
     },
     "output_type": "display_data"
    }
   ],
   "source": [
    "pdVC"
   ]
  },
  {
   "cell_type": "markdown",
   "metadata": {
    "application/vnd.databricks.v1+cell": {
     "cellMetadata": {
      "byteLimit": 2048000,
      "rowLimit": 10000
     },
     "inputWidgets": {},
     "nuid": "c0152bcf-3c61-4f05-840e-4b93ac61beda",
     "showTitle": false,
     "tableResultSettingsMap": {},
     "title": ""
    }
   },
   "source": [
    "Y con el DataFrame de Pandas, ya podemos generar gráficos:"
   ]
  },
  {
   "cell_type": "code",
   "execution_count": 0,
   "metadata": {
    "application/vnd.databricks.v1+cell": {
     "cellMetadata": {
      "byteLimit": 2048000,
      "rowLimit": 10000
     },
     "inputWidgets": {},
     "nuid": "0a8ece8b-20a4-4419-9284-a6bd5b56a733",
     "showTitle": false,
     "tableResultSettingsMap": {},
     "title": ""
    }
   },
   "outputs": [
    {
     "data": {
      "image/png": "[encoded data removed]"
     },
     "metadata": {
      "application/vnd.databricks.v1+output": {
       "addedWidgets": {},
       "arguments": {},
       "data": "data:image/png;base64,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\n",
       "datasetInfos": [],
       "metadata": {},
       "removedWidgets": [],
       "type": "image"
      }
     },
     "output_type": "display_data"
    }
   ],
   "source": [
    "import pandas as pd\n",
    "import matplotlib.pyplot as plt\n",
    "import seaborn as sns\n",
    "\n",
    "plt.figure(figsize=(10,6))\n",
    "plt.ticklabel_format(useOffset=False, style=\"plain\")\n",
    "sns.set_theme(style=\"whitegrid\")\n",
    "sns.barplot(x=\"votos\", y=\"city\", data=pdVC).set_title(\"Votos por Ciudad\")\n",
    "plt.xlabel(\"Votos emitidos\")\n",
    "plt.ylabel(\"Ciudades\")\n",
    "\n",
    "plt.show()"
   ]
  },
  {
   "cell_type": "markdown",
   "metadata": {
    "application/vnd.databricks.v1+cell": {
     "cellMetadata": {
      "byteLimit": 2048000,
      "rowLimit": 10000
     },
     "inputWidgets": {},
     "nuid": "f9c07fbc-59dd-4fc9-91a3-aaec04c2c146",
     "showTitle": false,
     "tableResultSettingsMap": {},
     "title": ""
    }
   },
   "source": [
    "Mas exactamente la salida para la dataset completa sería:  \n",
    "![](files/dataframes-api/images/5.png)"
   ]
  },
  {
   "cell_type": "markdown",
   "metadata": {
    "application/vnd.databricks.v1+cell": {
     "cellMetadata": {
      "byteLimit": 2048000,
      "rowLimit": 10000
     },
     "inputWidgets": {},
     "nuid": "f7e683c1-3caa-4c6d-b66a-845baa967203",
     "showTitle": false,
     "tableResultSettingsMap": {},
     "title": ""
    }
   },
   "source": [
    "O por ejemplo, si queremos unir dos gráficos:"
   ]
  },
  {
   "cell_type": "code",
   "execution_count": 0,
   "metadata": {
    "application/vnd.databricks.v1+cell": {
     "cellMetadata": {
      "byteLimit": 2048000,
      "rowLimit": 10000
     },
     "inputWidgets": {},
     "nuid": "b59431c8-20e2-4dae-b70d-7851714b8ca1",
     "showTitle": false,
     "tableResultSettingsMap": {},
     "title": ""
    }
   },
   "outputs": [
    {
     "data": {
      "image/png": "[encoded data removed]"
     },
     "metadata": {
      "application/vnd.databricks.v1+output": {
       "addedWidgets": {},
       "arguments": {},
       "data": "data:image/png;base64,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\n",
       "datasetInfos": [],
       "metadata": {},
       "removedWidgets": [],
       "type": "image"
      }
     },
     "output_type": "display_data"
    }
   ],
   "source": [
    "plt.figure(figsize=(10,6))\n",
    "sns.set_theme(style=\"white\")\n",
    "ax = sns.barplot(data = pdVC, y=\"votos\", x=\"city\")\n",
    "\n",
    "ax2 = ax.twinx()\n",
    "sns.lineplot(data = pdVC['media'], marker='o', color='crimson', ax=ax2)\n",
    "plt.show()"
   ]
  },
  {
   "cell_type": "markdown",
   "metadata": {
    "application/vnd.databricks.v1+cell": {
     "cellMetadata": {
      "byteLimit": 2048000,
      "rowLimit": 10000
     },
     "inputWidgets": {},
     "nuid": "513628db-1b01-44df-86ac-8eb0b1d51d2c",
     "showTitle": false,
     "tableResultSettingsMap": {},
     "title": ""
    }
   },
   "source": [
    "Mas exactamente la salida para la dataset completa sería:  \n",
    "![](files/dataframes-api/images/6.png)"
   ]
  },
  {
   "cell_type": "markdown",
   "metadata": {
    "application/vnd.databricks.v1+cell": {
     "cellMetadata": {
      "byteLimit": 2048000,
      "rowLimit": 10000
     },
     "inputWidgets": {},
     "nuid": "fa4a1bc1-d78c-4c29-b066-f8f027731416",
     "showTitle": false,
     "tableResultSettingsMap": {},
     "title": ""
    }
   },
   "source": [
    "> **Out of Memory**  \n",
    "> Mucho cuidado al utilizar Pandas, ya que al convertir el DataFrame nos vamos a traer todos los datos al driver, perdiendo la distribución de los datos y pudiendo provocar un error de falta de memoria."
   ]
  },
  {
   "cell_type": "markdown",
   "metadata": {
    "application/vnd.databricks.v1+cell": {
     "cellMetadata": {
      "byteLimit": 2048000,
      "rowLimit": 10000
     },
     "inputWidgets": {},
     "nuid": "8348636d-93ae-49bf-89c0-6c354b1d2d10",
     "showTitle": false,
     "tableResultSettingsMap": {},
     "title": ""
    }
   },
   "source": [
    "Así pues, hay que evitar a toda costa utilizar Pandas para tratar los datos, ya que perdemos toda la potencia de trabajo en clúster (Pandas sólo puede utilizar los recursos del nodo principal). Únicamente lo utilizaremos cuando vayamos a visualizar los datos mediante Matplotlib / Seaborn como requisito de estas librerías."
   ]
  },
  {
   "cell_type": "markdown",
   "metadata": {
    "application/vnd.databricks.v1+cell": {
     "cellMetadata": {
      "byteLimit": 2048000,
      "rowLimit": 10000
     },
     "inputWidgets": {},
     "nuid": "3a8a51b3-9a43-40f9-a54a-14a76007804a",
     "showTitle": false,
     "tableResultSettingsMap": {},
     "title": ""
    }
   },
   "source": [
    "> **Pandas y Koalas**  \n",
    "> Desde la versión 3.2 de Spark, la librería de [Koalas](https://koalas.readthedocs.io/en/latest/) se ha integrado en Spark, dando lugar a poder utilizar el API de Pandas directamente desde Spark, lo que facilita el aprendizaje de Spark para aquellos desarrolladores que ya dominan Pandas. Para ello, únicamente hemos de importar la librería:  \n",
    "`import pyspark.pandas as ps`  \n",
    "Y acceder a `ps` de la misma manera que usamos `pd` al trabajar con Pandas.  \n",
    "Un artículo muy interesante es [Run Pandas as Fast as Spark.](https://towardsdatascience.com/run-pandas-as-fast-as-spark-f5eefe780c45)"
   ]
  },
  {
   "cell_type": "markdown",
   "metadata": {
    "application/vnd.databricks.v1+cell": {
     "cellMetadata": {
      "byteLimit": 2048000,
      "rowLimit": 10000
     },
     "inputWidgets": {},
     "nuid": "25687518-b30c-4d96-bd4e-95203f986539",
     "showTitle": false,
     "tableResultSettingsMap": {},
     "title": ""
    }
   },
   "source": [
    "# Actividades"
   ]
  },
  {
   "cell_type": "markdown",
   "metadata": {
    "application/vnd.databricks.v1+cell": {
     "cellMetadata": {
      "byteLimit": 2048000,
      "rowLimit": 10000
     },
     "inputWidgets": {},
     "nuid": "696e4235-c336-46e9-a353-6453454b8199",
     "showTitle": false,
     "tableResultSettingsMap": {},
     "title": ""
    }
   },
   "source": [
    "En las siguientes actividades vamos a realizar agregaciones mediante el uso del API de DataFrames de Spark."
   ]
  },
  {
   "cell_type": "markdown",
   "metadata": {
    "application/vnd.databricks.v1+cell": {
     "cellMetadata": {
      "byteLimit": 2048000,
      "rowLimit": 10000
     },
     "inputWidgets": {},
     "nuid": "c7168264-0d67-4d22-8082-765e3c414bbe",
     "showTitle": false,
     "tableResultSettingsMap": {},
     "title": ""
    }
   },
   "source": [
    "1. Sobre las películas de la sesión anterior `movies.tsv`:  \n",
    " "
   ]
  },
  {
   "cell_type": "code",
   "execution_count": 0,
   "metadata": {
    "application/vnd.databricks.v1+cell": {
     "cellMetadata": {
      "byteLimit": 2048000,
      "rowLimit": 10000
     },
     "inputWidgets": {},
     "nuid": "ab482ff8-c98f-4f38-bef3-e2bcb6fe56c3",
     "showTitle": false,
     "tableResultSettingsMap": {},
     "title": ""
    }
   },
   "outputs": [
    {
     "name": "stdout",
     "output_type": "stream",
     "text": [
      "root\n",
      " |-- actor: string (nullable = true)\n",
      " |-- title: string (nullable = true)\n",
      " |-- year: string (nullable = true)\n",
      "\n",
      "+-----------------+--------------------+----+\n",
      "|            actor|               title|year|\n",
      "+-----------------+--------------------+----+\n",
      "|McClure, Marc (I)|       Freaky Friday|2003|\n",
      "|McClure, Marc (I)|        Coach Carter|2005|\n",
      "|McClure, Marc (I)|         Superman II|1980|\n",
      "|McClure, Marc (I)|           Apollo 13|1995|\n",
      "|McClure, Marc (I)|            Superman|1978|\n",
      "|McClure, Marc (I)|  Back to the Future|1985|\n",
      "|McClure, Marc (I)|Back to the Futur...|1990|\n",
      "|Cooper, Chris (I)|  Me, Myself & Irene|2000|\n",
      "|Cooper, Chris (I)|         October Sky|1999|\n",
      "|Cooper, Chris (I)|              Capote|2005|\n",
      "+-----------------+--------------------+----+\n",
      "only showing top 10 rows\n",
      "\n"
     ]
    }
   ],
   "source": [
    "# Cargar el archivo sin cabeceras y con el separador de tabulador\n",
    "df = spark.read.option(\"sep\", \"\\t\").csv(\"/FileStore/dataframes-api/dataset/movies.tsv\")\n",
    "\n",
    "# Asignar nombres a las columnas\n",
    "df = df.withColumnRenamed(\"_c0\", \"actor\").withColumnRenamed(\"_c1\", \"title\").withColumnRenamed(\"_c2\", \"year\")\n",
    "\n",
    "# Mostrar el esquema y las primeras filas para verificar la carga\n",
    "df.printSchema()\n",
    "df.show(10)"
   ]
  },
  {
   "cell_type": "markdown",
   "metadata": {
    "application/vnd.databricks.v1+cell": {
     "cellMetadata": {
      "byteLimit": 2048000,
      "rowLimit": 10000
     },
     "inputWidgets": {},
     "nuid": "14d12ef4-e106-44bb-881e-191a9df07a6b",
     "showTitle": false,
     "tableResultSettingsMap": {},
     "title": ""
    }
   },
   "source": [
    " a. ¿Cuantas películas diferentes hay?  \n"
   ]
  },
  {
   "cell_type": "code",
   "execution_count": 0,
   "metadata": {
    "application/vnd.databricks.v1+cell": {
     "cellMetadata": {
      "byteLimit": 2048000,
      "rowLimit": 10000
     },
     "inputWidgets": {},
     "nuid": "687ae84b-05d3-44d7-8bc5-18c0b908d16e",
     "showTitle": false,
     "tableResultSettingsMap": {},
     "title": ""
    }
   },
   "outputs": [
    {
     "name": "stdout",
     "output_type": "stream",
     "text": [
      "Out[220]: 1409"
     ]
    }
   ],
   "source": [
    "# Contar las películas distintas\n",
    "df.select(\"title\").distinct().count()\n"
   ]
  },
  {
   "cell_type": "markdown",
   "metadata": {
    "application/vnd.databricks.v1+cell": {
     "cellMetadata": {
      "byteLimit": 2048000,
      "rowLimit": 10000
     },
     "inputWidgets": {},
     "nuid": "7e00fb18-7bf9-4902-a6d3-8df4e751f9ce",
     "showTitle": false,
     "tableResultSettingsMap": {},
     "title": ""
    }
   },
   "source": [
    " b. ¿En cuantas películas ha trabajado Murphy, Eddie (I)?  \n"
   ]
  },
  {
   "cell_type": "code",
   "execution_count": 0,
   "metadata": {
    "application/vnd.databricks.v1+cell": {
     "cellMetadata": {
      "byteLimit": 2048000,
      "rowLimit": 10000
     },
     "inputWidgets": {},
     "nuid": "9a8dc2bd-86df-4b93-b1f1-57a014ded9d9",
     "showTitle": false,
     "tableResultSettingsMap": {},
     "title": ""
    }
   },
   "outputs": [
    {
     "name": "stdout",
     "output_type": "stream",
     "text": [
      "Out[221]: 21"
     ]
    }
   ],
   "source": [
    "# Filtrar las películas en las que aparece Eddie Murphy\n",
    "murphy_movies = df.filter(df[\"actor\"].like(\"%Murphy, Eddie (I)%\"))\n",
    "\n",
    "# Contar cuántas películas ha trabajado Eddie Murphy\n",
    "murphy_movies.count()"
   ]
  },
  {
   "cell_type": "markdown",
   "metadata": {
    "application/vnd.databricks.v1+cell": {
     "cellMetadata": {
      "byteLimit": 2048000,
      "rowLimit": 10000
     },
     "inputWidgets": {},
     "nuid": "56241aec-0515-41dc-9765-2fb54b109322",
     "showTitle": false,
     "tableResultSettingsMap": {},
     "title": ""
    }
   },
   "source": [
    "c. ¿Cuáles son los actores que han aparecido en más de 30 películas?  \n"
   ]
  },
  {
   "cell_type": "code",
   "execution_count": 0,
   "metadata": {
    "application/vnd.databricks.v1+cell": {
     "cellMetadata": {
      "byteLimit": 2048000,
      "rowLimit": 10000
     },
     "inputWidgets": {},
     "nuid": "e4c75414-2c58-4fab-91fb-84b2bc6b89ca",
     "showTitle": false,
     "tableResultSettingsMap": {},
     "title": ""
    }
   },
   "outputs": [
    {
     "name": "stdout",
     "output_type": "stream",
     "text": [
      "+------------------+----------+\n",
      "|             actor|num_movies|\n",
      "+------------------+----------+\n",
      "|     Harnell, Jess|        31|\n",
      "|  Tatasciore, Fred|        38|\n",
      "|Jackson, Samuel L.|        32|\n",
      "|     Welker, Frank|        38|\n",
      "+------------------+----------+\n",
      "\n"
     ]
    }
   ],
   "source": [
    "from pyspark.sql.functions import count\n",
    "\n",
    "# Contamos las películas por actor\n",
    "actors_count = df.groupBy(\"actor\").agg(count(\"title\").alias(\"num_movies\"))\n",
    "\n",
    "# Filtrar actores que han aparecido en más de 30 películas\n",
    "actors_count.filter(actors_count[\"num_movies\"] > 30).show(10)\n"
   ]
  },
  {
   "cell_type": "markdown",
   "metadata": {
    "application/vnd.databricks.v1+cell": {
     "cellMetadata": {
      "byteLimit": 2048000,
      "rowLimit": 10000
     },
     "inputWidgets": {},
     "nuid": "b9c96fb4-7871-4a58-928f-72ca2057c0d7",
     "showTitle": false,
     "tableResultSettingsMap": {},
     "title": ""
    }
   },
   "source": [
    "d. ¿En que película anterior a 1980 aparecen al menos 25 intérpretes?  \n",
    "\n"
   ]
  },
  {
   "cell_type": "code",
   "execution_count": 0,
   "metadata": {
    "application/vnd.databricks.v1+cell": {
     "cellMetadata": {
      "byteLimit": 2048000,
      "rowLimit": 10000
     },
     "inputWidgets": {},
     "nuid": "613955c5-5e16-417e-8fd6-319395d4bc52",
     "showTitle": false,
     "tableResultSettingsMap": {},
     "title": ""
    }
   },
   "outputs": [
    {
     "name": "stdout",
     "output_type": "stream",
     "text": [
      "+---------+-----------+----+\n",
      "|    title|actor_count|year|\n",
      "+---------+-----------+----+\n",
      "|Star Wars|         25|1977|\n",
      "+---------+-----------+----+\n",
      "\n"
     ]
    }
   ],
   "source": [
    "from pyspark.sql.functions import split, collect_set, size\n",
    "\n",
    "# Paso 1: Dividir los actores por coma\n",
    "df_split = df.withColumn(\"actor_list\", split(df[\"actor\"], \",\"))\n",
    "\n",
    "# Paso 2: Agrupar por 'title' (película) y obtener los actores únicos para cada película\n",
    "df_grouped = df_split.groupBy(\"title\", \"year\").agg(collect_set(\"actor_list\").alias(\"actor_list\"))\n",
    "\n",
    "# Paso 3: Contar el número de actores únicos por película\n",
    "df_grouped = df_grouped.withColumn(\"actor_count\", size(df_grouped[\"actor_list\"]))\n",
    "\n",
    "# Paso 4: Filtrar las películas anteriores a 1980 y con al menos 25 actores\n",
    "df_filtered = df_grouped.filter((df_grouped[\"year\"] < 1980) & (df_grouped[\"actor_count\"] >= 25))\n",
    "\n",
    "# Paso 5: Mostrar el nombre de la película y el número de actores para las películas que cumplen la condición\n",
    "df_filtered.select(\"title\", \"actor_count\", \"year\").show(10)\n",
    "\n"
   ]
  },
  {
   "cell_type": "markdown",
   "metadata": {
    "application/vnd.databricks.v1+cell": {
     "cellMetadata": {
      "byteLimit": 2048000,
      "rowLimit": 10000
     },
     "inputWidgets": {},
     "nuid": "6d3205bd-005e-4146-942b-2055eb38d88b",
     "showTitle": false,
     "tableResultSettingsMap": {},
     "title": ""
    }
   },
   "source": [
    "e. Muestra la cantidad de películas producidas cada año (solo debe mostrar el año y la cantidad), ordenando el listado por la cantidad de forma descendente. "
   ]
  },
  {
   "cell_type": "code",
   "execution_count": 0,
   "metadata": {
    "application/vnd.databricks.v1+cell": {
     "cellMetadata": {
      "byteLimit": 2048000,
      "rowLimit": 10000
     },
     "inputWidgets": {},
     "nuid": "1cb84015-b801-4345-9802-9a6b1a623421",
     "showTitle": false,
     "tableResultSettingsMap": {},
     "title": ""
    }
   },
   "outputs": [
    {
     "name": "stdout",
     "output_type": "stream",
     "text": [
      "+----+----------+\n",
      "|year|num_movies|\n",
      "+----+----------+\n",
      "|2006|      2078|\n",
      "|2004|      2005|\n",
      "|2007|      1986|\n",
      "|2005|      1960|\n",
      "|2011|      1926|\n",
      "|2008|      1892|\n",
      "|2009|      1890|\n",
      "|2010|      1843|\n",
      "|2002|      1834|\n",
      "|2001|      1687|\n",
      "+----+----------+\n",
      "only showing top 10 rows\n",
      "\n"
     ]
    }
   ],
   "source": [
    "# Agrupar por año y contar las películas producidas cada año\n",
    "movies_by_year = df.groupBy(\"year\").agg(count(\"title\").alias(\"num_movies\"))\n",
    "\n",
    "# Ordenar de forma descendente por la cantidad de películas\n",
    "movies_by_year.orderBy(\"num_movies\", ascending=False).show(10)\n"
   ]
  },
  {
   "cell_type": "markdown",
   "metadata": {
    "application/vnd.databricks.v1+cell": {
     "cellMetadata": {
      "byteLimit": 2048000,
      "rowLimit": 10000
     },
     "inputWidgets": {},
     "nuid": "21223f0b-ce03-4254-8ef8-9b8f12460b69",
     "showTitle": false,
     "tableResultSettingsMap": {},
     "title": ""
    }
   },
   "source": [
    "2.  Nos han enviado un nuevo archivo llamado [movie-ratings.tsv](https://tajamar365.sharepoint.com/:u:/s/3405-MasterIA2024-2025/ESyjlCu2YQdGpqcMWiFTCp0BNJZaVLAXMurp-xVf_aUwsA?e=MxM7Bb) que contiene las calificaciones de las películas.  \n",
    "  a. Crea un DataFrame que contenga los datos de ambos datasets.  \n",
    " "
   ]
  },
  {
   "cell_type": "code",
   "execution_count": 0,
   "metadata": {
    "application/vnd.databricks.v1+cell": {
     "cellMetadata": {
      "byteLimit": 2048000,
      "rowLimit": 10000
     },
     "inputWidgets": {},
     "nuid": "2e4c451a-85cd-45cd-a878-ee5b42e53a6c",
     "showTitle": false,
     "tableResultSettingsMap": {},
     "title": ""
    }
   },
   "outputs": [
    {
     "name": "stdout",
     "output_type": "stream",
     "text": [
      "+-----------------+--------------------+----+\n",
      "|            actor|               title|year|\n",
      "+-----------------+--------------------+----+\n",
      "|McClure, Marc (I)|       Freaky Friday|2003|\n",
      "|McClure, Marc (I)|        Coach Carter|2005|\n",
      "|McClure, Marc (I)|         Superman II|1980|\n",
      "|McClure, Marc (I)|           Apollo 13|1995|\n",
      "|McClure, Marc (I)|            Superman|1978|\n",
      "|McClure, Marc (I)|  Back to the Future|1985|\n",
      "|McClure, Marc (I)|Back to the Futur...|1990|\n",
      "|Cooper, Chris (I)|  Me, Myself & Irene|2000|\n",
      "|Cooper, Chris (I)|         October Sky|1999|\n",
      "|Cooper, Chris (I)|              Capote|2005|\n",
      "+-----------------+--------------------+----+\n",
      "only showing top 10 rows\n",
      "\n",
      "+-------+--------------------+----+\n",
      "| rating|               title| _c2|\n",
      "+-------+--------------------+----+\n",
      "| 1.6339|'Crocodile' Dunde...|1988|\n",
      "| 7.6177|                  10|1979|\n",
      "| 1.2864|10 Things I Hate ...|1999|\n",
      "| 0.3243|           10,000 BC|2008|\n",
      "| 0.3376|      101 Dalmatians|1996|\n",
      "| 0.5218|      102 Dalmatians|2000|\n",
      "|12.8205|                1066|2012|\n",
      "| 0.6829|                  12|2007|\n",
      "| 7.4061|           12 Rounds|2009|\n",
      "| 2.3677|           127 Hours|2010|\n",
      "+-------+--------------------+----+\n",
      "only showing top 10 rows\n",
      "\n",
      "+--------------------+-----------------+----+------+----+\n",
      "|               title|            actor|year|rating| _c2|\n",
      "+--------------------+-----------------+----+------+----+\n",
      "|       Freaky Friday|McClure, Marc (I)|2003|0.3847|2003|\n",
      "|        Coach Carter|McClure, Marc (I)|2005|0.9858|2005|\n",
      "|         Superman II|McClure, Marc (I)|1980|0.8739|1980|\n",
      "|           Apollo 13|McClure, Marc (I)|1995|1.0267|1995|\n",
      "|            Superman|McClure, Marc (I)|1978|1.1982|1978|\n",
      "|  Back to the Future|McClure, Marc (I)|1985|0.1904|1985|\n",
      "|Back to the Futur...|McClure, Marc (I)|1990| 1.678|1990|\n",
      "|  Me, Myself & Irene|Cooper, Chris (I)|2000|0.5611|2000|\n",
      "|         October Sky|Cooper, Chris (I)|1999| 1.603|1999|\n",
      "|              Capote|Cooper, Chris (I)|2005|1.9389|2005|\n",
      "+--------------------+-----------------+----+------+----+\n",
      "only showing top 10 rows\n",
      "\n"
     ]
    }
   ],
   "source": [
    "# Cargar movies.tsv sin cabeceras\n",
    "movies_df = spark.read.option(\"sep\", \"\\t\").csv(\"/FileStore/dataframes-api/dataset/movies.tsv\")\n",
    "\n",
    "# Asignar nombres a las columnas\n",
    "movies_df = movies_df.withColumnRenamed(\"_c0\", \"actor\").withColumnRenamed(\"_c1\", \"title\").withColumnRenamed(\"_c2\", \"year\")\n",
    "\n",
    "# Convertir las columnas necesarias a tipo adecuado\n",
    "movies_df = movies_df.withColumn(\"year\", movies_df[\"year\"].cast(\"int\"))\n",
    "\n",
    "# Verificar los datos\n",
    "movies_df.show(10)\n",
    "\n",
    "\n",
    "# Cargar movie-ratings.tsv sin cabeceras\n",
    "ratings_df = spark.read.option(\"sep\", \"\\t\").csv(\"/FileStore/dataframes-api/dataset/movie_ratings.tsv\")\n",
    "\n",
    "# Asignar nombres a las columnas\n",
    "ratings_df = ratings_df.withColumnRenamed(\"_c0\", \"rating\").withColumnRenamed(\"_c1\", \"title\")\n",
    "\n",
    "# Convertir la columna de rating a tipo adecuado (float)\n",
    "ratings_df = ratings_df.withColumn(\"rating\", ratings_df[\"rating\"].cast(\"float\"))\n",
    "\n",
    "# Verificar los datos\n",
    "ratings_df.show(10)\n",
    "\n",
    "# Unir ambos DataFrames por la columna 'title'\n",
    "movies_ratings_df = movies_df.join(ratings_df, on=\"title\", how=\"inner\")\n",
    "\n",
    "# Verificar la unión\n",
    "movies_ratings_df.show(10)\n"
   ]
  },
  {
   "cell_type": "markdown",
   "metadata": {
    "application/vnd.databricks.v1+cell": {
     "cellMetadata": {
      "byteLimit": 2048000,
      "rowLimit": 10000
     },
     "inputWidgets": {},
     "nuid": "b2fcdf6e-84dd-4151-a271-aa12cccfe314",
     "showTitle": false,
     "tableResultSettingsMap": {},
     "title": ""
    }
   },
   "source": [
    " b. Muestra para cada año, la película con mayor puntuación (año, título de la película, puntuación)  \n",
    "  "
   ]
  },
  {
   "cell_type": "code",
   "execution_count": 0,
   "metadata": {
    "application/vnd.databricks.v1+cell": {
     "cellMetadata": {
      "byteLimit": 2048000,
      "rowLimit": 10000
     },
     "inputWidgets": {},
     "nuid": "3966ee86-74e3-4737-9483-f8ca68590c07",
     "showTitle": false,
     "tableResultSettingsMap": {},
     "title": ""
    }
   },
   "outputs": [
    {
     "name": "stdout",
     "output_type": "stream",
     "text": [
      "+----+--------------------+----------+\n",
      "|year|               title|max_rating|\n",
      "+----+--------------------+----------+\n",
      "|1961|One Hundred and O...|    0.6726|\n",
      "|1967|     The Jungle Book|   10.6763|\n",
      "|1972|       The Godfather|    0.5099|\n",
      "|1973|        The Exorcist|    0.6581|\n",
      "|1975|                Jaws|     0.701|\n",
      "|1977|Saturday Night Fever|    1.2184|\n",
      "|1978|              Jaws 2|    1.9793|\n",
      "|1979|      Apocalypse Now|    1.9906|\n",
      "|1980|         Superman II|    0.8739|\n",
      "|1981|   Absence of Malice|    2.1052|\n",
      "+----+--------------------+----------+\n",
      "only showing top 10 rows\n",
      "\n"
     ]
    }
   ],
   "source": [
    "from pyspark.sql.functions import max, col\n",
    "\n",
    "# Paso 1: Agrupar por año y obtener la puntuación máxima por año\n",
    "best_movies_per_year = movies_ratings_df.groupBy(\"year\").agg(\n",
    "    max(\"rating\").alias(\"max_rating\")\n",
    ")\n",
    "\n",
    "# Renombrar las columnas de los DataFrames para evitar la ambigüedad\n",
    "best_movies_per_year = best_movies_per_year.withColumnRenamed(\"year\", \"year_best\")\n",
    "\n",
    "# Eliminar duplicados\n",
    "movies_ratings_no_duplicates = movies_ratings_df.dropDuplicates([\"year\", \"title\", \"rating\"])\n",
    "\n",
    "# Paso 2: Unir con el DataFrame original para obtener el título de la película con la puntuación máxima\n",
    "best_movies_with_title = best_movies_per_year.join(\n",
    "    movies_ratings_no_duplicates,\n",
    "    (movies_ratings_no_duplicates[\"year\"] == best_movies_per_year[\"year_best\"]) & \n",
    "    (movies_ratings_no_duplicates[\"rating\"] == best_movies_per_year[\"max_rating\"]),\n",
    "    \"inner\"\n",
    ")\n",
    "\n",
    "# Paso 3: Seleccionar las columnas deseadas: año, título y puntuación máxima\n",
    "best_movies_per_year_with_title = best_movies_with_title.select(\n",
    "    col(\"year_best\").alias(\"year\"), \n",
    "    \"title\", \n",
    "    \"max_rating\"\n",
    ").distinct()  # Asegurarse de que las filas sean únicas\n",
    "\n",
    "# Paso 4: Ordenar por año (puedes usar 'desc' para ordenarlo en orden descendente)\n",
    "best_movies_per_year_with_title = best_movies_per_year_with_title.orderBy(\"year\")\n",
    "\n",
    "# Mostrar el resultado\n",
    "best_movies_per_year_with_title.show(10)\n"
   ]
  },
  {
   "cell_type": "markdown",
   "metadata": {
    "application/vnd.databricks.v1+cell": {
     "cellMetadata": {
      "byteLimit": 2048000,
      "rowLimit": 10000
     },
     "inputWidgets": {},
     "nuid": "5279a957-fe40-4c50-83dc-274b91eb8605",
     "showTitle": false,
     "tableResultSettingsMap": {},
     "title": ""
    }
   },
   "source": [
    "c. Sobre los datos anteriores, obtén también una lista con los nombres de los intérpretes.  \n",
    "  "
   ]
  },
  {
   "cell_type": "code",
   "execution_count": 0,
   "metadata": {
    "application/vnd.databricks.v1+cell": {
     "cellMetadata": {
      "byteLimit": 2048000,
      "rowLimit": 10000
     },
     "inputWidgets": {},
     "nuid": "b4f65338-be3c-4abe-9310-9162476feebf",
     "showTitle": false,
     "tableResultSettingsMap": {},
     "title": ""
    }
   },
   "outputs": [
    {
     "name": "stdout",
     "output_type": "stream",
     "text": [
      "+----+--------------------+----------+-------------------+\n",
      "|year|               title|max_rating|             actors|\n",
      "+----+--------------------+----------+-------------------+\n",
      "|1961|One Hundred and O...|    0.6726|     [Wickes, Mary]|\n",
      "|1967|     The Jungle Book|   10.6763|    [Howard, Clint]|\n",
      "|1972|       The Godfather|    0.5099|   [Brando, Marlon]|\n",
      "|1973|        The Exorcist|    0.6581|   [Burstyn, Ellen]|\n",
      "|1975|                Jaws|     0.701|[Grossman, Ted (I)]|\n",
      "|1977|Saturday Night Fever|    1.2184|    [Dillon, Denny]|\n",
      "|1978|              Jaws 2|    1.9793|    [Scheider, Roy]|\n",
      "|1979|      Apocalypse Now|    1.9906|   [Brando, Marlon]|\n",
      "|1980|         Superman II|    0.8739|[McClure, Marc (I)]|\n",
      "|1981|   Absence of Malice|    2.1052|     [Balaban, Bob]|\n",
      "+----+--------------------+----------+-------------------+\n",
      "only showing top 10 rows\n",
      "\n"
     ]
    }
   ],
   "source": [
    "from pyspark.sql import functions as F\n",
    "\n",
    "# Paso 1: Agrupar por año y obtener la puntuación máxima por año\n",
    "best_movies_per_year = movies_ratings_df.groupBy(\"year\").agg(\n",
    "    F.max(\"rating\").alias(\"max_rating\")\n",
    ")\n",
    "\n",
    "# Renombrar las columnas de los DataFrames para evitar la ambigüedad\n",
    "best_movies_per_year = best_movies_per_year.withColumnRenamed(\"year\", \"year_best\")\n",
    "\n",
    "# Eliminar duplicados en el DataFrame original\n",
    "movies_ratings_no_duplicates = movies_ratings_df.dropDuplicates([\"year\", \"title\", \"rating\"])\n",
    "\n",
    "# Paso 2: Unir con el DataFrame original para obtener el título de la película con la puntuación máxima\n",
    "best_movies_with_title = best_movies_per_year.join(\n",
    "    movies_ratings_no_duplicates,\n",
    "    (movies_ratings_no_duplicates[\"year\"] == best_movies_per_year[\"year_best\"]) & \n",
    "    (movies_ratings_no_duplicates[\"rating\"] == best_movies_per_year[\"max_rating\"]),\n",
    "    \"inner\"\n",
    ")\n",
    "\n",
    "# Paso 3: Crear una lista única de actores por película\n",
    "best_movies_with_actors = best_movies_with_title.groupBy(\"year\", \"title\", \"max_rating\").agg(\n",
    "    F.collect_set(\"actor\").alias(\"actors\")  # Usamos collect_set para eliminar duplicados\n",
    ")\n",
    "\n",
    "# Paso 4: Ordenar por año (puedes usar 'desc' para ordenarlo en orden descendente)\n",
    "best_movies_with_actors = best_movies_with_actors.orderBy(\"year\")\n",
    "\n",
    "# Mostrar el resultado final\n",
    "best_movies_with_actors.show(10)\n"
   ]
  },
  {
   "cell_type": "markdown",
   "metadata": {
    "application/vnd.databricks.v1+cell": {
     "cellMetadata": {
      "byteLimit": 2048000,
      "rowLimit": 10000
     },
     "inputWidgets": {},
     "nuid": "9952ed0b-eee1-41d4-b0b2-6c1bb09703be",
     "showTitle": false,
     "tableResultSettingsMap": {},
     "title": ""
    }
   },
   "source": [
    "d. Averigua las tres parejas de intérpretes han trabajado juntos en más ocasiones. La salida debe tener tres columnas: `interprete1`, `interprete2` y `cantidad`. (necesitas utilizar un *self-join*)"
   ]
  },
  {
   "cell_type": "code",
   "execution_count": 0,
   "metadata": {
    "application/vnd.databricks.v1+cell": {
     "cellMetadata": {
      "byteLimit": 2048000,
      "rowLimit": 10000
     },
     "inputWidgets": {},
     "nuid": "9127b326-1a96-48dd-b490-6554a373b59c",
     "showTitle": false,
     "tableResultSettingsMap": {},
     "title": ""
    }
   },
   "outputs": [
    {
     "name": "stdout",
     "output_type": "stream",
     "text": [
      "+-----------------+----------------+--------+\n",
      "|      interprete1|     interprete2|cantidad|\n",
      "+-----------------+----------------+--------+\n",
      "| Lynn, Sherry (I)| McGowan, Mickie|      23|\n",
      "|  Bergen, Bob (I)|Lynn, Sherry (I)|      19|\n",
      "|  Bergen, Bob (I)| McGowan, Mickie|      19|\n",
      "|  Angel, Jack (I)| McGowan, Mickie|      17|\n",
      "|  Angel, Jack (I)|Lynn, Sherry (I)|      17|\n",
      "|  McGowan, Mickie|     Rabson, Jan|      16|\n",
      "| Lynn, Sherry (I)|     Rabson, Jan|      16|\n",
      "|Darling, Jennifer| McGowan, Mickie|      15|\n",
      "|  Bergen, Bob (I)|     Rabson, Jan|      14|\n",
      "| Farmer, Bill (I)| McGowan, Mickie|      14|\n",
      "+-----------------+----------------+--------+\n",
      "only showing top 10 rows\n",
      "\n"
     ]
    }
   ],
   "source": [
    "from pyspark.sql import functions as F\n",
    "\n",
    "# Paso 1: Crear un self-join\n",
    "# Hacemos un self-join de la tabla de películas, asegurándonos de que los actores no sean los mismos.\n",
    "self_join_df = movies_ratings_df.alias('df1').join(\n",
    "    movies_ratings_df.alias('df2'),\n",
    "    (F.col('df1.title') == F.col('df2.title')) & \n",
    "    (F.col('df1.actor') < F.col('df2.actor')),  # Esto evita duplicados, es decir, no comparar 'actor1' con 'actor2' y viceversa\n",
    "    'inner'\n",
    ")\n",
    "\n",
    "# Paso 2: Crear una columna que contenga las parejas de actores\n",
    "self_join_df = self_join_df.withColumn(\n",
    "    \"actor_pair\", \n",
    "    F.array(F.col('df1.actor'), F.col('df2.actor'))\n",
    ")\n",
    "\n",
    "# Paso 3: Agrupar por la pareja de actores y contar cuántas veces aparecen juntos\n",
    "actor_pairs_count = self_join_df.groupBy(\"actor_pair\").agg(\n",
    "    F.count(\"*\").alias(\"cantidad\")\n",
    ")\n",
    "\n",
    "# Paso 4: Desempaquetar la columna 'actor_pair' en dos columnas: 'interprete1' y 'interprete2'\n",
    "actor_pairs_count = actor_pairs_count.withColumn(\n",
    "    \"interprete1\", F.col(\"actor_pair\").getItem(0)\n",
    ").withColumn(\n",
    "    \"interprete2\", F.col(\"actor_pair\").getItem(1)\n",
    ")\n",
    "\n",
    "# Paso 5: Seleccionar las columnas deseadas y ordenar por cantidad en orden descendente\n",
    "actor_pairs_count = actor_pairs_count.select(\"interprete1\", \"interprete2\", \"cantidad\").orderBy(\"cantidad\", ascending=False)\n",
    "\n",
    "# Paso 6: Mostrar las tres parejas más frecuentes\n",
    "actor_pairs_count.show(10)"
   ]
  },
  {
   "cell_type": "markdown",
   "metadata": {
    "application/vnd.databricks.v1+cell": {
     "cellMetadata": {
      "byteLimit": 2048000,
      "rowLimit": 10000
     },
     "inputWidgets": {},
     "nuid": "69714e66-e682-4ae8-aa6b-2342ee99752b",
     "showTitle": false,
     "tableResultSettingsMap": {},
     "title": ""
    }
   },
   "source": [
    "## Actividad\n",
    "### Limpieza y Transformación de Datos\n",
    "Hemos recibido un dataset con las ventas de 2019 de una tienda americana de productos de tecnología, mediante un conjunto de ficheros en formato CSV comprimidos en [salesdata.zip](https://tajamar365.sharepoint.com/:u:/s/3405-MasterIA2024-2025/EVv159rps6hJqglAU4Afs4MB-xJI0Vkp-d86wBfBod1JGg?e=0R9Qj4).   \n",
    "  a. Una vez descomprimidos los datos, crea un DataFrame con todos los datos, infiriendo el esquema.  \n",
    "  \n",
    "\n"
   ]
  },
  {
   "cell_type": "code",
   "execution_count": 0,
   "metadata": {
    "application/vnd.databricks.v1+cell": {
     "cellMetadata": {
      "byteLimit": 2048000,
      "rowLimit": 10000
     },
     "inputWidgets": {},
     "nuid": "6d50ec94-2231-41c1-b2b7-9e8a8a1226ef",
     "showTitle": false,
     "tableResultSettingsMap": {},
     "title": ""
    }
   },
   "outputs": [
    {
     "name": "stdout",
     "output_type": "stream",
     "text": [
      "Completed in 1.0950262546539307 sec.\n",
      "+--------+--------------------+----------------+----------+--------------+--------------------+\n",
      "|Order ID|             Product|Quantity Ordered|Price Each|    Order Date|    Purchase Address|\n",
      "+--------+--------------------+----------------+----------+--------------+--------------------+\n",
      "|  295665|  Macbook Pro Laptop|               1|      1700|12/30/19 00:01|136 Church St, Ne...|\n",
      "|  295666|  LG Washing Machine|               1|     600.0|12/29/19 07:03|562 2nd St, New Y...|\n",
      "|  295667|USB-C Charging Cable|               1|     11.95|12/12/19 18:21|277 Main St, New ...|\n",
      "|  295668|    27in FHD Monitor|               1|    149.99|12/22/19 15:13|410 6th St, San F...|\n",
      "|  295669|USB-C Charging Cable|               1|     11.95|12/18/19 12:38|43 Hill St, Atlan...|\n",
      "|  295670|AA Batteries (4-p...|               1|      3.84|12/31/19 22:58|200 Jefferson St,...|\n",
      "|  295671|USB-C Charging Cable|               1|     11.95|12/16/19 15:10|928 12th St, Port...|\n",
      "|  295672|USB-C Charging Cable|               2|     11.95|12/13/19 09:29|813 Hickory St, D...|\n",
      "|  295673|Bose SoundSport H...|               1|     99.99|12/15/19 23:26|718 Wilson St, Da...|\n",
      "|  295674|AAA Batteries (4-...|               4|      2.99|12/28/19 11:51|77 7th St, Dallas...|\n",
      "+--------+--------------------+----------------+----------+--------------+--------------------+\n",
      "only showing top 10 rows\n",
      "\n"
     ]
    }
   ],
   "source": [
    "# Importamos las librerías necesarias\n",
    "from pyspark.sql import SparkSession\n",
    "from time import time\n",
    "\n",
    "# Controlar el tiempo que tarda\n",
    "t1 = time()\n",
    "\n",
    "# Crear una sesión de Spark\n",
    "spark = SparkSession.builder.appName(\"Sales Data Analysis\").getOrCreate()\n",
    "\n",
    "# Leer los archivos CSV\n",
    "file_paths = [\n",
    "    \"dbfs:/FileStore/dataframes-api/dataset/Sales_August_2019.csv\",\n",
    "    \"dbfs:/FileStore/dataframes-api/dataset/Sales_April_2019.csv\",\n",
    "    \"dbfs:/FileStore/dataframes-api/dataset/Sales_December_2019.csv\",\n",
    "    \"dbfs:/FileStore/dataframes-api/dataset/Sales_February_2019.csv\",\n",
    "    \"dbfs:/FileStore/dataframes-api/dataset/Sales_January_2019.csv\",\n",
    "    \"dbfs:/FileStore/dataframes-api/dataset/Sales_July_2019.csv\",\n",
    "    \"dbfs:/FileStore/dataframes-api/dataset/Sales_June_2019.csv\",\n",
    "    \"dbfs:/FileStore/dataframes-api/dataset/Sales_March_2019.csv\",\n",
    "    \"dbfs:/FileStore/dataframes-api/dataset/Sales_May_2019.csv\",\n",
    "    \"dbfs:/FileStore/dataframes-api/dataset/Sales_November_2019.csv\",\n",
    "    \"dbfs:/FileStore/dataframes-api/dataset/Sales_October_2019.csv\",\n",
    "    \"dbfs:/FileStore/dataframes-api/dataset/Sales_September_2019.csv\"\n",
    "]\n",
    "\n",
    "# Leer todos los CSVs en un único DataFrame\n",
    "df = spark.read.option(\"header\", \"true\").csv(file_paths)\n",
    "\n",
    "# Medir el tiempo final\n",
    "t2 = time()\n",
    "# Imprimir el tiempo que tardó en leer el archivo\n",
    "print('Completed in %s sec.' % (str(t2 - t1)))\n",
    "\n",
    "# Mostrar las primeras filas para verificar que se cargaron correctamente\n",
    "df.show(10)\n"
   ]
  },
  {
   "cell_type": "markdown",
   "metadata": {
    "application/vnd.databricks.v1+cell": {
     "cellMetadata": {},
     "inputWidgets": {},
     "nuid": "5035fd12-1259-4a33-9707-c861e5a2ab63",
     "showTitle": false,
     "tableResultSettingsMap": {},
     "title": ""
    }
   },
   "source": [
    "b. Vuelve a realizar la lectura de los datos pero con el siguiente esquema:  \n",
    "  ```<python>\n",
    "  from pyspark.sql.types import StructType, StructField, StringType, IntegerType, DoubleType\n",
    "esquema = StructType([\n",
    "    StructField(\"Order ID\", IntegerType(), False),\n",
    "    StructField(\"Product\", StringType(), False),\n",
    "    StructField(\"Quantity Ordered\", IntegerType(), True),\n",
    "    StructField(\"Price Each\", DoubleType(), False),\n",
    "    StructField(\"Order Date\", StringType(), False),\n",
    "    StructField(\"Purchase Address\", StringType(), False)\n",
    "])\n",
    "  ```\n"
   ]
  },
  {
   "cell_type": "code",
   "execution_count": 0,
   "metadata": {
    "application/vnd.databricks.v1+cell": {
     "cellMetadata": {
      "byteLimit": 2048000,
      "rowLimit": 10000
     },
     "inputWidgets": {},
     "nuid": "0c3b92a7-d500-416f-a443-dafdfd05858b",
     "showTitle": false,
     "tableResultSettingsMap": {},
     "title": ""
    }
   },
   "outputs": [
    {
     "name": "stdout",
     "output_type": "stream",
     "text": [
      "Completed in 0.5329210758209229 sec.\n",
      "+--------+--------------------+----------------+----------+--------------+--------------------+\n",
      "|Order ID|             Product|Quantity Ordered|Price Each|    Order Date|    Purchase Address|\n",
      "+--------+--------------------+----------------+----------+--------------+--------------------+\n",
      "|  295665|  Macbook Pro Laptop|               1|    1700.0|12/30/19 00:01|136 Church St, Ne...|\n",
      "|  295666|  LG Washing Machine|               1|     600.0|12/29/19 07:03|562 2nd St, New Y...|\n",
      "|  295667|USB-C Charging Cable|               1|     11.95|12/12/19 18:21|277 Main St, New ...|\n",
      "|  295668|    27in FHD Monitor|               1|    149.99|12/22/19 15:13|410 6th St, San F...|\n",
      "|  295669|USB-C Charging Cable|               1|     11.95|12/18/19 12:38|43 Hill St, Atlan...|\n",
      "|  295670|AA Batteries (4-p...|               1|      3.84|12/31/19 22:58|200 Jefferson St,...|\n",
      "|  295671|USB-C Charging Cable|               1|     11.95|12/16/19 15:10|928 12th St, Port...|\n",
      "|  295672|USB-C Charging Cable|               2|     11.95|12/13/19 09:29|813 Hickory St, D...|\n",
      "|  295673|Bose SoundSport H...|               1|     99.99|12/15/19 23:26|718 Wilson St, Da...|\n",
      "|  295674|AAA Batteries (4-...|               4|      2.99|12/28/19 11:51|77 7th St, Dallas...|\n",
      "+--------+--------------------+----------------+----------+--------------+--------------------+\n",
      "only showing top 10 rows\n",
      "\n"
     ]
    }
   ],
   "source": [
    "from pyspark.sql.types import StructType, StructField, StringType, IntegerType, DoubleType\n",
    "from time import time\n",
    "\n",
    "# Controlar el tiempo que tarda\n",
    "t1 = time()\n",
    "\n",
    "# Definimos el esquema\n",
    "esquema = StructType([\n",
    "    StructField(\"Order ID\", IntegerType(), False),\n",
    "    StructField(\"Product\", StringType(), False),\n",
    "    StructField(\"Quantity Ordered\", IntegerType(), True),\n",
    "    StructField(\"Price Each\", DoubleType(), False),\n",
    "    StructField(\"Order Date\", StringType(), False),\n",
    "    StructField(\"Purchase Address\", StringType(), False)\n",
    "])\n",
    "\n",
    "# Leemos los datos con el esquema\n",
    "df_con_esquema = spark.read.option(\"header\", \"true\").schema(esquema).csv(file_paths)\n",
    "\n",
    "# Medir el tiempo final\n",
    "t2 = time()\n",
    "# Imprimir el tiempo que tardó en leer el archivo\n",
    "print('Completed in %s sec.' % (str(t2 - t1)))\n",
    "\n",
    "# Mostrar las primeras filas con el esquema aplicado\n",
    "df_con_esquema.show(10)\n"
   ]
  },
  {
   "cell_type": "markdown",
   "metadata": {
    "application/vnd.databricks.v1+cell": {
     "cellMetadata": {},
     "inputWidgets": {},
     "nuid": "3983a5b3-25b4-497a-a962-cf70382cf14b",
     "showTitle": false,
     "tableResultSettingsMap": {},
     "title": ""
    }
   },
   "source": [
    " c. Tras la lectura, vamos a realizar la limpieza de datos. El primer paso será renombrar la columnas para eliminar los espacios en blanco.  \n"
   ]
  },
  {
   "cell_type": "code",
   "execution_count": 0,
   "metadata": {
    "application/vnd.databricks.v1+cell": {
     "cellMetadata": {
      "byteLimit": 2048000,
      "rowLimit": 10000
     },
     "inputWidgets": {},
     "nuid": "5519caac-86b6-4d34-a274-31c985c682fc",
     "showTitle": false,
     "tableResultSettingsMap": {},
     "title": ""
    }
   },
   "outputs": [
    {
     "name": "stdout",
     "output_type": "stream",
     "text": [
      "+-------+--------------------+---------------+---------+--------------+--------------------+\n",
      "|OrderID|             Product|QuantityOrdered|PriceEach|     OrderDate|     PurchaseAddress|\n",
      "+-------+--------------------+---------------+---------+--------------+--------------------+\n",
      "| 295665|  Macbook Pro Laptop|              1|   1700.0|12/30/19 00:01|136 Church St, Ne...|\n",
      "| 295666|  LG Washing Machine|              1|    600.0|12/29/19 07:03|562 2nd St, New Y...|\n",
      "| 295667|USB-C Charging Cable|              1|    11.95|12/12/19 18:21|277 Main St, New ...|\n",
      "| 295668|    27in FHD Monitor|              1|   149.99|12/22/19 15:13|410 6th St, San F...|\n",
      "| 295669|USB-C Charging Cable|              1|    11.95|12/18/19 12:38|43 Hill St, Atlan...|\n",
      "| 295670|AA Batteries (4-p...|              1|     3.84|12/31/19 22:58|200 Jefferson St,...|\n",
      "| 295671|USB-C Charging Cable|              1|    11.95|12/16/19 15:10|928 12th St, Port...|\n",
      "| 295672|USB-C Charging Cable|              2|    11.95|12/13/19 09:29|813 Hickory St, D...|\n",
      "| 295673|Bose SoundSport H...|              1|    99.99|12/15/19 23:26|718 Wilson St, Da...|\n",
      "| 295674|AAA Batteries (4-...|              4|     2.99|12/28/19 11:51|77 7th St, Dallas...|\n",
      "+-------+--------------------+---------------+---------+--------------+--------------------+\n",
      "only showing top 10 rows\n",
      "\n"
     ]
    }
   ],
   "source": [
    "# Renombramos las columnas eliminando los espacios en blanco\n",
    "df_limpio = df_con_esquema\n",
    "for column in df_limpio.columns:\n",
    "    new_column_name = column.replace(\" \", \"\")  # Eliminamos los espacios\n",
    "    df_limpio = df_limpio.withColumnRenamed(column, new_column_name)\n",
    "\n",
    "# Verificamos el resultado\n",
    "df_limpio.show(10)\n"
   ]
  },
  {
   "cell_type": "markdown",
   "metadata": {
    "application/vnd.databricks.v1+cell": {
     "cellMetadata": {},
     "inputWidgets": {},
     "nuid": "7275f522-b973-4a25-9974-4bef237657b3",
     "showTitle": false,
     "tableResultSettingsMap": {},
     "title": ""
    }
   },
   "source": [
    "  d. Elimina las filas que contengan algún campo nulo.  "
   ]
  },
  {
   "cell_type": "code",
   "execution_count": 0,
   "metadata": {
    "application/vnd.databricks.v1+cell": {
     "cellMetadata": {
      "byteLimit": 2048000,
      "rowLimit": 10000
     },
     "inputWidgets": {},
     "nuid": "0768d808-94e1-48b9-9e35-7552e3a07292",
     "showTitle": false,
     "tableResultSettingsMap": {},
     "title": ""
    }
   },
   "outputs": [
    {
     "name": "stdout",
     "output_type": "stream",
     "text": [
      "+-------+--------------------+---------------+---------+--------------+--------------------+\n",
      "|OrderID|             Product|QuantityOrdered|PriceEach|     OrderDate|     PurchaseAddress|\n",
      "+-------+--------------------+---------------+---------+--------------+--------------------+\n",
      "| 295665|  Macbook Pro Laptop|              1|   1700.0|12/30/19 00:01|136 Church St, Ne...|\n",
      "| 295666|  LG Washing Machine|              1|    600.0|12/29/19 07:03|562 2nd St, New Y...|\n",
      "| 295667|USB-C Charging Cable|              1|    11.95|12/12/19 18:21|277 Main St, New ...|\n",
      "| 295668|    27in FHD Monitor|              1|   149.99|12/22/19 15:13|410 6th St, San F...|\n",
      "| 295669|USB-C Charging Cable|              1|    11.95|12/18/19 12:38|43 Hill St, Atlan...|\n",
      "| 295670|AA Batteries (4-p...|              1|     3.84|12/31/19 22:58|200 Jefferson St,...|\n",
      "| 295671|USB-C Charging Cable|              1|    11.95|12/16/19 15:10|928 12th St, Port...|\n",
      "| 295672|USB-C Charging Cable|              2|    11.95|12/13/19 09:29|813 Hickory St, D...|\n",
      "| 295673|Bose SoundSport H...|              1|    99.99|12/15/19 23:26|718 Wilson St, Da...|\n",
      "| 295674|AAA Batteries (4-...|              4|     2.99|12/28/19 11:51|77 7th St, Dallas...|\n",
      "+-------+--------------------+---------------+---------+--------------+--------------------+\n",
      "only showing top 10 rows\n",
      "\n"
     ]
    }
   ],
   "source": [
    "# Eliminamos las filas con valores nulos\n",
    "df_sin_nulls = df_limpio.dropna()\n",
    "\n",
    "# Verificamos el resultado\n",
    "df_sin_nulls.show(10)\n"
   ]
  },
  {
   "cell_type": "markdown",
   "metadata": {
    "application/vnd.databricks.v1+cell": {
     "cellMetadata": {},
     "inputWidgets": {},
     "nuid": "d3aec220-5864-49e5-ba69-de425a2656a5",
     "showTitle": false,
     "tableResultSettingsMap": {},
     "title": ""
    }
   },
   "source": [
    "e. Comprueba si las cabeceras de los archivos aparecen como datos del dataset (por ejemplo, un producto cuyo nombre sea Product). Si fuera el caso, elimina dichas filas.  \n",
    "  "
   ]
  },
  {
   "cell_type": "code",
   "execution_count": 0,
   "metadata": {
    "application/vnd.databricks.v1+cell": {
     "cellMetadata": {
      "byteLimit": 2048000,
      "rowLimit": 10000
     },
     "inputWidgets": {},
     "nuid": "db9dfbd3-d208-4dc1-8c30-d9f06c20c68c",
     "showTitle": false,
     "tableResultSettingsMap": {},
     "title": ""
    }
   },
   "outputs": [
    {
     "name": "stdout",
     "output_type": "stream",
     "text": [
      "+-------+--------------------+---------------+---------+--------------+--------------------+\n",
      "|OrderID|             Product|QuantityOrdered|PriceEach|     OrderDate|     PurchaseAddress|\n",
      "+-------+--------------------+---------------+---------+--------------+--------------------+\n",
      "| 295665|  Macbook Pro Laptop|              1|   1700.0|12/30/19 00:01|136 Church St, Ne...|\n",
      "| 295666|  LG Washing Machine|              1|    600.0|12/29/19 07:03|562 2nd St, New Y...|\n",
      "| 295667|USB-C Charging Cable|              1|    11.95|12/12/19 18:21|277 Main St, New ...|\n",
      "| 295668|    27in FHD Monitor|              1|   149.99|12/22/19 15:13|410 6th St, San F...|\n",
      "| 295669|USB-C Charging Cable|              1|    11.95|12/18/19 12:38|43 Hill St, Atlan...|\n",
      "| 295670|AA Batteries (4-p...|              1|     3.84|12/31/19 22:58|200 Jefferson St,...|\n",
      "| 295671|USB-C Charging Cable|              1|    11.95|12/16/19 15:10|928 12th St, Port...|\n",
      "| 295672|USB-C Charging Cable|              2|    11.95|12/13/19 09:29|813 Hickory St, D...|\n",
      "| 295673|Bose SoundSport H...|              1|    99.99|12/15/19 23:26|718 Wilson St, Da...|\n",
      "| 295674|AAA Batteries (4-...|              4|     2.99|12/28/19 11:51|77 7th St, Dallas...|\n",
      "+-------+--------------------+---------------+---------+--------------+--------------------+\n",
      "only showing top 10 rows\n",
      "\n"
     ]
    }
   ],
   "source": [
    "# Filtramos las filas que contienen los valores de las cabeceras\n",
    "df_filtrado = df_sin_nulls.filter(df_sin_nulls[\"Product\"] != \"Product\")\n",
    "\n",
    "# Verificamos el resultado\n",
    "df_filtrado.show(10)"
   ]
  },
  {
   "cell_type": "markdown",
   "metadata": {
    "application/vnd.databricks.v1+cell": {
     "cellMetadata": {},
     "inputWidgets": {},
     "nuid": "27d21cd2-8779-4425-a4e7-93c4f5e2ca1d",
     "showTitle": false,
     "tableResultSettingsMap": {},
     "title": ""
    }
   },
   "source": [
    "f. A partir del campo dirección, crea dos nuevas columnas para almacenar la ciudad (`City`) y el estado (`State`). Por ejemplo, para la dirección `136 Church St, New York City, NY 10001`, la ciudad es `New York City` y el estado es `NY`.  \n",
    " "
   ]
  },
  {
   "cell_type": "code",
   "execution_count": 0,
   "metadata": {
    "application/vnd.databricks.v1+cell": {
     "cellMetadata": {
      "byteLimit": 2048000,
      "rowLimit": 10000
     },
     "inputWidgets": {},
     "nuid": "c41a5c87-db86-4bfe-aa0a-18a884020c8a",
     "showTitle": false,
     "tableResultSettingsMap": {},
     "title": ""
    }
   },
   "outputs": [
    {
     "name": "stdout",
     "output_type": "stream",
     "text": [
      "+-------+----------+---------------+---------+----------+---------------+----------+-----+\n",
      "|OrderID|   Product|QuantityOrdered|PriceEach| OrderDate|PurchaseAddress|      City|State|\n",
      "+-------+----------+---------------+---------+----------+---------------+----------+-----+\n",
      "| 295665|Macbook...|              1|   1700.0|12/30/1...|     136 Chu...| New Yo...|   NY|\n",
      "| 295666|LG Wash...|              1|    600.0|12/29/1...|     562 2nd...| New Yo...|   NY|\n",
      "| 295667|USB-C C...|              1|    11.95|12/12/1...|     277 Mai...| New Yo...|   NY|\n",
      "| 295668|27in FH...|              1|   149.99|12/22/1...|     410 6th...| San Fr...|   CA|\n",
      "| 295669|USB-C C...|              1|    11.95|12/18/1...|     43 Hill...|   Atlanta|   GA|\n",
      "| 295670|AA Batt...|              1|     3.84|12/31/1...|     200 Jef...| New Yo...|   NY|\n",
      "| 295671|USB-C C...|              1|    11.95|12/16/1...|     928 12t...|  Portland|   OR|\n",
      "| 295672|USB-C C...|              2|    11.95|12/13/1...|     813 Hic...|    Dallas|   TX|\n",
      "| 295673|Bose So...|              1|    99.99|12/15/1...|     718 Wil...|    Dallas|   TX|\n",
      "| 295674|AAA Bat...|              4|     2.99|12/28/1...|     77 7th ...|    Dallas|   TX|\n",
      "+-------+----------+---------------+---------+----------+---------------+----------+-----+\n",
      "only showing top 10 rows\n",
      "\n"
     ]
    }
   ],
   "source": [
    "from pyspark.sql.functions import col, split\n",
    "\n",
    "# Crear columnas \"City\" y \"State\" a partir de \"PurchaseAddress\"\n",
    "df_con_ciudad_estado = df_filtrado.withColumn(\"City\", split(col(\"PurchaseAddress\"), \",\").getItem(1)) \\\n",
    "                                  .withColumn(\"State\", split(split(col(\"PurchaseAddress\"), \",\").getItem(2), \" \").getItem(1))\n",
    "\n",
    "# Mostrar el resultado\n",
    "df_con_ciudad_estado.show(10, truncate=10)\n"
   ]
  },
  {
   "cell_type": "markdown",
   "metadata": {
    "application/vnd.databricks.v1+cell": {
     "cellMetadata": {},
     "inputWidgets": {},
     "nuid": "09604664-4d55-4a56-a57d-cb28718f7ad4",
     "showTitle": false,
     "tableResultSettingsMap": {},
     "title": ""
    }
   },
   "source": [
    " g. Modifica el campo con la fecha del pedido para que su formato sea *timestamp*.  \n",
    " "
   ]
  },
  {
   "cell_type": "code",
   "execution_count": 0,
   "metadata": {
    "application/vnd.databricks.v1+cell": {
     "cellMetadata": {
      "byteLimit": 2048000,
      "rowLimit": 10000
     },
     "inputWidgets": {},
     "nuid": "98989ad3-e890-4395-b500-ed66b42c6f75",
     "showTitle": false,
     "tableResultSettingsMap": {},
     "title": ""
    }
   },
   "outputs": [
    {
     "name": "stdout",
     "output_type": "stream",
     "text": [
      "+-------+----------+---------------+---------+----------+---------------+----------+-----+\n",
      "|OrderID|   Product|QuantityOrdered|PriceEach| OrderDate|PurchaseAddress|      City|State|\n",
      "+-------+----------+---------------+---------+----------+---------------+----------+-----+\n",
      "| 295665|Macbook...|              1|   1700.0|2019-12...|     136 Chu...| New Yo...|   NY|\n",
      "| 295666|LG Wash...|              1|    600.0|2019-12...|     562 2nd...| New Yo...|   NY|\n",
      "| 295667|USB-C C...|              1|    11.95|2019-12...|     277 Mai...| New Yo...|   NY|\n",
      "| 295668|27in FH...|              1|   149.99|2019-12...|     410 6th...| San Fr...|   CA|\n",
      "| 295669|USB-C C...|              1|    11.95|2019-12...|     43 Hill...|   Atlanta|   GA|\n",
      "| 295670|AA Batt...|              1|     3.84|2019-12...|     200 Jef...| New Yo...|   NY|\n",
      "| 295671|USB-C C...|              1|    11.95|2019-12...|     928 12t...|  Portland|   OR|\n",
      "| 295672|USB-C C...|              2|    11.95|2019-12...|     813 Hic...|    Dallas|   TX|\n",
      "| 295673|Bose So...|              1|    99.99|2019-12...|     718 Wil...|    Dallas|   TX|\n",
      "| 295674|AAA Bat...|              4|     2.99|2019-12...|     77 7th ...|    Dallas|   TX|\n",
      "+-------+----------+---------------+---------+----------+---------------+----------+-----+\n",
      "only showing top 10 rows\n",
      "\n"
     ]
    }
   ],
   "source": [
    "from pyspark.sql.functions import to_timestamp\n",
    "\n",
    "# Convertir la fecha 'Order Date' a tipo timestamp con el formato adecuado\n",
    "df_con_timestamp = df_con_ciudad_estado.withColumn(\n",
    "    \"OrderDate\",\n",
    "    to_timestamp(col(\"OrderDate\"), \"MM/dd/yy HH:mm\")\n",
    ")\n",
    "\n",
    "# Verificamos el resultado\n",
    "df_con_timestamp.show(10, truncate=10)\n",
    "\n"
   ]
  },
  {
   "cell_type": "markdown",
   "metadata": {
    "application/vnd.databricks.v1+cell": {
     "cellMetadata": {},
     "inputWidgets": {},
     "nuid": "90ef1cfb-aaa3-4b3f-afca-696185bb2bdf",
     "showTitle": false,
     "tableResultSettingsMap": {},
     "title": ""
    }
   },
   "source": [
    " h. Sobre el campo anterior, crea dos nuevas columnas, con el mes (`Month`) y el año (`Year`) del pedido."
   ]
  },
  {
   "cell_type": "code",
   "execution_count": 0,
   "metadata": {
    "application/vnd.databricks.v1+cell": {
     "cellMetadata": {
      "byteLimit": 2048000,
      "rowLimit": 10000
     },
     "inputWidgets": {},
     "nuid": "d47bd64b-5475-4f8c-8450-42aa46827f17",
     "showTitle": false,
     "tableResultSettingsMap": {},
     "title": ""
    }
   },
   "outputs": [
    {
     "name": "stdout",
     "output_type": "stream",
     "text": [
      "+-------+----------+---------------+---------+----------+---------------+----------+-----+-----+----+\n",
      "|OrderID|   Product|QuantityOrdered|PriceEach| OrderDate|PurchaseAddress|      City|State|Month|Year|\n",
      "+-------+----------+---------------+---------+----------+---------------+----------+-----+-----+----+\n",
      "| 295665|Macbook...|              1|   1700.0|2019-12...|     136 Chu...| New Yo...|   NY|   12|2019|\n",
      "| 295666|LG Wash...|              1|    600.0|2019-12...|     562 2nd...| New Yo...|   NY|   12|2019|\n",
      "| 295667|USB-C C...|              1|    11.95|2019-12...|     277 Mai...| New Yo...|   NY|   12|2019|\n",
      "| 295668|27in FH...|              1|   149.99|2019-12...|     410 6th...| San Fr...|   CA|   12|2019|\n",
      "| 295669|USB-C C...|              1|    11.95|2019-12...|     43 Hill...|   Atlanta|   GA|   12|2019|\n",
      "| 295670|AA Batt...|              1|     3.84|2019-12...|     200 Jef...| New Yo...|   NY|   12|2019|\n",
      "| 295671|USB-C C...|              1|    11.95|2019-12...|     928 12t...|  Portland|   OR|   12|2019|\n",
      "| 295672|USB-C C...|              2|    11.95|2019-12...|     813 Hic...|    Dallas|   TX|   12|2019|\n",
      "| 295673|Bose So...|              1|    99.99|2019-12...|     718 Wil...|    Dallas|   TX|   12|2019|\n",
      "| 295674|AAA Bat...|              4|     2.99|2019-12...|     77 7th ...|    Dallas|   TX|   12|2019|\n",
      "+-------+----------+---------------+---------+----------+---------------+----------+-----+-----+----+\n",
      "only showing top 10 rows\n",
      "\n"
     ]
    }
   ],
   "source": [
    "from pyspark.sql.functions import month, year\n",
    "\n",
    "# Crear las columnas \"Month\" y \"Year\" a partir de \"Order Date\"\n",
    "df_final = df_con_timestamp.withColumn(\"Month\", month(col(\"OrderDate\"))) \\\n",
    "                           .withColumn(\"Year\", year(col(\"OrderDate\")))\n",
    "\n",
    "# Verificamos el resultado\n",
    "df_final.show(10, truncate=10)\n"
   ]
  },
  {
   "cell_type": "markdown",
   "metadata": {
    "application/vnd.databricks.v1+cell": {
     "cellMetadata": {},
     "inputWidgets": {},
     "nuid": "e36686f8-8b7d-415b-8c4c-02df523a05f2",
     "showTitle": false,
     "tableResultSettingsMap": {},
     "title": ""
    }
   },
   "source": [
    "En este proyecto, trabajamos con un dataset de ventas de 2019 de una tienda de tecnología, compuesto por múltiples archivos CSV. Comenzamos creando un DataFrame e infiriendo el esquema de los datos, seguido de una relectura con un esquema definido para garantizar tipos de datos adecuados. Posteriormente, realizamos varias etapas de limpieza: renombramos las columnas para eliminar espacios, eliminamos filas con valores nulos y filtramos posibles registros erróneos donde las cabeceras aparecían como datos. A continuación, extraímos la ciudad y el estado de la columna de dirección, creamos nuevas columnas de mes y año a partir de la fecha del pedido, y finalmente, convertimos el campo de fecha a formato timestamp para facilitar el análisis temporal. Estas transformaciones permitieron estructurar y limpiar los datos, dejándolos listos para un análisis más eficiente."
   ]
  },
  {
   "cell_type": "markdown",
   "metadata": {
    "application/vnd.databricks.v1+cell": {
     "cellMetadata": {
      "byteLimit": 2048000,
      "rowLimit": 10000
     },
     "inputWidgets": {},
     "nuid": "e814647a-7513-499f-8e84-137bca7852dc",
     "showTitle": false,
     "tableResultSettingsMap": {},
     "title": ""
    }
   },
   "source": [
    "### Extracción de Datos\n",
    "Una vez realizada la transformación de los datos, vamos a realizar su carga y extraer información, utilizando Spark SQL siempre que sea posible:  \n",
    "  a. Almacena los datos en formato *Parquet* en la carpeta `salesoutput` particionando los datos por año y mes. Tras ejecutar esta operación, comprueba en disco la estructura de archivos creada.  \n",
    "  "
   ]
  },
  {
   "cell_type": "code",
   "execution_count": 0,
   "metadata": {
    "application/vnd.databricks.v1+cell": {
     "cellMetadata": {
      "byteLimit": 2048000,
      "rowLimit": 10000
     },
     "inputWidgets": {},
     "nuid": "272c16f0-fa18-4d67-b3e4-c311af643f1b",
     "showTitle": false,
     "tableResultSettingsMap": {},
     "title": ""
    }
   },
   "outputs": [],
   "source": [
    "# Almacenar los datos en formato Parquet, particionando por año y mes\n",
    "df_final.write.partitionBy(\"Year\", \"Month\").parquet(\"/dbfs/salesoutput\")\n"
   ]
  },
  {
   "cell_type": "code",
   "execution_count": 0,
   "metadata": {
    "application/vnd.databricks.v1+cell": {
     "cellMetadata": {
      "byteLimit": 2048000,
      "rowLimit": 10000
     },
     "inputWidgets": {},
     "nuid": "4f324395-473d-40ea-ba37-d7d6bdf4d50f",
     "showTitle": false,
     "tableResultSettingsMap": {},
     "title": ""
    }
   },
   "outputs": [
    {
     "data": {
      "text/html": [
       "<style scoped>\n",
       "  .table-result-container {\n",
       "    max-height: 300px;\n",
       "    overflow: auto;\n",
       "  }\n",
       "  table, th, td {\n",
       "    border: 1px solid black;\n",
       "    border-collapse: collapse;\n",
       "  }\n",
       "  th, td {\n",
       "    padding: 5px;\n",
       "  }\n",
       "  th {\n",
       "    text-align: left;\n",
       "  }\n",
       "</style><div class='table-result-container'><table class='table-result'><thead style='background-color: white'><tr><th>path</th><th>name</th><th>size</th><th>modificationTime</th></tr></thead><tbody><tr><td>dbfs:/dbfs/salesoutput/Year=2019/Month=1/</td><td>Month=1/</td><td>0</td><td>0</td></tr><tr><td>dbfs:/dbfs/salesoutput/Year=2019/Month=10/</td><td>Month=10/</td><td>0</td><td>0</td></tr><tr><td>dbfs:/dbfs/salesoutput/Year=2019/Month=11/</td><td>Month=11/</td><td>0</td><td>0</td></tr><tr><td>dbfs:/dbfs/salesoutput/Year=2019/Month=12/</td><td>Month=12/</td><td>0</td><td>0</td></tr><tr><td>dbfs:/dbfs/salesoutput/Year=2019/Month=2/</td><td>Month=2/</td><td>0</td><td>0</td></tr><tr><td>dbfs:/dbfs/salesoutput/Year=2019/Month=3/</td><td>Month=3/</td><td>0</td><td>0</td></tr><tr><td>dbfs:/dbfs/salesoutput/Year=2019/Month=4/</td><td>Month=4/</td><td>0</td><td>0</td></tr><tr><td>dbfs:/dbfs/salesoutput/Year=2019/Month=5/</td><td>Month=5/</td><td>0</td><td>0</td></tr><tr><td>dbfs:/dbfs/salesoutput/Year=2019/Month=6/</td><td>Month=6/</td><td>0</td><td>0</td></tr><tr><td>dbfs:/dbfs/salesoutput/Year=2019/Month=7/</td><td>Month=7/</td><td>0</td><td>0</td></tr><tr><td>dbfs:/dbfs/salesoutput/Year=2019/Month=8/</td><td>Month=8/</td><td>0</td><td>0</td></tr><tr><td>dbfs:/dbfs/salesoutput/Year=2019/Month=9/</td><td>Month=9/</td><td>0</td><td>0</td></tr></tbody></table></div>"
      ]
     },
     "metadata": {
      "application/vnd.databricks.v1+output": {
       "addedWidgets": {},
       "aggData": [],
       "aggError": "",
       "aggOverflow": false,
       "aggSchema": [],
       "aggSeriesLimitReached": false,
       "aggType": "",
       "arguments": {},
       "columnCustomDisplayInfos": {},
       "data": [
        [
         "dbfs:/dbfs/salesoutput/Year=2019/Month=1/",
         "Month=1/",
         0,
         0
        ],
        [
         "dbfs:/dbfs/salesoutput/Year=2019/Month=10/",
         "Month=10/",
         0,
         0
        ],
        [
         "dbfs:/dbfs/salesoutput/Year=2019/Month=11/",
         "Month=11/",
         0,
         0
        ],
        [
         "dbfs:/dbfs/salesoutput/Year=2019/Month=12/",
         "Month=12/",
         0,
         0
        ],
        [
         "dbfs:/dbfs/salesoutput/Year=2019/Month=2/",
         "Month=2/",
         0,
         0
        ],
        [
         "dbfs:/dbfs/salesoutput/Year=2019/Month=3/",
         "Month=3/",
         0,
         0
        ],
        [
         "dbfs:/dbfs/salesoutput/Year=2019/Month=4/",
         "Month=4/",
         0,
         0
        ],
        [
         "dbfs:/dbfs/salesoutput/Year=2019/Month=5/",
         "Month=5/",
         0,
         0
        ],
        [
         "dbfs:/dbfs/salesoutput/Year=2019/Month=6/",
         "Month=6/",
         0,
         0
        ],
        [
         "dbfs:/dbfs/salesoutput/Year=2019/Month=7/",
         "Month=7/",
         0,
         0
        ],
        [
         "dbfs:/dbfs/salesoutput/Year=2019/Month=8/",
         "Month=8/",
         0,
         0
        ],
        [
         "dbfs:/dbfs/salesoutput/Year=2019/Month=9/",
         "Month=9/",
         0,
         0
        ]
       ],
       "datasetInfos": [],
       "dbfsResultPath": null,
       "isJsonSchema": true,
       "metadata": {
        "isDbfsCommandResult": false
       },
       "overflow": false,
       "plotOptions": {
        "customPlotOptions": {},
        "displayType": "table",
        "pivotAggregation": null,
        "pivotColumns": null,
        "xColumns": null,
        "yColumns": null
       },
       "removedWidgets": [],
       "schema": [
        {
         "metadata": "{}",
         "name": "path",
         "type": "\"string\""
        },
        {
         "metadata": "{}",
         "name": "name",
         "type": "\"string\""
        },
        {
         "metadata": "{}",
         "name": "size",
         "type": "\"long\""
        },
        {
         "metadata": "{}",
         "name": "modificationTime",
         "type": "\"long\""
        }
       ],
       "type": "table"
      }
     },
     "output_type": "display_data"
    }
   ],
   "source": [
    "%fs ls /dbfs/salesoutput/Year=2019/"
   ]
  },
  {
   "cell_type": "markdown",
   "metadata": {
    "application/vnd.databricks.v1+cell": {
     "cellMetadata": {},
     "inputWidgets": {},
     "nuid": "e3769da9-8152-413e-ba4d-72c689281b87",
     "showTitle": false,
     "tableResultSettingsMap": {},
     "title": ""
    }
   },
   "source": [
    "b. Sobre los datos almacenados, realiza una nueva lectura pero solo leyendo los datos de 2019 los cuales deberían estar almacenados en `./salesdataoutput/Year=2019`  \n",
    "  "
   ]
  },
  {
   "cell_type": "code",
   "execution_count": 0,
   "metadata": {
    "application/vnd.databricks.v1+cell": {
     "cellMetadata": {
      "byteLimit": 2048000,
      "rowLimit": 10000
     },
     "inputWidgets": {},
     "nuid": "99b4f8a9-db5c-46c0-8c43-232231cdb773",
     "showTitle": false,
     "tableResultSettingsMap": {},
     "title": ""
    }
   },
   "outputs": [
    {
     "name": "stdout",
     "output_type": "stream",
     "text": [
      "+-------+----------+---------------+---------+----------+---------------+----------+-----+-----+\n",
      "|OrderID|   Product|QuantityOrdered|PriceEach| OrderDate|PurchaseAddress|      City|State|Month|\n",
      "+-------+----------+---------------+---------+----------+---------------+----------+-----+-----+\n",
      "| 295665|Macbook...|              1|   1700.0|2019-12...|     136 Chu...| New Yo...|   NY|   12|\n",
      "| 295666|LG Wash...|              1|    600.0|2019-12...|     562 2nd...| New Yo...|   NY|   12|\n",
      "| 295667|USB-C C...|              1|    11.95|2019-12...|     277 Mai...| New Yo...|   NY|   12|\n",
      "| 295668|27in FH...|              1|   149.99|2019-12...|     410 6th...| San Fr...|   CA|   12|\n",
      "| 295669|USB-C C...|              1|    11.95|2019-12...|     43 Hill...|   Atlanta|   GA|   12|\n",
      "| 295670|AA Batt...|              1|     3.84|2019-12...|     200 Jef...| New Yo...|   NY|   12|\n",
      "| 295671|USB-C C...|              1|    11.95|2019-12...|     928 12t...|  Portland|   OR|   12|\n",
      "| 295672|USB-C C...|              2|    11.95|2019-12...|     813 Hic...|    Dallas|   TX|   12|\n",
      "| 295673|Bose So...|              1|    99.99|2019-12...|     718 Wil...|    Dallas|   TX|   12|\n",
      "| 295674|AAA Bat...|              4|     2.99|2019-12...|     77 7th ...|    Dallas|   TX|   12|\n",
      "+-------+----------+---------------+---------+----------+---------------+----------+-----+-----+\n",
      "only showing top 10 rows\n",
      "\n"
     ]
    }
   ],
   "source": [
    "# Leer solo los datos de 2019 desde el directorio particionado\n",
    "df_2019 = spark.read.parquet(\"/dbfs/salesoutput/Year=2019\")\n",
    "\n",
    "# Ver los registros para comprobar que los datos fueron cargados correctamente\n",
    "df_2019.show(10, truncate=10)\n"
   ]
  },
  {
   "cell_type": "markdown",
   "metadata": {
    "application/vnd.databricks.v1+cell": {
     "cellMetadata": {},
     "inputWidgets": {},
     "nuid": "c730e96f-0b40-4162-b47d-8fe261d64d0f",
     "showTitle": false,
     "tableResultSettingsMap": {},
     "title": ""
    }
   },
   "source": [
    "c. Averigua cual ha sido el mes que ha recaudado más. Para ello, deberás multiplicar el precio por la cantidad de unidades, y posteriormente, realizar alguna agregación. Sobre el resultado, crea un gráfico (usando matplotlib y seaborn) similar al siguiente:  \n",
    "  ![](/files/dataframes-api/images/2.png)  \n",
    "  \n",
    "   "
   ]
  },
  {
   "cell_type": "markdown",
   "metadata": {
    "application/vnd.databricks.v1+cell": {
     "cellMetadata": {},
     "inputWidgets": {},
     "nuid": "5d8ba70c-702b-4a2e-bb6f-20912f78a607",
     "showTitle": false,
     "tableResultSettingsMap": {},
     "title": ""
    }
   },
   "source": [
    "- Primero, vamos a calcular el total por producto multiplicando Price Each por Quantity Ordered."
   ]
  },
  {
   "cell_type": "code",
   "execution_count": 0,
   "metadata": {
    "application/vnd.databricks.v1+cell": {
     "cellMetadata": {
      "byteLimit": 2048000,
      "rowLimit": 10000
     },
     "inputWidgets": {},
     "nuid": "f1fa2718-65b3-49e4-90be-474045df6418",
     "showTitle": false,
     "tableResultSettingsMap": {},
     "title": ""
    }
   },
   "outputs": [
    {
     "name": "stdout",
     "output_type": "stream",
     "text": [
      "+----------+----------+---------------+---------+----------+\n",
      "| OrderDate|   Product|QuantityOrdered|PriceEach|TotalSales|\n",
      "+----------+----------+---------------+---------+----------+\n",
      "|2019-12...|Macbook...|              1|   1700.0|    1700.0|\n",
      "|2019-12...|LG Wash...|              1|    600.0|     600.0|\n",
      "|2019-12...|USB-C C...|              1|    11.95|     11.95|\n",
      "|2019-12...|27in FH...|              1|   149.99|    149.99|\n",
      "|2019-12...|USB-C C...|              1|    11.95|     11.95|\n",
      "|2019-12...|AA Batt...|              1|     3.84|      3.84|\n",
      "|2019-12...|USB-C C...|              1|    11.95|     11.95|\n",
      "|2019-12...|USB-C C...|              2|    11.95|      23.9|\n",
      "|2019-12...|Bose So...|              1|    99.99|     99.99|\n",
      "|2019-12...|AAA Bat...|              4|     2.99|     11.96|\n",
      "+----------+----------+---------------+---------+----------+\n",
      "only showing top 10 rows\n",
      "\n"
     ]
    }
   ],
   "source": [
    "from pyspark.sql.functions import col\n",
    "\n",
    "# Crear una nueva columna \"Total Sales\" multiplicando el precio por la cantidad de unidades\n",
    "df_2019_with_sales = df_2019.withColumn(\"TotalSales\", col(\"PriceEach\") * col(\"QuantityOrdered\"))\n",
    "\n",
    "# Ver los primeros 5 registros para comprobar la columna agregada\n",
    "df_2019_with_sales.select(\"OrderDate\", \"Product\", \"QuantityOrdered\", \"PriceEach\", \"TotalSales\").show(10, truncate=10)\n"
   ]
  },
  {
   "cell_type": "markdown",
   "metadata": {
    "application/vnd.databricks.v1+cell": {
     "cellMetadata": {},
     "inputWidgets": {},
     "nuid": "754e04ce-5315-4bce-8072-f2414e088e7f",
     "showTitle": false,
     "tableResultSettingsMap": {},
     "title": ""
    }
   },
   "source": [
    "- Ahora agruparemos los datos por mes (Month) y año (Year) y sumaremos las ventas totales de cada mes."
   ]
  },
  {
   "cell_type": "code",
   "execution_count": 0,
   "metadata": {
    "application/vnd.databricks.v1+cell": {
     "cellMetadata": {
      "byteLimit": 2048000,
      "rowLimit": 10000
     },
     "inputWidgets": {},
     "nuid": "b025ddcd-921e-4a42-9f6a-aaa447057b4d",
     "showTitle": false,
     "tableResultSettingsMap": {},
     "title": ""
    }
   },
   "outputs": [
    {
     "name": "stdout",
     "output_type": "stream",
     "text": [
      "+-----+------------------+\n",
      "|Month|        TotalSales|\n",
      "+-----+------------------+\n",
      "|    1|1813586.4399999138|\n",
      "|    2| 2202022.419999963|\n",
      "|    3|2807100.3800003603|\n",
      "|    4|3390670.2400007015|\n",
      "|    5| 3152606.750000546|\n",
      "|    6|2577802.2600001753|\n",
      "|    7|2647775.7600002377|\n",
      "|    8| 2244467.879999992|\n",
      "|    9| 2097560.129999891|\n",
      "|   10|3736726.8800009675|\n",
      "|   11|3199603.2000005865|\n",
      "|   12|  4613443.34000153|\n",
      "+-----+------------------+\n",
      "\n"
     ]
    }
   ],
   "source": [
    "# Agrupar por mes y año y sumar las ventas totales\n",
    "df_monthly_sales = df_2019_with_sales.groupBy(\"Month\").sum(\"TotalSales\").withColumnRenamed(\"sum(TotalSales)\", \"TotalSales\")\n",
    "\n",
    "# Ordenar los meses de manera ascendente\n",
    "df_monthly_sales = df_monthly_sales.orderBy(\"Month\")\n",
    "\n",
    "# Ver los primeros 5 registros para comprobar\n",
    "df_monthly_sales.show(12)\n"
   ]
  },
  {
   "cell_type": "markdown",
   "metadata": {
    "application/vnd.databricks.v1+cell": {
     "cellMetadata": {},
     "inputWidgets": {},
     "nuid": "02f3b623-12b5-46ff-b98b-9ba7acc111cd",
     "showTitle": false,
     "tableResultSettingsMap": {},
     "title": ""
    }
   },
   "source": [
    "- Creando el gráfico."
   ]
  },
  {
   "cell_type": "code",
   "execution_count": 0,
   "metadata": {
    "application/vnd.databricks.v1+cell": {
     "cellMetadata": {
      "byteLimit": 2048000,
      "rowLimit": 10000
     },
     "inputWidgets": {},
     "nuid": "2d6e23a2-0e57-4cd3-adea-f91cd23db44c",
     "showTitle": false,
     "tableResultSettingsMap": {},
     "title": ""
    }
   },
   "outputs": [
    {
     "data": {
      "image/png": "[encoded data removed]"
     },
     "metadata": {
      "application/vnd.databricks.v1+output": {
       "addedWidgets": {},
       "arguments": {},
       "data": "data:image/png;base64,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\n",
       "datasetInfos": [],
       "metadata": {},
       "removedWidgets": [],
       "type": "image"
      }
     },
     "output_type": "display_data"
    }
   ],
   "source": [
    "import matplotlib.pyplot as plt\n",
    "import seaborn as sns\n",
    "from matplotlib.ticker import FuncFormatter\n",
    "\n",
    "# Convertir el DataFrame de Spark a Pandas para usar seaborn\n",
    "df_monthly_sales_pd = df_monthly_sales.toPandas()\n",
    "\n",
    "# Crear un gráfico de barras usando seaborn\n",
    "plt.figure(figsize=(10, 6))\n",
    "sns.barplot(x=\"Month\", y=\"TotalSales\", data=df_monthly_sales_pd, palette=\"viridis\")\n",
    "\n",
    "# Formatear el eje Y para que muestre los números completos sin notación científica\n",
    "plt.gca().yaxis.set_major_formatter(FuncFormatter(lambda x, _: f'{x:,.0f}'))\n",
    "\n",
    "# Añadir títulos y etiquetas\n",
    "plt.title(\"Ventas totales por mes en 2019\", fontsize=16)\n",
    "plt.xlabel(\"Mes\", fontsize=12)\n",
    "plt.ylabel(\"Total de Ventas ($)\", fontsize=12)\n",
    "plt.xticks(rotation=45)  # Para hacer más legibles las etiquetas de los meses\n",
    "plt.show()\n",
    "\n"
   ]
  },
  {
   "cell_type": "markdown",
   "metadata": {
    "application/vnd.databricks.v1+cell": {
     "cellMetadata": {
      "byteLimit": 2048000,
      "rowLimit": 10000
     },
     "inputWidgets": {},
     "nuid": "b05a7cc3-7efc-42f0-b8a9-006c3f63e641",
     "showTitle": false,
     "tableResultSettingsMap": {},
     "title": ""
    }
   },
   "source": [
    "  d. Obtén un gráfico con las 10 ciudades que más unidades han vendido.  \n",
    "  ![](files/dataframes-api/images/3.png) "
   ]
  },
  {
   "cell_type": "code",
   "execution_count": 0,
   "metadata": {
    "application/vnd.databricks.v1+cell": {
     "cellMetadata": {
      "byteLimit": 2048000,
      "rowLimit": 10000
     },
     "inputWidgets": {},
     "nuid": "59e0e0ef-7851-4ebb-9407-85065b3d8932",
     "showTitle": false,
     "tableResultSettingsMap": {},
     "title": ""
    }
   },
   "outputs": [
    {
     "data": {
      "image/png": "[encoded data removed]"
     },
     "metadata": {
      "application/vnd.databricks.v1+output": {
       "addedWidgets": {},
       "arguments": {},
       "data": "data:image/png;base64,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\n",
       "datasetInfos": [],
       "metadata": {},
       "removedWidgets": [],
       "type": "image"
      }
     },
     "output_type": "display_data"
    }
   ],
   "source": [
    "from pyspark.sql.functions import col\n",
    "\n",
    "# Agrupar por ciudad y sumar las cantidades de unidades vendidas\n",
    "df_city_sales = df_con_ciudad_estado.groupBy(\"City\").sum(\"QuantityOrdered\").withColumnRenamed(\"sum(QuantityOrdered)\", \"TotalUnitsSold\")\n",
    "\n",
    "# Ordenar de mayor a menor cantidad de unidades vendidas y seleccionar las 10 principales\n",
    "df_top_10_cities = df_city_sales.orderBy(col(\"TotalUnitsSold\").desc()).limit(10)\n",
    "\n",
    "# Convertir a Pandas para usar seaborn y matplotlib\n",
    "df_top_10_cities_pd = df_top_10_cities.toPandas()\n",
    "\n",
    "# Crear un gráfico de barras usando seaborn\n",
    "plt.figure(figsize=(12, 6))\n",
    "sns.barplot(x=\"TotalUnitsSold\", y=\"City\", data=df_top_10_cities_pd, palette=\"viridis\")\n",
    "\n",
    "# Añadir títulos y etiquetas\n",
    "plt.title(\"Top 10 ciudades con más unidades vendidas en 2019\", fontsize=16)\n",
    "plt.xlabel(\"Total Unidades Vendidas\", fontsize=12)\n",
    "plt.ylabel(\"Ciudad\", fontsize=12)\n",
    "plt.show()\n"
   ]
  },
  {
   "cell_type": "markdown",
   "metadata": {
    "application/vnd.databricks.v1+cell": {
     "cellMetadata": {
      "byteLimit": 2048000,
      "rowLimit": 10000
     },
     "inputWidgets": {},
     "nuid": "d66a5f56-9c48-48ef-8e26-08a1d3af1d7f",
     "showTitle": false,
     "tableResultSettingsMap": {},
     "title": ""
    }
   },
   "source": [
    "e. Cantidad de pedidos por Horas en las que se ha realizado un pedido que contenía al menos dos productos:  \n",
    "![](files/dataframes-api/images/4.png) \n"
   ]
  },
  {
   "cell_type": "code",
   "execution_count": 0,
   "metadata": {
    "application/vnd.databricks.v1+cell": {
     "cellMetadata": {
      "byteLimit": 2048000,
      "rowLimit": 10000
     },
     "inputWidgets": {},
     "nuid": "72a43650-906a-4140-816d-2804d89ac089",
     "showTitle": false,
     "tableResultSettingsMap": {},
     "title": ""
    }
   },
   "outputs": [
    {
     "name": "stdout",
     "output_type": "stream",
     "text": [
      "+----+--------------+\n",
      "|Hour|NumberofOrders|\n",
      "+----+--------------+\n",
      "|  12|           984|\n",
      "|  22|           719|\n",
      "|   1|           187|\n",
      "|  13|           869|\n",
      "|   6|           211|\n",
      "|  16|           829|\n",
      "|   3|            52|\n",
      "|  20|           910|\n",
      "|   5|           119|\n",
      "|  19|          1035|\n",
      "+----+--------------+\n",
      "only showing top 10 rows\n",
      "\n"
     ]
    }
   ],
   "source": [
    "from pyspark.sql.functions import hour, col, count, split\n",
    "\n",
    "# Paso 1: Filtrar pedidos con al menos dos productos\n",
    "# Suponemos que la columna \"Order ID\" identifica un único pedido, y la columna \"Product\" se repite si hay más de un producto por pedido.\n",
    "df_filtered = df_2019_with_sales.groupBy(\"OrderID\").agg(count(\"Product\").alias(\"num_products\"))\n",
    "\n",
    "# Filtrar los pedidos que tienen al menos 2 productos\n",
    "df_filtered_with_multiple_products = df_filtered.filter(col(\"num_products\") >= 2)\n",
    "\n",
    "# Paso 2: Extraer la hora del pedido a partir del campo \"Order Date\"\n",
    "df_filtered_with_multiple_products_and_hour = df_filtered_with_multiple_products.join(\n",
    "    df_2019_with_sales, on=\"OrderID\", how=\"inner\"\n",
    ").withColumn(\"Hour\", hour(\"OrderDate\"))\n",
    "\n",
    "# Paso 3: Contar la cantidad de pedidos por hora\n",
    "df_orders_per_hour = df_filtered_with_multiple_products_and_hour.groupBy(\"Hour\").count().withColumnRenamed(\"count\", \"NumberofOrders\")\n",
    "\n",
    "# Ver los registros para comprobar\n",
    "df_orders_per_hour.show(10)\n"
   ]
  },
  {
   "cell_type": "code",
   "execution_count": 0,
   "metadata": {
    "application/vnd.databricks.v1+cell": {
     "cellMetadata": {
      "byteLimit": 2048000,
      "rowLimit": 10000
     },
     "inputWidgets": {},
     "nuid": "f381dfe9-9963-4dc0-a46b-455803bd055c",
     "showTitle": false,
     "tableResultSettingsMap": {},
     "title": ""
    }
   },
   "outputs": [
    {
     "data": {
      "image/png": "[encoded data removed]"
     },
     "metadata": {
      "application/vnd.databricks.v1+output": {
       "addedWidgets": {},
       "arguments": {},
       "data": "data:image/png;base64,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\n",
       "datasetInfos": [],
       "metadata": {},
       "removedWidgets": [],
       "type": "image"
      }
     },
     "output_type": "display_data"
    }
   ],
   "source": [
    "import matplotlib.pyplot as plt\n",
    "import seaborn as sns\n",
    "\n",
    "# Convertir a Pandas para usar seaborn y matplotlib\n",
    "df_orders_per_hour_pd = df_orders_per_hour.toPandas()\n",
    "\n",
    "# Crear un gráfico de línea continuo sin puntos\n",
    "plt.figure(figsize=(12, 6))\n",
    "sns.lineplot(x=\"Hour\", y=\"NumberofOrders\", data=df_orders_per_hour_pd, color=\"b\", linewidth=2)\n",
    "\n",
    "# Añadir títulos y etiquetas\n",
    "plt.title(\"Cantidad de pedidos por hora (con al menos 2 productos)\", fontsize=16)\n",
    "plt.xlabel(\"Hora del día\", fontsize=12)\n",
    "plt.ylabel(\"Número de pedidos\", fontsize=12)\n",
    "plt.xticks(range(24))  # Asegura que se muestren todas las horas del día\n",
    "plt.grid(True)  # Añadir una cuadrícula para mejor visualización\n",
    "plt.show()\n",
    "\n"
   ]
  },
  {
   "cell_type": "markdown",
   "metadata": {
    "application/vnd.databricks.v1+cell": {
     "cellMetadata": {
      "byteLimit": 2048000,
      "rowLimit": 10000
     },
     "inputWidgets": {},
     "nuid": "e4e315b8-41cc-4b5c-a22f-963696f33a2e",
     "showTitle": false,
     "tableResultSettingsMap": {},
     "title": ""
    }
   },
   "source": [
    "f. Listado con los productos del estado de NY que se han comprado a la vez, obteniendo un resultado similar a: \n",
    "``` \n",
    "+------------------------------------------------------------+-----+\n",
    "|Productos                                                   |count|\n",
    "+------------------------------------------------------------+-----+\n",
    "|[iPhone, Lightning Charging Cable]                          |126  |\n",
    "|[Google Phone, USB-C Charging Cable]                        |124  |\n",
    "|[Google Phone, Wired Headphones]                            |52   |\n",
    "...\n",
    "```"
   ]
  },
  {
   "cell_type": "code",
   "execution_count": 0,
   "metadata": {
    "application/vnd.databricks.v1+cell": {
     "cellMetadata": {
      "byteLimit": 2048000,
      "rowLimit": 10000
     },
     "inputWidgets": {},
     "nuid": "0ae696c5-4c44-4684-9f1f-c165782798c4",
     "showTitle": false,
     "tableResultSettingsMap": {},
     "title": ""
    }
   },
   "outputs": [
    {
     "name": "stdout",
     "output_type": "stream",
     "text": [
      "+------------------------------------------------------+-----+\n",
      "|Products                                              |count|\n",
      "+------------------------------------------------------+-----+\n",
      "|[iPhone, Lightning Charging Cable]                    |127  |\n",
      "|[Google Phone, USB-C Charging Cable]                  |124  |\n",
      "|[Google Phone, Wired Headphones]                      |52   |\n",
      "|[Vareebadd Phone, USB-C Charging Cable]               |49   |\n",
      "|[iPhone, Wired Headphones]                            |46   |\n",
      "|[iPhone, Apple Airpods Headphones]                    |43   |\n",
      "|[Google Phone, Bose SoundSport Headphones]            |23   |\n",
      "|[Vareebadd Phone, Wired Headphones]                   |17   |\n",
      "|[Apple Airpods Headphones, Wired Headphones]          |12   |\n",
      "|[Google Phone, USB-C Charging Cable, Wired Headphones]|11   |\n",
      "+------------------------------------------------------+-----+\n",
      "only showing top 10 rows\n",
      "\n"
     ]
    }
   ],
   "source": [
    "from pyspark.sql.functions import col, collect_list, size\n",
    "\n",
    "# Filtrar los pedidos que provienen del estado de NY\n",
    "df_ny_sales = df_con_ciudad_estado.filter(col(\"State\") == \"NY\")\n",
    "\n",
    "# Agrupar los productos por el mismo pedido (Order ID) y crear una lista de productos\n",
    "df_products_per_order = df_ny_sales.groupBy(\"OrderID\").agg(collect_list(\"Product\").alias(\"Products\"))\n",
    "\n",
    "# Filtrar los pedidos que contienen al menos dos productos\n",
    "df_filtered_products = df_products_per_order.filter(size(col(\"Products\")) >= 2)\n",
    "\n",
    "# Agrupar por la combinación de productos y contar cuántas veces se compraron juntos\n",
    "df_product_combinations = df_filtered_products.groupBy(\"Products\").count()\n",
    "\n",
    "# Ordenar de mayor a menor y mostrar los primeros resultados\n",
    "df_product_combinations_sorted = df_product_combinations.orderBy(col(\"count\").desc())\n",
    "\n",
    "# Mostrar los primeros 10 resultados\n",
    "df_product_combinations_sorted.show(10, truncate=False)\n"
   ]
  },
  {
   "cell_type": "markdown",
   "metadata": {
    "application/vnd.databricks.v1+cell": {
     "cellMetadata": {},
     "inputWidgets": {},
     "nuid": "4f75d1e8-c9a6-4101-b153-0cca2366f734",
     "showTitle": false,
     "tableResultSettingsMap": {},
     "title": ""
    }
   },
   "source": [
    "### Conclusión\n",
    "En este proyecto, se realizaron diversas tareas de transformación, limpieza y análisis de un conjunto de datos de ventas, utilizando Apache Spark. Primero, se cargaron y limpiaron los datos, asegurándose de que la información estuviera correctamente estructurada y sin valores nulos. Posteriormente, se extrajeron y crearon nuevas columnas como la ciudad y el estado a partir de las direcciones de compra, y se transformó el campo de fecha para que tuviera el formato adecuado. A continuación, se almacenaron los datos en formato Parquet, particionándolos por año y mes, lo que facilitó su posterior análisis. Se realizó una agregación para identificar el mes de mayores ingresos y se generaron gráficos para visualizar las ciudades con más unidades vendidas. Este proceso permitió obtener información valiosa sobre el comportamiento de las ventas, facilitando su análisis mediante herramientas visuales."
   ]
  }
 ],
 "metadata": {
  "application/vnd.databricks.v1+notebook": {
   "dashboards": [],
   "environmentMetadata": null,
   "language": "python",
   "notebookMetadata": {
    "mostRecentlyExecutedCommandWithImplicitDF": {
     "commandId": 1184696882508551,
     "dataframes": [
      "_sqldf"
     ]
    },
    "pythonIndentUnit": 2
   },
   "notebookName": "notebook",
   "widgets": {}
  },
  "language_info": {
   "name": "python"
  }
 },
 "nbformat": 4,
 "nbformat_minor": 0
}
